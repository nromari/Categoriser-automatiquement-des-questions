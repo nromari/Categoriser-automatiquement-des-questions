{
 "cells": [
  {
   "cell_type": "markdown",
   "id": "3ea552bc",
   "metadata": {},
   "source": [
    "# P5 : Catégorisez automatiquement des questions - Nettoyage et exploration des données"
   ]
  },
  {
   "cell_type": "code",
   "execution_count": 17,
   "id": "b1ae4490",
   "metadata": {},
   "outputs": [
    {
     "name": "stderr",
     "output_type": "stream",
     "text": [
      "[nltk_data] Downloading package punkt to\n",
      "[nltk_data]     C:\\Users\\n_a_e\\AppData\\Roaming\\nltk_data...\n",
      "[nltk_data]   Package punkt is already up-to-date!\n",
      "[nltk_data] Downloading package stopwords to\n",
      "[nltk_data]     C:\\Users\\n_a_e\\AppData\\Roaming\\nltk_data...\n",
      "[nltk_data]   Package stopwords is already up-to-date!\n"
     ]
    }
   ],
   "source": [
    "import numpy as np\n",
    "import pandas as pd\n",
    "import matplotlib.pyplot as plt\n",
    "import seaborn as sns\n",
    "import nltk\n",
    "from nltk.tokenize import sent_tokenize, word_tokenize\n",
    "nltk.download('punkt')\n",
    "from nltk.corpus import stopwords\n",
    "nltk.download('stopwords')\n",
    "from bs4 import BeautifulSoup"
   ]
  },
  {
   "cell_type": "markdown",
   "id": "369f23e8",
   "metadata": {},
   "source": [
    "## Importation et format des données "
   ]
  },
  {
   "cell_type": "raw",
   "id": "2fdfe379",
   "metadata": {},
   "source": [
    "J'importe les données via l'outils stack exchange selon les filtres suivants :\n",
    "SELECT TOP 500000 Title, Body, Tags, Id, Score, ViewCount, FavoriteCount, AnswerCount\n",
    "FROM Posts \n",
    "WHERE PostTypeId = 1 AND ViewCount > 0 AND FavoriteCount > 0 AND Score > 3 AND AnswerCount > 0 AND LEN(Tags) - LEN(REPLACE(Tags, '<','')) >= 0"
   ]
  },
  {
   "cell_type": "code",
   "execution_count": 2,
   "id": "acdfe1f6",
   "metadata": {},
   "outputs": [],
   "source": [
    "data = pd.read_csv('QueryResults.csv')"
   ]
  },
  {
   "cell_type": "code",
   "execution_count": 3,
   "id": "f5611c1f",
   "metadata": {},
   "outputs": [
    {
     "data": {
      "text/html": [
       "<div>\n",
       "<style scoped>\n",
       "    .dataframe tbody tr th:only-of-type {\n",
       "        vertical-align: middle;\n",
       "    }\n",
       "\n",
       "    .dataframe tbody tr th {\n",
       "        vertical-align: top;\n",
       "    }\n",
       "\n",
       "    .dataframe thead th {\n",
       "        text-align: right;\n",
       "    }\n",
       "</style>\n",
       "<table border=\"1\" class=\"dataframe\">\n",
       "  <thead>\n",
       "    <tr style=\"text-align: right;\">\n",
       "      <th></th>\n",
       "      <th>Title</th>\n",
       "      <th>Body</th>\n",
       "      <th>Tags</th>\n",
       "      <th>Id</th>\n",
       "      <th>Score</th>\n",
       "      <th>ViewCount</th>\n",
       "      <th>FavoriteCount</th>\n",
       "      <th>AnswerCount</th>\n",
       "    </tr>\n",
       "  </thead>\n",
       "  <tbody>\n",
       "    <tr>\n",
       "      <th>0</th>\n",
       "      <td>React-Native: Download Image from Firebase Sto...</td>\n",
       "      <td>&lt;p&gt;&lt;strong&gt;Pre-Informations:&lt;/strong&gt;&lt;/p&gt;\\n\\n&lt;...</td>\n",
       "      <td>&lt;javascript&gt;&lt;image&gt;&lt;firebase&gt;&lt;react-native&gt;&lt;fi...</td>\n",
       "      <td>39385219</td>\n",
       "      <td>5</td>\n",
       "      <td>12803</td>\n",
       "      <td>1</td>\n",
       "      <td>3</td>\n",
       "    </tr>\n",
       "    <tr>\n",
       "      <th>1</th>\n",
       "      <td>How to set Entity Framework Core migration tim...</td>\n",
       "      <td>&lt;p&gt;I'm using the latest (1.0.0) version of EF ...</td>\n",
       "      <td>&lt;c#&gt;&lt;entity-framework&gt;&lt;entity-framework-core&gt;</td>\n",
       "      <td>39006847</td>\n",
       "      <td>39</td>\n",
       "      <td>36435</td>\n",
       "      <td>3</td>\n",
       "      <td>6</td>\n",
       "    </tr>\n",
       "    <tr>\n",
       "      <th>2</th>\n",
       "      <td>gtk.StatusIcon and gtk.Menu on Windows</td>\n",
       "      <td>&lt;p&gt;I have a crossplatform app that has a gtk.S...</td>\n",
       "      <td>&lt;gtk&gt;&lt;pygtk&gt;</td>\n",
       "      <td>1138891</td>\n",
       "      <td>4</td>\n",
       "      <td>1390</td>\n",
       "      <td>1</td>\n",
       "      <td>3</td>\n",
       "    </tr>\n",
       "    <tr>\n",
       "      <th>3</th>\n",
       "      <td>How to create shared package.json for multiple...</td>\n",
       "      <td>&lt;p&gt;I am building my app using separated micro ...</td>\n",
       "      <td>&lt;node.js&gt;&lt;npm&gt;</td>\n",
       "      <td>39385269</td>\n",
       "      <td>14</td>\n",
       "      <td>12103</td>\n",
       "      <td>2</td>\n",
       "      <td>3</td>\n",
       "    </tr>\n",
       "    <tr>\n",
       "      <th>4</th>\n",
       "      <td>How to add draggable scrollbar to scrollview/l...</td>\n",
       "      <td>&lt;p&gt;I have a listView that uses a customListAda...</td>\n",
       "      <td>&lt;android&gt;&lt;android-listview&gt;&lt;scrollbar&gt;</td>\n",
       "      <td>18254370</td>\n",
       "      <td>9</td>\n",
       "      <td>6877</td>\n",
       "      <td>1</td>\n",
       "      <td>1</td>\n",
       "    </tr>\n",
       "  </tbody>\n",
       "</table>\n",
       "</div>"
      ],
      "text/plain": [
       "                                               Title  \\\n",
       "0  React-Native: Download Image from Firebase Sto...   \n",
       "1  How to set Entity Framework Core migration tim...   \n",
       "2             gtk.StatusIcon and gtk.Menu on Windows   \n",
       "3  How to create shared package.json for multiple...   \n",
       "4  How to add draggable scrollbar to scrollview/l...   \n",
       "\n",
       "                                                Body  \\\n",
       "0  <p><strong>Pre-Informations:</strong></p>\\n\\n<...   \n",
       "1  <p>I'm using the latest (1.0.0) version of EF ...   \n",
       "2  <p>I have a crossplatform app that has a gtk.S...   \n",
       "3  <p>I am building my app using separated micro ...   \n",
       "4  <p>I have a listView that uses a customListAda...   \n",
       "\n",
       "                                                Tags        Id  Score  \\\n",
       "0  <javascript><image><firebase><react-native><fi...  39385219      5   \n",
       "1      <c#><entity-framework><entity-framework-core>  39006847     39   \n",
       "2                                       <gtk><pygtk>   1138891      4   \n",
       "3                                     <node.js><npm>  39385269     14   \n",
       "4             <android><android-listview><scrollbar>  18254370      9   \n",
       "\n",
       "   ViewCount  FavoriteCount  AnswerCount  \n",
       "0      12803              1            3  \n",
       "1      36435              3            6  \n",
       "2       1390              1            3  \n",
       "3      12103              2            3  \n",
       "4       6877              1            1  "
      ]
     },
     "execution_count": 3,
     "metadata": {},
     "output_type": "execute_result"
    }
   ],
   "source": [
    "data.head()"
   ]
  },
  {
   "cell_type": "code",
   "execution_count": 4,
   "id": "2f3a4909",
   "metadata": {},
   "outputs": [
    {
     "data": {
      "text/plain": [
       "(50000, 8)"
      ]
     },
     "execution_count": 4,
     "metadata": {},
     "output_type": "execute_result"
    }
   ],
   "source": [
    "data.shape"
   ]
  },
  {
   "cell_type": "raw",
   "id": "6844616e",
   "metadata": {},
   "source": [
    "Je note que l'extraction via l'outils stack exchange est limité à 50000 lignes."
   ]
  },
  {
   "cell_type": "code",
   "execution_count": 5,
   "id": "31e62324",
   "metadata": {},
   "outputs": [
    {
     "name": "stdout",
     "output_type": "stream",
     "text": [
      "<class 'pandas.core.frame.DataFrame'>\n",
      "RangeIndex: 50000 entries, 0 to 49999\n",
      "Data columns (total 8 columns):\n",
      " #   Column         Non-Null Count  Dtype \n",
      "---  ------         --------------  ----- \n",
      " 0   Title          50000 non-null  object\n",
      " 1   Body           50000 non-null  object\n",
      " 2   Tags           50000 non-null  object\n",
      " 3   Id             50000 non-null  int64 \n",
      " 4   Score          50000 non-null  int64 \n",
      " 5   ViewCount      50000 non-null  int64 \n",
      " 6   FavoriteCount  50000 non-null  int64 \n",
      " 7   AnswerCount    50000 non-null  int64 \n",
      "dtypes: int64(5), object(3)\n",
      "memory usage: 3.1+ MB\n"
     ]
    }
   ],
   "source": [
    "data.info()"
   ]
  },
  {
   "cell_type": "code",
   "execution_count": 6,
   "id": "c5506622",
   "metadata": {},
   "outputs": [
    {
     "data": {
      "text/plain": [
       "Title            0.0\n",
       "Body             0.0\n",
       "Tags             0.0\n",
       "Id               0.0\n",
       "Score            0.0\n",
       "ViewCount        0.0\n",
       "FavoriteCount    0.0\n",
       "AnswerCount      0.0\n",
       "dtype: float64"
      ]
     },
     "execution_count": 6,
     "metadata": {},
     "output_type": "execute_result"
    }
   ],
   "source": [
    "data.isna().mean()"
   ]
  },
  {
   "cell_type": "raw",
   "id": "812d09d2",
   "metadata": {},
   "source": [
    "je transforme les données texte en string"
   ]
  },
  {
   "cell_type": "code",
   "execution_count": 7,
   "id": "316cc5dc",
   "metadata": {},
   "outputs": [],
   "source": [
    "data['Title'] = data['Title'].astype(str)"
   ]
  },
  {
   "cell_type": "code",
   "execution_count": 8,
   "id": "65650103",
   "metadata": {},
   "outputs": [],
   "source": [
    "data['Body'] = data['Body'].astype(str)"
   ]
  },
  {
   "cell_type": "code",
   "execution_count": 9,
   "id": "2c7c602e",
   "metadata": {},
   "outputs": [],
   "source": [
    "data['Tags'] = data['Tags'].astype(str)"
   ]
  },
  {
   "cell_type": "raw",
   "id": "029929eb",
   "metadata": {},
   "source": [
    "J'en visualise des extraits"
   ]
  },
  {
   "cell_type": "code",
   "execution_count": 10,
   "id": "b60d64de",
   "metadata": {},
   "outputs": [
    {
     "data": {
      "text/plain": [
       "0    React-Native: Download Image from Firebase Sto...\n",
       "1    How to set Entity Framework Core migration tim...\n",
       "2               gtk.StatusIcon and gtk.Menu on Windows\n",
       "3    How to create shared package.json for multiple...\n",
       "4    How to add draggable scrollbar to scrollview/l...\n",
       "5     How to set order of cipher suites for Jetty SSL?\n",
       "6    The TCP/IP connection to the host localhost, p...\n",
       "7    Workaround for lack of line width on Windows w...\n",
       "8    View doesn't start from bottom of status bar i...\n",
       "9      show process's full command line in powershell?\n",
       "Name: Title, dtype: object"
      ]
     },
     "execution_count": 10,
     "metadata": {},
     "output_type": "execute_result"
    }
   ],
   "source": [
    "data['Title'][:10]"
   ]
  },
  {
   "cell_type": "code",
   "execution_count": 11,
   "id": "0fed7687",
   "metadata": {},
   "outputs": [
    {
     "data": {
      "text/plain": [
       "0    <p><strong>Pre-Informations:</strong></p>\\n\\n<...\n",
       "1    <p>I'm using the latest (1.0.0) version of EF ...\n",
       "2    <p>I have a crossplatform app that has a gtk.S...\n",
       "3    <p>I am building my app using separated micro ...\n",
       "4    <p>I have a listView that uses a customListAda...\n",
       "5    <p>For serving my application I use Apache or ...\n",
       "6    <p>I'm getting this 2 errors repeatedly when I...\n",
       "7    <p>I'm trying to draw a rotating 3D coordinate...\n",
       "8    <p>When updating my app for iOS7, the UI is ap...\n",
       "9    <p>When I run this command</p>\\n\\n<p><code>PS ...\n",
       "Name: Body, dtype: object"
      ]
     },
     "execution_count": 11,
     "metadata": {},
     "output_type": "execute_result"
    }
   ],
   "source": [
    "data['Body'][:10]"
   ]
  },
  {
   "cell_type": "code",
   "execution_count": 12,
   "id": "758c546d",
   "metadata": {},
   "outputs": [
    {
     "data": {
      "text/plain": [
       "0    <javascript><image><firebase><react-native><fi...\n",
       "1        <c#><entity-framework><entity-framework-core>\n",
       "2                                         <gtk><pygtk>\n",
       "3                                       <node.js><npm>\n",
       "4               <android><android-listview><scrollbar>\n",
       "5                                   <java><ssl><jetty>\n",
       "6                    <java><sql-server><eclipse><jdbc>\n",
       "7                        <javascript><three.js><webgl>\n",
       "8                     <iphone><ios><objective-c><ios7>\n",
       "9                                         <powershell>\n",
       "Name: Tags, dtype: object"
      ]
     },
     "execution_count": 12,
     "metadata": {},
     "output_type": "execute_result"
    }
   ],
   "source": [
    "data['Tags'][:10]"
   ]
  },
  {
   "cell_type": "markdown",
   "id": "e0f728bd",
   "metadata": {},
   "source": [
    "## Nettoyage des données"
   ]
  },
  {
   "cell_type": "raw",
   "id": "5cb434d9",
   "metadata": {},
   "source": [
    "Les objectifs de ce projet necessitent d'ulitiser différentes approches pour la transformation des données textuelles en features exploitables. 2 types de méthodes seront donc utilisées :\n",
    "- La méthode classique par Bag of words, qui demande de multiples modifications en amont\n",
    "- La méthode par Embedding par Doc 2 vec et Sentense BERT qui nécessite peu de modification.\n",
    "Certaines étapes de nettoyages seront communes aux deux approches, et d'autres spécifiques au Bag of words;\n",
    "Il est nécessaire de préciser que les tags ne subiront aucune modification."
   ]
  },
  {
   "cell_type": "markdown",
   "id": "3559424c",
   "metadata": {},
   "source": [
    "### Etapes communes"
   ]
  },
  {
   "cell_type": "markdown",
   "id": "b4155b45",
   "metadata": {},
   "source": [
    "#### Suppression des duplicats"
   ]
  },
  {
   "cell_type": "code",
   "execution_count": 14,
   "id": "fa89787e",
   "metadata": {},
   "outputs": [
    {
     "name": "stdout",
     "output_type": "stream",
     "text": [
      "(50000, 8)\n",
      "(49997, 8)\n"
     ]
    }
   ],
   "source": [
    "print(data.shape)\n",
    "data.drop_duplicates(subset=['Title'], inplace =True)\n",
    "data.drop_duplicates(subset=['Body'], inplace =True)\n",
    "print(data.shape)"
   ]
  },
  {
   "cell_type": "raw",
   "id": "227a3cf5",
   "metadata": {},
   "source": [
    "A partir de là je décide de travailler sur une copie du jeu de données initiales"
   ]
  },
  {
   "cell_type": "code",
   "execution_count": 29,
   "id": "a077c62e",
   "metadata": {},
   "outputs": [],
   "source": [
    "data_c = data.copy()"
   ]
  },
  {
   "cell_type": "code",
   "execution_count": 30,
   "id": "941c21ab",
   "metadata": {},
   "outputs": [
    {
     "data": {
      "text/plain": [
       "(49997, 8)"
      ]
     },
     "execution_count": 30,
     "metadata": {},
     "output_type": "execute_result"
    }
   ],
   "source": [
    "data_c.shape"
   ]
  },
  {
   "cell_type": "markdown",
   "id": "d8e9b227",
   "metadata": {},
   "source": [
    "#### Suppression des balises html"
   ]
  },
  {
   "cell_type": "code",
   "execution_count": 31,
   "id": "cb74a9fc",
   "metadata": {},
   "outputs": [],
   "source": [
    "def sup_balise(sentence) :\n",
    "    return BeautifulSoup(sentence).get_text()"
   ]
  },
  {
   "cell_type": "code",
   "execution_count": 32,
   "id": "8a56f77a",
   "metadata": {},
   "outputs": [
    {
     "data": {
      "text/plain": [
       "0    React-Native: Download Image from Firebase Sto...\n",
       "1    How to set Entity Framework Core migration tim...\n",
       "2               gtk.StatusIcon and gtk.Menu on Windows\n",
       "3    How to create shared package.json for multiple...\n",
       "4    How to add draggable scrollbar to scrollview/l...\n",
       "Name: Title, dtype: object"
      ]
     },
     "execution_count": 32,
     "metadata": {},
     "output_type": "execute_result"
    }
   ],
   "source": [
    "data_c[\"Title\"] = data_c[\"Title\"].apply(sup_balise)\n",
    "data_c[\"Title\"].head()"
   ]
  },
  {
   "cell_type": "code",
   "execution_count": 33,
   "id": "1d5b98b0",
   "metadata": {},
   "outputs": [
    {
     "data": {
      "text/plain": [
       "0    Pre-Informations:\\nI still have a Firebase pro...\n",
       "1    I'm using the latest (1.0.0) version of EF Cor...\n",
       "2    I have a crossplatform app that has a gtk.Stat...\n",
       "3    I am building my app using separated micro ser...\n",
       "4    I have a listView that uses a customListAdapte...\n",
       "Name: Body, dtype: object"
      ]
     },
     "execution_count": 33,
     "metadata": {},
     "output_type": "execute_result"
    }
   ],
   "source": [
    "data_c[\"Body\"] = data_c[\"Body\"].apply(sup_balise)\n",
    "data_c[\"Body\"].head()"
   ]
  },
  {
   "cell_type": "markdown",
   "id": "77d0a528",
   "metadata": {},
   "source": [
    "#### Netoyage des tags"
   ]
  },
  {
   "cell_type": "raw",
   "id": "0fe70dcc",
   "metadata": {},
   "source": [
    "La seule modification des tags sera la suppression des > et < qui seront remplacés par des espaces."
   ]
  },
  {
   "cell_type": "code",
   "execution_count": 37,
   "id": "1a78aff0",
   "metadata": {},
   "outputs": [],
   "source": [
    "data_c['Tags'] = data_c.apply(lambda r :r['Tags'].replace('<', ' ').replace('>', ' ') , axis=1)"
   ]
  },
  {
   "cell_type": "code",
   "execution_count": 38,
   "id": "a63d5153",
   "metadata": {},
   "outputs": [
    {
     "data": {
      "text/plain": [
       "0     javascript  image  firebase  react-native  fi...\n",
       "1         c#  entity-framework  entity-framework-core \n",
       "2                                          gtk  pygtk \n",
       "3                                        node.js  npm \n",
       "4                android  android-listview  scrollbar \n",
       "Name: Tags, dtype: object"
      ]
     },
     "execution_count": 38,
     "metadata": {},
     "output_type": "execute_result"
    }
   ],
   "source": [
    "data_c['Tags'].head()"
   ]
  },
  {
   "cell_type": "markdown",
   "id": "cc49ffef",
   "metadata": {},
   "source": [
    "### Tokénisation"
   ]
  },
  {
   "cell_type": "code",
   "execution_count": 101,
   "id": "5422ff4c",
   "metadata": {},
   "outputs": [],
   "source": [
    "def tokenizer_fct(sentence) :\n",
    "    sentence_clean = sentence.replace('-', ' ').replace('<', ' ').replace('>', ' ').replace(\n",
    "        '.', ' ').replace('#', ' ').replace('/', ' ').replace(\"'\", '')\n",
    "    word_tokens = word_tokenize(sentence_clean)\n",
    "    return word_tokens"
   ]
  },
  {
   "cell_type": "code",
   "execution_count": 102,
   "id": "d9d12426",
   "metadata": {},
   "outputs": [
    {
     "data": {
      "text/plain": [
       "0    [C, Generics, wont, allow, Delegate, Type, Con...\n",
       "1    [How, do, you, get, a, directory, listing, in,...\n",
       "2                [Returning, DataTables, in, WCF, NET]\n",
       "3    [How, to, create, a, DataFrame, from, a, text,...\n",
       "4    [Whats, the, difference, between, struct, and,...\n",
       "Name: Title_t, dtype: object"
      ]
     },
     "execution_count": 102,
     "metadata": {},
     "output_type": "execute_result"
    }
   ],
   "source": [
    "data[\"Title_t\"] = data[\"Title\"].apply(tokenizer_fct)\n",
    "data[\"Title_t\"].head()"
   ]
  },
  {
   "cell_type": "code",
   "execution_count": 103,
   "id": "3cce0ac9",
   "metadata": {
    "scrolled": true
   },
   "outputs": [
    {
     "data": {
      "text/plain": [
       "0    [p, Is, it, possible, to, define, a, class, in...\n",
       "1    [p, How, do, you, scan, a, directory, for, fol...\n",
       "2    [p, I, have, a, WCF, service, from, which, I, ...\n",
       "3    [p, I, have, a, text, file, on, HDFS, and, I, ...\n",
       "4    [p, Whats, the, difference, between, struct, a...\n",
       "Name: Body_t, dtype: object"
      ]
     },
     "execution_count": 103,
     "metadata": {},
     "output_type": "execute_result"
    }
   ],
   "source": [
    "data[\"Body_t\"] = data[\"Body\"].apply(tokenizer_fct)\n",
    "data[\"Body_t\"].head()"
   ]
  },
  {
   "cell_type": "code",
   "execution_count": 104,
   "id": "adf7db52",
   "metadata": {},
   "outputs": [
    {
     "data": {
      "text/plain": [
       "0        [c, generics, events, delegates, constraints]\n",
       "1    [c, file, directory, cross, platform, common, ...\n",
       "2              [c, net, wcf, web, services, datatable]\n",
       "3    [scala, apache, spark, dataframe, apache, spar...\n",
       "4    [net, class, struct, value, type, reference, t...\n",
       "Name: Tags_t, dtype: object"
      ]
     },
     "execution_count": 104,
     "metadata": {},
     "output_type": "execute_result"
    }
   ],
   "source": [
    "data[\"Tags_t\"] = data[\"Tags\"].apply(tokenizer_fct)\n",
    "data[\"Tags_t\"].head()"
   ]
  },
  {
   "cell_type": "markdown",
   "id": "989e83be",
   "metadata": {},
   "source": [
    "### Normalisation"
   ]
  },
  {
   "cell_type": "markdown",
   "id": "109a0201",
   "metadata": {},
   "source": [
    "#### Suppression des mots vides"
   ]
  },
  {
   "cell_type": "raw",
   "id": "633d1b16",
   "metadata": {},
   "source": [
    "Je ne traite pas ici les tags pour ne pas perdre de l'information."
   ]
  },
  {
   "cell_type": "code",
   "execution_count": 105,
   "id": "481d00ef",
   "metadata": {},
   "outputs": [],
   "source": [
    "stop_w = list(set(stopwords.words('english'))) + ['[', ']', ',', '.', ':', '?', '(', ')', '/', '<', '>', '#', '-', '_', \"''\"]\n",
    "\n",
    "def stop_word_filter(list_words) :\n",
    "    filtered_w1 = [w for w in list_words if not w in stop_w]\n",
    "    filtered_w2 = [w for w in filtered_w1 if len(w) > 2]\n",
    "    return filtered_w2"
   ]
  },
  {
   "cell_type": "code",
   "execution_count": 106,
   "id": "37bd198c",
   "metadata": {},
   "outputs": [
    {
     "data": {
      "text/plain": [
       "0    [Generics, wont, allow, Delegate, Type, Constr...\n",
       "1                       [How, get, directory, listing]\n",
       "2                    [Returning, DataTables, WCF, NET]\n",
       "3          [How, create, DataFrame, text, file, Spark]\n",
       "4              [Whats, difference, struct, class, NET]\n",
       "Name: Title_w, dtype: object"
      ]
     },
     "execution_count": 106,
     "metadata": {},
     "output_type": "execute_result"
    }
   ],
   "source": [
    "data[\"Title_w\"] = data[\"Title_t\"].apply(stop_word_filter)\n",
    "data[\"Title_w\"].head()"
   ]
  },
  {
   "cell_type": "code",
   "execution_count": 107,
   "id": "9b4ceeeb",
   "metadata": {},
   "outputs": [
    {
     "data": {
      "text/plain": [
       "0    [possible, define, class, pre, code, class, Ge...\n",
       "1    [How, scan, directory, folders, files, needs, ...\n",
       "2    [WCF, service, want, return, DataTable, know, ...\n",
       "3    [text, file, HDFS, want, convert, Data, Frame,...\n",
       "4              [Whats, difference, struct, class, NET]\n",
       "Name: Body_w, dtype: object"
      ]
     },
     "execution_count": 107,
     "metadata": {},
     "output_type": "execute_result"
    }
   ],
   "source": [
    "data[\"Body_w\"] = data[\"Body_t\"].apply(stop_word_filter)\n",
    "data[\"Body_w\"].head()"
   ]
  },
  {
   "cell_type": "code",
   "execution_count": 110,
   "id": "a5c624eb",
   "metadata": {},
   "outputs": [
    {
     "data": {
      "text/html": [
       "<div>\n",
       "<style scoped>\n",
       "    .dataframe tbody tr th:only-of-type {\n",
       "        vertical-align: middle;\n",
       "    }\n",
       "\n",
       "    .dataframe tbody tr th {\n",
       "        vertical-align: top;\n",
       "    }\n",
       "\n",
       "    .dataframe thead th {\n",
       "        text-align: right;\n",
       "    }\n",
       "</style>\n",
       "<table border=\"1\" class=\"dataframe\">\n",
       "  <thead>\n",
       "    <tr style=\"text-align: right;\">\n",
       "      <th></th>\n",
       "      <th>Title</th>\n",
       "      <th>Body</th>\n",
       "      <th>Tags</th>\n",
       "      <th>Id</th>\n",
       "      <th>Score</th>\n",
       "      <th>ViewCount</th>\n",
       "      <th>FavoriteCount</th>\n",
       "      <th>AnswerCount</th>\n",
       "      <th>Title_t</th>\n",
       "      <th>Body_t</th>\n",
       "      <th>Tags_t</th>\n",
       "      <th>Title_w</th>\n",
       "      <th>Body_w</th>\n",
       "    </tr>\n",
       "  </thead>\n",
       "  <tbody>\n",
       "    <tr>\n",
       "      <th>0</th>\n",
       "      <td>C# Generics won't allow Delegate Type Constraints</td>\n",
       "      <td>&lt;p&gt;Is it possible to define a class in C# such...</td>\n",
       "      <td>&lt;c#&gt;&lt;generics&gt;&lt;events&gt;&lt;delegates&gt;&lt;constraints&gt;</td>\n",
       "      <td>191940</td>\n",
       "      <td>81</td>\n",
       "      <td>29837</td>\n",
       "      <td>12</td>\n",
       "      <td>8</td>\n",
       "      <td>[C, Generics, wont, allow, Delegate, Type, Con...</td>\n",
       "      <td>[p, Is, it, possible, to, define, a, class, in...</td>\n",
       "      <td>[c, generics, events, delegates, constraints]</td>\n",
       "      <td>[Generics, wont, allow, Delegate, Type, Constr...</td>\n",
       "      <td>[possible, define, class, pre, code, class, Ge...</td>\n",
       "    </tr>\n",
       "    <tr>\n",
       "      <th>1</th>\n",
       "      <td>How do you get a directory listing in C?</td>\n",
       "      <td>&lt;p&gt;How do you scan a directory for folders and...</td>\n",
       "      <td>&lt;c&gt;&lt;file&gt;&lt;directory&gt;&lt;cross-platform&gt;&lt;common-ta...</td>\n",
       "      <td>12489</td>\n",
       "      <td>69</td>\n",
       "      <td>139075</td>\n",
       "      <td>22</td>\n",
       "      <td>9</td>\n",
       "      <td>[How, do, you, get, a, directory, listing, in,...</td>\n",
       "      <td>[p, How, do, you, scan, a, directory, for, fol...</td>\n",
       "      <td>[c, file, directory, cross, platform, common, ...</td>\n",
       "      <td>[How, get, directory, listing]</td>\n",
       "      <td>[How, scan, directory, folders, files, needs, ...</td>\n",
       "    </tr>\n",
       "    <tr>\n",
       "      <th>2</th>\n",
       "      <td>Returning DataTables in WCF/.NET</td>\n",
       "      <td>&lt;p&gt;I have a WCF service from which I want to r...</td>\n",
       "      <td>&lt;c#&gt;&lt;.net&gt;&lt;wcf&gt;&lt;web-services&gt;&lt;datatable&gt;</td>\n",
       "      <td>12702</td>\n",
       "      <td>51</td>\n",
       "      <td>56460</td>\n",
       "      <td>12</td>\n",
       "      <td>8</td>\n",
       "      <td>[Returning, DataTables, in, WCF, NET]</td>\n",
       "      <td>[p, I, have, a, WCF, service, from, which, I, ...</td>\n",
       "      <td>[c, net, wcf, web, services, datatable]</td>\n",
       "      <td>[Returning, DataTables, WCF, NET]</td>\n",
       "      <td>[WCF, service, want, return, DataTable, know, ...</td>\n",
       "    </tr>\n",
       "    <tr>\n",
       "      <th>3</th>\n",
       "      <td>How to create a DataFrame from a text file in ...</td>\n",
       "      <td>&lt;p&gt;I have a text file on HDFS and I want to co...</td>\n",
       "      <td>&lt;scala&gt;&lt;apache-spark&gt;&lt;dataframe&gt;&lt;apache-spark-...</td>\n",
       "      <td>36766322</td>\n",
       "      <td>21</td>\n",
       "      <td>168246</td>\n",
       "      <td>12</td>\n",
       "      <td>8</td>\n",
       "      <td>[How, to, create, a, DataFrame, from, a, text,...</td>\n",
       "      <td>[p, I, have, a, text, file, on, HDFS, and, I, ...</td>\n",
       "      <td>[scala, apache, spark, dataframe, apache, spar...</td>\n",
       "      <td>[How, create, DataFrame, text, file, Spark]</td>\n",
       "      <td>[text, file, HDFS, want, convert, Data, Frame,...</td>\n",
       "    </tr>\n",
       "    <tr>\n",
       "      <th>4</th>\n",
       "      <td>What's the difference between struct and class...</td>\n",
       "      <td>&lt;p&gt;What's the difference between struct and cl...</td>\n",
       "      <td>&lt;.net&gt;&lt;class&gt;&lt;struct&gt;&lt;value-type&gt;&lt;reference-type&gt;</td>\n",
       "      <td>13049</td>\n",
       "      <td>847</td>\n",
       "      <td>471969</td>\n",
       "      <td>297</td>\n",
       "      <td>19</td>\n",
       "      <td>[Whats, the, difference, between, struct, and,...</td>\n",
       "      <td>[p, Whats, the, difference, between, struct, a...</td>\n",
       "      <td>[net, class, struct, value, type, reference, t...</td>\n",
       "      <td>[Whats, difference, struct, class, NET]</td>\n",
       "      <td>[Whats, difference, struct, class, NET]</td>\n",
       "    </tr>\n",
       "  </tbody>\n",
       "</table>\n",
       "</div>"
      ],
      "text/plain": [
       "                                               Title  \\\n",
       "0  C# Generics won't allow Delegate Type Constraints   \n",
       "1           How do you get a directory listing in C?   \n",
       "2                   Returning DataTables in WCF/.NET   \n",
       "3  How to create a DataFrame from a text file in ...   \n",
       "4  What's the difference between struct and class...   \n",
       "\n",
       "                                                Body  \\\n",
       "0  <p>Is it possible to define a class in C# such...   \n",
       "1  <p>How do you scan a directory for folders and...   \n",
       "2  <p>I have a WCF service from which I want to r...   \n",
       "3  <p>I have a text file on HDFS and I want to co...   \n",
       "4  <p>What's the difference between struct and cl...   \n",
       "\n",
       "                                                Tags        Id  Score  \\\n",
       "0     <c#><generics><events><delegates><constraints>    191940     81   \n",
       "1  <c><file><directory><cross-platform><common-ta...     12489     69   \n",
       "2           <c#><.net><wcf><web-services><datatable>     12702     51   \n",
       "3  <scala><apache-spark><dataframe><apache-spark-...  36766322     21   \n",
       "4  <.net><class><struct><value-type><reference-type>     13049    847   \n",
       "\n",
       "   ViewCount  FavoriteCount  AnswerCount  \\\n",
       "0      29837             12            8   \n",
       "1     139075             22            9   \n",
       "2      56460             12            8   \n",
       "3     168246             12            8   \n",
       "4     471969            297           19   \n",
       "\n",
       "                                             Title_t  \\\n",
       "0  [C, Generics, wont, allow, Delegate, Type, Con...   \n",
       "1  [How, do, you, get, a, directory, listing, in,...   \n",
       "2              [Returning, DataTables, in, WCF, NET]   \n",
       "3  [How, to, create, a, DataFrame, from, a, text,...   \n",
       "4  [Whats, the, difference, between, struct, and,...   \n",
       "\n",
       "                                              Body_t  \\\n",
       "0  [p, Is, it, possible, to, define, a, class, in...   \n",
       "1  [p, How, do, you, scan, a, directory, for, fol...   \n",
       "2  [p, I, have, a, WCF, service, from, which, I, ...   \n",
       "3  [p, I, have, a, text, file, on, HDFS, and, I, ...   \n",
       "4  [p, Whats, the, difference, between, struct, a...   \n",
       "\n",
       "                                              Tags_t  \\\n",
       "0      [c, generics, events, delegates, constraints]   \n",
       "1  [c, file, directory, cross, platform, common, ...   \n",
       "2            [c, net, wcf, web, services, datatable]   \n",
       "3  [scala, apache, spark, dataframe, apache, spar...   \n",
       "4  [net, class, struct, value, type, reference, t...   \n",
       "\n",
       "                                             Title_w  \\\n",
       "0  [Generics, wont, allow, Delegate, Type, Constr...   \n",
       "1                     [How, get, directory, listing]   \n",
       "2                  [Returning, DataTables, WCF, NET]   \n",
       "3        [How, create, DataFrame, text, file, Spark]   \n",
       "4            [Whats, difference, struct, class, NET]   \n",
       "\n",
       "                                              Body_w  \n",
       "0  [possible, define, class, pre, code, class, Ge...  \n",
       "1  [How, scan, directory, folders, files, needs, ...  \n",
       "2  [WCF, service, want, return, DataTable, know, ...  \n",
       "3  [text, file, HDFS, want, convert, Data, Frame,...  \n",
       "4            [Whats, difference, struct, class, NET]  "
      ]
     },
     "execution_count": 110,
     "metadata": {},
     "output_type": "execute_result"
    }
   ],
   "source": [
    "data.head()"
   ]
  }
 ],
 "metadata": {
  "kernelspec": {
   "display_name": "Python 3 (ipykernel)",
   "language": "python",
   "name": "python3"
  },
  "language_info": {
   "codemirror_mode": {
    "name": "ipython",
    "version": 3
   },
   "file_extension": ".py",
   "mimetype": "text/x-python",
   "name": "python",
   "nbconvert_exporter": "python",
   "pygments_lexer": "ipython3",
   "version": "3.10.4"
  }
 },
 "nbformat": 4,
 "nbformat_minor": 5
}
