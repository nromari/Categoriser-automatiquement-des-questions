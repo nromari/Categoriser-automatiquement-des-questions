{
 "cells": [
  {
   "cell_type": "markdown",
   "id": "3ea552bc",
   "metadata": {},
   "source": [
    "# P5 : Catégorisez automatiquement des questions - Nettoyage et exploration des données (EDA)"
   ]
  },
  {
   "cell_type": "code",
   "execution_count": 57,
   "id": "b1ae4490",
   "metadata": {},
   "outputs": [
    {
     "name": "stderr",
     "output_type": "stream",
     "text": [
      "[nltk_data] Downloading package punkt to\n",
      "[nltk_data]     C:\\Users\\n_a_e\\AppData\\Roaming\\nltk_data...\n",
      "[nltk_data]   Package punkt is already up-to-date!\n",
      "[nltk_data] Downloading package stopwords to\n",
      "[nltk_data]     C:\\Users\\n_a_e\\AppData\\Roaming\\nltk_data...\n",
      "[nltk_data]   Package stopwords is already up-to-date!\n",
      "[nltk_data] Downloading package wordnet to\n",
      "[nltk_data]     C:\\Users\\n_a_e\\AppData\\Roaming\\nltk_data...\n",
      "[nltk_data]   Package wordnet is already up-to-date!\n",
      "[nltk_data] Downloading package omw-1.4 to\n",
      "[nltk_data]     C:\\Users\\n_a_e\\AppData\\Roaming\\nltk_data...\n",
      "[nltk_data]   Package omw-1.4 is already up-to-date!\n"
     ]
    }
   ],
   "source": [
    "import numpy as np\n",
    "import pandas as pd\n",
    "import matplotlib.pyplot as plt\n",
    "import seaborn as sns\n",
    "import nltk\n",
    "from nltk.tokenize import sent_tokenize, word_tokenize\n",
    "nltk.download('punkt')\n",
    "from nltk.corpus import stopwords\n",
    "nltk.download('stopwords')\n",
    "from bs4 import BeautifulSoup\n",
    "from collections import Counter as count\n",
    "import matplotlib.pylab as plt\n",
    "nltk.download('wordnet')\n",
    "nltk.download('omw-1.4')\n",
    "from nltk.stem.wordnet import WordNetLemmatizer\n",
    "import gensim.corpora as corpora\n",
    "from math import log"
   ]
  },
  {
   "cell_type": "markdown",
   "id": "369f23e8",
   "metadata": {},
   "source": [
    "## Importation et format des données "
   ]
  },
  {
   "cell_type": "raw",
   "id": "08924565",
   "metadata": {},
   "source": [
    "J'importe les données via l'outils stack exchange selon les filtres suivants :\n",
    "SELECT TOP 500000 Title, Body, Tags, Id, Score, ViewCount, FavoriteCount, AnswerCount\n",
    "FROM Posts \n",
    "WHERE PostTypeId = 1 AND ViewCount > 0 AND FavoriteCount > 0 AND Score > 3 AND AnswerCount > 3 AND LEN(Tags) - LEN(REPLACE(Tags, '<','')) > 0"
   ]
  },
  {
   "cell_type": "code",
   "execution_count": 3,
   "id": "acdfe1f6",
   "metadata": {},
   "outputs": [],
   "source": [
    "data = pd.read_csv('QueryResults.csv')"
   ]
  },
  {
   "cell_type": "code",
   "execution_count": 4,
   "id": "f5611c1f",
   "metadata": {},
   "outputs": [
    {
     "data": {
      "text/html": [
       "<div>\n",
       "<style scoped>\n",
       "    .dataframe tbody tr th:only-of-type {\n",
       "        vertical-align: middle;\n",
       "    }\n",
       "\n",
       "    .dataframe tbody tr th {\n",
       "        vertical-align: top;\n",
       "    }\n",
       "\n",
       "    .dataframe thead th {\n",
       "        text-align: right;\n",
       "    }\n",
       "</style>\n",
       "<table border=\"1\" class=\"dataframe\">\n",
       "  <thead>\n",
       "    <tr style=\"text-align: right;\">\n",
       "      <th></th>\n",
       "      <th>Title</th>\n",
       "      <th>Body</th>\n",
       "      <th>Tags</th>\n",
       "      <th>Id</th>\n",
       "      <th>Score</th>\n",
       "      <th>ViewCount</th>\n",
       "      <th>FavoriteCount</th>\n",
       "      <th>AnswerCount</th>\n",
       "    </tr>\n",
       "  </thead>\n",
       "  <tbody>\n",
       "    <tr>\n",
       "      <th>0</th>\n",
       "      <td>What is the Reason large sites don't use MySQL...</td>\n",
       "      <td>&lt;p&gt;I have read &lt;a href=\"http://highscalability...</td>\n",
       "      <td>&lt;asp.net&gt;&lt;sql&gt;&lt;mysql&gt;&lt;sql-server&gt;&lt;scalability&gt;</td>\n",
       "      <td>2557405</td>\n",
       "      <td>24</td>\n",
       "      <td>8000</td>\n",
       "      <td>9</td>\n",
       "      <td>14</td>\n",
       "    </tr>\n",
       "    <tr>\n",
       "      <th>1</th>\n",
       "      <td>Using SVG in GWT</td>\n",
       "      <td>&lt;p&gt;I was wondering if it is possible to includ...</td>\n",
       "      <td>&lt;javascript&gt;&lt;html&gt;&lt;gwt&gt;&lt;svg&gt;</td>\n",
       "      <td>691809</td>\n",
       "      <td>15</td>\n",
       "      <td>17380</td>\n",
       "      <td>5</td>\n",
       "      <td>8</td>\n",
       "    </tr>\n",
       "    <tr>\n",
       "      <th>2</th>\n",
       "      <td>StaleObjectstateException row was updated or d...</td>\n",
       "      <td>&lt;p&gt;I am getting this exception in a controller...</td>\n",
       "      <td>&lt;java&gt;&lt;hibernate&gt;&lt;spring&gt;&lt;exception&gt;&lt;staleobje...</td>\n",
       "      <td>3158491</td>\n",
       "      <td>17</td>\n",
       "      <td>49068</td>\n",
       "      <td>5</td>\n",
       "      <td>4</td>\n",
       "    </tr>\n",
       "    <tr>\n",
       "      <th>3</th>\n",
       "      <td>What are the pros and cons of the assorted Jav...</td>\n",
       "      <td>&lt;p&gt;I am considering creating my own website us...</td>\n",
       "      <td>&lt;java&gt;&lt;web-frameworks&gt;&lt;rich-internet-application&gt;</td>\n",
       "      <td>24596</td>\n",
       "      <td>85</td>\n",
       "      <td>19249</td>\n",
       "      <td>70</td>\n",
       "      <td>24</td>\n",
       "    </tr>\n",
       "    <tr>\n",
       "      <th>4</th>\n",
       "      <td>Why should you prevent a class from being subc...</td>\n",
       "      <td>&lt;p&gt;What can be reasons to prevent a class from...</td>\n",
       "      <td>&lt;oop&gt;</td>\n",
       "      <td>24620</td>\n",
       "      <td>9</td>\n",
       "      <td>1764</td>\n",
       "      <td>1</td>\n",
       "      <td>14</td>\n",
       "    </tr>\n",
       "  </tbody>\n",
       "</table>\n",
       "</div>"
      ],
      "text/plain": [
       "                                               Title  \\\n",
       "0  What is the Reason large sites don't use MySQL...   \n",
       "1                                   Using SVG in GWT   \n",
       "2  StaleObjectstateException row was updated or d...   \n",
       "3  What are the pros and cons of the assorted Jav...   \n",
       "4  Why should you prevent a class from being subc...   \n",
       "\n",
       "                                                Body  \\\n",
       "0  <p>I have read <a href=\"http://highscalability...   \n",
       "1  <p>I was wondering if it is possible to includ...   \n",
       "2  <p>I am getting this exception in a controller...   \n",
       "3  <p>I am considering creating my own website us...   \n",
       "4  <p>What can be reasons to prevent a class from...   \n",
       "\n",
       "                                                Tags       Id  Score  \\\n",
       "0     <asp.net><sql><mysql><sql-server><scalability>  2557405     24   \n",
       "1                       <javascript><html><gwt><svg>   691809     15   \n",
       "2  <java><hibernate><spring><exception><staleobje...  3158491     17   \n",
       "3  <java><web-frameworks><rich-internet-application>    24596     85   \n",
       "4                                              <oop>    24620      9   \n",
       "\n",
       "   ViewCount  FavoriteCount  AnswerCount  \n",
       "0       8000              9           14  \n",
       "1      17380              5            8  \n",
       "2      49068              5            4  \n",
       "3      19249             70           24  \n",
       "4       1764              1           14  "
      ]
     },
     "execution_count": 4,
     "metadata": {},
     "output_type": "execute_result"
    }
   ],
   "source": [
    "data.head()"
   ]
  },
  {
   "cell_type": "code",
   "execution_count": 5,
   "id": "630b0d7a",
   "metadata": {},
   "outputs": [
    {
     "data": {
      "text/html": [
       "<div>\n",
       "<style scoped>\n",
       "    .dataframe tbody tr th:only-of-type {\n",
       "        vertical-align: middle;\n",
       "    }\n",
       "\n",
       "    .dataframe tbody tr th {\n",
       "        vertical-align: top;\n",
       "    }\n",
       "\n",
       "    .dataframe thead th {\n",
       "        text-align: right;\n",
       "    }\n",
       "</style>\n",
       "<table border=\"1\" class=\"dataframe\">\n",
       "  <thead>\n",
       "    <tr style=\"text-align: right;\">\n",
       "      <th></th>\n",
       "      <th>Title</th>\n",
       "      <th>Body</th>\n",
       "      <th>Tags</th>\n",
       "      <th>Id</th>\n",
       "      <th>Score</th>\n",
       "      <th>ViewCount</th>\n",
       "      <th>FavoriteCount</th>\n",
       "      <th>AnswerCount</th>\n",
       "    </tr>\n",
       "  </thead>\n",
       "  <tbody>\n",
       "    <tr>\n",
       "      <th>49995</th>\n",
       "      <td>How to do a LIKE query in Arel and Rails?</td>\n",
       "      <td>&lt;p&gt;I want to do something like:&lt;/p&gt;\\n\\n&lt;pre&gt;&lt;c...</td>\n",
       "      <td>&lt;ruby-on-rails&gt;&lt;activerecord&gt;&lt;arel&gt;</td>\n",
       "      <td>4430578</td>\n",
       "      <td>123</td>\n",
       "      <td>95176</td>\n",
       "      <td>49</td>\n",
       "      <td>4</td>\n",
       "    </tr>\n",
       "    <tr>\n",
       "      <th>49996</th>\n",
       "      <td>how to get the opposite color of any backgroun...</td>\n",
       "      <td>&lt;p&gt;how to get the right color automatically th...</td>\n",
       "      <td>&lt;delphi&gt;&lt;image&gt;&lt;color-picker&gt;</td>\n",
       "      <td>4430598</td>\n",
       "      <td>15</td>\n",
       "      <td>8663</td>\n",
       "      <td>4</td>\n",
       "      <td>4</td>\n",
       "    </tr>\n",
       "    <tr>\n",
       "      <th>49997</th>\n",
       "      <td>private keyword vs no private keyword</td>\n",
       "      <td>&lt;p&gt;What is the use of the private keyword if e...</td>\n",
       "      <td>&lt;c#&gt;&lt;.net&gt;</td>\n",
       "      <td>4430640</td>\n",
       "      <td>8</td>\n",
       "      <td>1186</td>\n",
       "      <td>1</td>\n",
       "      <td>4</td>\n",
       "    </tr>\n",
       "    <tr>\n",
       "      <th>49998</th>\n",
       "      <td>Powershell to replace text in multiple files s...</td>\n",
       "      <td>&lt;p&gt;I want to replace a text in multiple files ...</td>\n",
       "      <td>&lt;file&gt;&lt;powershell&gt;&lt;replace&gt;&lt;directory&gt;</td>\n",
       "      <td>21558726</td>\n",
       "      <td>13</td>\n",
       "      <td>25551</td>\n",
       "      <td>2</td>\n",
       "      <td>4</td>\n",
       "    </tr>\n",
       "    <tr>\n",
       "      <th>49999</th>\n",
       "      <td>Secure Excel Workbook (with VBA) from reuse wi...</td>\n",
       "      <td>&lt;p&gt;I have created an Excel Workbook with a lot...</td>\n",
       "      <td>&lt;vba&gt;&lt;excel&gt;&lt;security&gt;</td>\n",
       "      <td>39878276</td>\n",
       "      <td>6</td>\n",
       "      <td>633</td>\n",
       "      <td>1</td>\n",
       "      <td>7</td>\n",
       "    </tr>\n",
       "  </tbody>\n",
       "</table>\n",
       "</div>"
      ],
      "text/plain": [
       "                                                   Title  \\\n",
       "49995          How to do a LIKE query in Arel and Rails?   \n",
       "49996  how to get the opposite color of any backgroun...   \n",
       "49997              private keyword vs no private keyword   \n",
       "49998  Powershell to replace text in multiple files s...   \n",
       "49999  Secure Excel Workbook (with VBA) from reuse wi...   \n",
       "\n",
       "                                                    Body  \\\n",
       "49995  <p>I want to do something like:</p>\\n\\n<pre><c...   \n",
       "49996  <p>how to get the right color automatically th...   \n",
       "49997  <p>What is the use of the private keyword if e...   \n",
       "49998  <p>I want to replace a text in multiple files ...   \n",
       "49999  <p>I have created an Excel Workbook with a lot...   \n",
       "\n",
       "                                         Tags        Id  Score  ViewCount  \\\n",
       "49995     <ruby-on-rails><activerecord><arel>   4430578    123      95176   \n",
       "49996           <delphi><image><color-picker>   4430598     15       8663   \n",
       "49997                              <c#><.net>   4430640      8       1186   \n",
       "49998  <file><powershell><replace><directory>  21558726     13      25551   \n",
       "49999                  <vba><excel><security>  39878276      6        633   \n",
       "\n",
       "       FavoriteCount  AnswerCount  \n",
       "49995             49            4  \n",
       "49996              4            4  \n",
       "49997              1            4  \n",
       "49998              2            4  \n",
       "49999              1            7  "
      ]
     },
     "execution_count": 5,
     "metadata": {},
     "output_type": "execute_result"
    }
   ],
   "source": [
    "data.tail()"
   ]
  },
  {
   "cell_type": "code",
   "execution_count": 6,
   "id": "2f3a4909",
   "metadata": {},
   "outputs": [
    {
     "data": {
      "text/html": [
       "<div>\n",
       "<style scoped>\n",
       "    .dataframe tbody tr th:only-of-type {\n",
       "        vertical-align: middle;\n",
       "    }\n",
       "\n",
       "    .dataframe tbody tr th {\n",
       "        vertical-align: top;\n",
       "    }\n",
       "\n",
       "    .dataframe thead th {\n",
       "        text-align: right;\n",
       "    }\n",
       "</style>\n",
       "<table border=\"1\" class=\"dataframe\">\n",
       "  <thead>\n",
       "    <tr style=\"text-align: right;\">\n",
       "      <th></th>\n",
       "      <th>Title</th>\n",
       "      <th>Body</th>\n",
       "      <th>Tags</th>\n",
       "      <th>Id</th>\n",
       "      <th>Score</th>\n",
       "      <th>ViewCount</th>\n",
       "      <th>FavoriteCount</th>\n",
       "      <th>AnswerCount</th>\n",
       "    </tr>\n",
       "  </thead>\n",
       "  <tbody>\n",
       "    <tr>\n",
       "      <th>26053</th>\n",
       "      <td>iOS7 TextKit: bullet point alignment</td>\n",
       "      <td>&lt;p&gt;I'm writing an app for iOS 7 only and I'm t...</td>\n",
       "      <td>&lt;ios&gt;&lt;cocoa-touch&gt;&lt;ios7&gt;&lt;uitextview&gt;&lt;textkit&gt;</td>\n",
       "      <td>19584908</td>\n",
       "      <td>20</td>\n",
       "      <td>12748</td>\n",
       "      <td>14</td>\n",
       "      <td>8</td>\n",
       "    </tr>\n",
       "    <tr>\n",
       "      <th>7178</th>\n",
       "      <td>OpenCV can't capture the frame from the webcam</td>\n",
       "      <td>&lt;p&gt;I am using OpenCV 2.4.6 with VS2010.&lt;/p&gt;\\n\\...</td>\n",
       "      <td>&lt;c++&gt;&lt;opencv&gt;</td>\n",
       "      <td>18386891</td>\n",
       "      <td>5</td>\n",
       "      <td>20186</td>\n",
       "      <td>1</td>\n",
       "      <td>6</td>\n",
       "    </tr>\n",
       "    <tr>\n",
       "      <th>11542</th>\n",
       "      <td>Android: Refreshing the Gallery after saving n...</td>\n",
       "      <td>&lt;p&gt;So in my application I at one point save a ...</td>\n",
       "      <td>&lt;android&gt;&lt;gallery&gt;&lt;mediastore&gt;</td>\n",
       "      <td>18624235</td>\n",
       "      <td>19</td>\n",
       "      <td>26211</td>\n",
       "      <td>11</td>\n",
       "      <td>8</td>\n",
       "    </tr>\n",
       "    <tr>\n",
       "      <th>20769</th>\n",
       "      <td>Efficient way to construct an XML document fro...</td>\n",
       "      <td>&lt;p&gt;I have a string that contains well formed x...</td>\n",
       "      <td>&lt;c#&gt;&lt;.net&gt;&lt;xml&gt;</td>\n",
       "      <td>1489422</td>\n",
       "      <td>6</td>\n",
       "      <td>9349</td>\n",
       "      <td>1</td>\n",
       "      <td>4</td>\n",
       "    </tr>\n",
       "    <tr>\n",
       "      <th>40661</th>\n",
       "      <td>How to set timeout for anonoymous block or que...</td>\n",
       "      <td>&lt;p&gt;I know you can set user &lt;a href=\"https://st...</td>\n",
       "      <td>&lt;sql&gt;&lt;oracle&gt;&lt;plsql&gt;&lt;oracle11g&gt;</td>\n",
       "      <td>20519192</td>\n",
       "      <td>7</td>\n",
       "      <td>8100</td>\n",
       "      <td>1</td>\n",
       "      <td>5</td>\n",
       "    </tr>\n",
       "    <tr>\n",
       "      <th>609</th>\n",
       "      <td>Determine the size of a pipe without calling r...</td>\n",
       "      <td>&lt;p&gt;I need a function called &lt;code&gt;SizeOfPipe()...</td>\n",
       "      <td>&lt;c++&gt;&lt;c&gt;&lt;linux&gt;&lt;unix&gt;</td>\n",
       "      <td>71820</td>\n",
       "      <td>8</td>\n",
       "      <td>15139</td>\n",
       "      <td>1</td>\n",
       "      <td>13</td>\n",
       "    </tr>\n",
       "    <tr>\n",
       "      <th>48997</th>\n",
       "      <td>Mocking FacesContext</td>\n",
       "      <td>&lt;p&gt;I am trying to add some unit tests to a JSF...</td>\n",
       "      <td>&lt;unit-testing&gt;&lt;jsf&gt;&lt;groovy&gt;&lt;mocking&gt;&lt;facescont...</td>\n",
       "      <td>4252353</td>\n",
       "      <td>20</td>\n",
       "      <td>26266</td>\n",
       "      <td>3</td>\n",
       "      <td>7</td>\n",
       "    </tr>\n",
       "    <tr>\n",
       "      <th>15280</th>\n",
       "      <td>Resource based authorization in .net</td>\n",
       "      <td>&lt;p&gt;Let's say that you have a .net web api with...</td>\n",
       "      <td>&lt;.net&gt;&lt;asp.net-mvc&gt;&lt;asp.net-web-api&gt;&lt;authoriza...</td>\n",
       "      <td>18854434</td>\n",
       "      <td>12</td>\n",
       "      <td>6340</td>\n",
       "      <td>6</td>\n",
       "      <td>5</td>\n",
       "    </tr>\n",
       "    <tr>\n",
       "      <th>4765</th>\n",
       "      <td>Javascript + IMG tags = memory leak. Is there ...</td>\n",
       "      <td>&lt;p&gt;I've got a web page that's using jquery to ...</td>\n",
       "      <td>&lt;javascript&gt;&lt;jquery&gt;&lt;html&gt;&lt;ajax&gt;&lt;browser&gt;</td>\n",
       "      <td>336348</td>\n",
       "      <td>8</td>\n",
       "      <td>3914</td>\n",
       "      <td>3</td>\n",
       "      <td>8</td>\n",
       "    </tr>\n",
       "    <tr>\n",
       "      <th>37666</th>\n",
       "      <td>Who defines regular expressions?</td>\n",
       "      <td>&lt;p&gt;The W3C defines the HTML standard, CSS stan...</td>\n",
       "      <td>&lt;regex&gt;&lt;standards&gt;</td>\n",
       "      <td>20257038</td>\n",
       "      <td>31</td>\n",
       "      <td>953</td>\n",
       "      <td>4</td>\n",
       "      <td>5</td>\n",
       "    </tr>\n",
       "    <tr>\n",
       "      <th>43499</th>\n",
       "      <td>Terms and Conditions Google Maps: Can I store ...</td>\n",
       "      <td>&lt;p&gt;This question has been asked in a few place...</td>\n",
       "      <td>&lt;google-maps&gt;&lt;google-geocoder&gt;</td>\n",
       "      <td>20803805</td>\n",
       "      <td>27</td>\n",
       "      <td>10777</td>\n",
       "      <td>14</td>\n",
       "      <td>6</td>\n",
       "    </tr>\n",
       "    <tr>\n",
       "      <th>2365</th>\n",
       "      <td>Base64 decode snippet in C++</td>\n",
       "      <td>&lt;p&gt;Is there a freely available Base64 decoding...</td>\n",
       "      <td>&lt;c++&gt;&lt;base64&gt;</td>\n",
       "      <td>180947</td>\n",
       "      <td>93</td>\n",
       "      <td>195825</td>\n",
       "      <td>43</td>\n",
       "      <td>13</td>\n",
       "    </tr>\n",
       "    <tr>\n",
       "      <th>34929</th>\n",
       "      <td>MVC data annotation to compare one property to...</td>\n",
       "      <td>&lt;p&gt;I've been playing around data annotations i...</td>\n",
       "      <td>&lt;asp.net-mvc&gt;&lt;data-annotations&gt;</td>\n",
       "      <td>2450922</td>\n",
       "      <td>17</td>\n",
       "      <td>21356</td>\n",
       "      <td>3</td>\n",
       "      <td>4</td>\n",
       "    </tr>\n",
       "    <tr>\n",
       "      <th>10357</th>\n",
       "      <td>Creating Microsoft Word (.docx) documents in Ruby</td>\n",
       "      <td>&lt;p&gt;Is there an easy way to create Word documen...</td>\n",
       "      <td>&lt;ruby-on-rails&gt;&lt;ruby&gt;&lt;ms-word&gt;&lt;documents&gt;</td>\n",
       "      <td>697505</td>\n",
       "      <td>50</td>\n",
       "      <td>48183</td>\n",
       "      <td>37</td>\n",
       "      <td>13</td>\n",
       "    </tr>\n",
       "    <tr>\n",
       "      <th>22327</th>\n",
       "      <td>SSRS: Relative URL Hyperlink</td>\n",
       "      <td>&lt;p&gt;In SSRS 2008 I would like to create a relat...</td>\n",
       "      <td>&lt;reporting-services&gt;&lt;ssrs-2008&gt;</td>\n",
       "      <td>1597258</td>\n",
       "      <td>7</td>\n",
       "      <td>15420</td>\n",
       "      <td>1</td>\n",
       "      <td>5</td>\n",
       "    </tr>\n",
       "    <tr>\n",
       "      <th>23641</th>\n",
       "      <td>Scripting .NET objects</td>\n",
       "      <td>&lt;p&gt;I have a simple .NET application which runs...</td>\n",
       "      <td>&lt;c#&gt;&lt;.net&gt;&lt;parsing&gt;&lt;scripting&gt;</td>\n",
       "      <td>1706622</td>\n",
       "      <td>5</td>\n",
       "      <td>213</td>\n",
       "      <td>1</td>\n",
       "      <td>4</td>\n",
       "    </tr>\n",
       "    <tr>\n",
       "      <th>43414</th>\n",
       "      <td>Which Java collection should I use to implemen...</td>\n",
       "      <td>&lt;p&gt;I'm looking to implement a simple cache wit...</td>\n",
       "      <td>&lt;java&gt;&lt;multithreading&gt;&lt;memory-management&gt;&lt;cach...</td>\n",
       "      <td>3355216</td>\n",
       "      <td>10</td>\n",
       "      <td>6555</td>\n",
       "      <td>2</td>\n",
       "      <td>5</td>\n",
       "    </tr>\n",
       "    <tr>\n",
       "      <th>22288</th>\n",
       "      <td>How to change the number of replicas of a Kafk...</td>\n",
       "      <td>&lt;p&gt;After a Kafka topic has been created by a p...</td>\n",
       "      <td>&lt;apache-kafka&gt;</td>\n",
       "      <td>37960767</td>\n",
       "      <td>85</td>\n",
       "      <td>100080</td>\n",
       "      <td>24</td>\n",
       "      <td>11</td>\n",
       "    </tr>\n",
       "    <tr>\n",
       "      <th>20851</th>\n",
       "      <td>JavaScript to trim started 0 in a string</td>\n",
       "      <td>&lt;p&gt;I hava a time string,the format is HHMM, I ...</td>\n",
       "      <td>&lt;javascript&gt;</td>\n",
       "      <td>1491074</td>\n",
       "      <td>4</td>\n",
       "      <td>4908</td>\n",
       "      <td>1</td>\n",
       "      <td>5</td>\n",
       "    </tr>\n",
       "    <tr>\n",
       "      <th>39911</th>\n",
       "      <td>What's the most efficient way to check for dup...</td>\n",
       "      <td>&lt;p&gt;I need to see if there are duplicates in an...</td>\n",
       "      <td>&lt;arrays&gt;&lt;perl&gt;</td>\n",
       "      <td>3011888</td>\n",
       "      <td>23</td>\n",
       "      <td>27588</td>\n",
       "      <td>7</td>\n",
       "      <td>7</td>\n",
       "    </tr>\n",
       "  </tbody>\n",
       "</table>\n",
       "</div>"
      ],
      "text/plain": [
       "                                                   Title  \\\n",
       "26053               iOS7 TextKit: bullet point alignment   \n",
       "7178      OpenCV can't capture the frame from the webcam   \n",
       "11542  Android: Refreshing the Gallery after saving n...   \n",
       "20769  Efficient way to construct an XML document fro...   \n",
       "40661  How to set timeout for anonoymous block or que...   \n",
       "609    Determine the size of a pipe without calling r...   \n",
       "48997                               Mocking FacesContext   \n",
       "15280               Resource based authorization in .net   \n",
       "4765   Javascript + IMG tags = memory leak. Is there ...   \n",
       "37666                   Who defines regular expressions?   \n",
       "43499  Terms and Conditions Google Maps: Can I store ...   \n",
       "2365                        Base64 decode snippet in C++   \n",
       "34929  MVC data annotation to compare one property to...   \n",
       "10357  Creating Microsoft Word (.docx) documents in Ruby   \n",
       "22327                       SSRS: Relative URL Hyperlink   \n",
       "23641                             Scripting .NET objects   \n",
       "43414  Which Java collection should I use to implemen...   \n",
       "22288  How to change the number of replicas of a Kafk...   \n",
       "20851           JavaScript to trim started 0 in a string   \n",
       "39911  What's the most efficient way to check for dup...   \n",
       "\n",
       "                                                    Body  \\\n",
       "26053  <p>I'm writing an app for iOS 7 only and I'm t...   \n",
       "7178   <p>I am using OpenCV 2.4.6 with VS2010.</p>\\n\\...   \n",
       "11542  <p>So in my application I at one point save a ...   \n",
       "20769  <p>I have a string that contains well formed x...   \n",
       "40661  <p>I know you can set user <a href=\"https://st...   \n",
       "609    <p>I need a function called <code>SizeOfPipe()...   \n",
       "48997  <p>I am trying to add some unit tests to a JSF...   \n",
       "15280  <p>Let's say that you have a .net web api with...   \n",
       "4765   <p>I've got a web page that's using jquery to ...   \n",
       "37666  <p>The W3C defines the HTML standard, CSS stan...   \n",
       "43499  <p>This question has been asked in a few place...   \n",
       "2365   <p>Is there a freely available Base64 decoding...   \n",
       "34929  <p>I've been playing around data annotations i...   \n",
       "10357  <p>Is there an easy way to create Word documen...   \n",
       "22327  <p>In SSRS 2008 I would like to create a relat...   \n",
       "23641  <p>I have a simple .NET application which runs...   \n",
       "43414  <p>I'm looking to implement a simple cache wit...   \n",
       "22288  <p>After a Kafka topic has been created by a p...   \n",
       "20851  <p>I hava a time string,the format is HHMM, I ...   \n",
       "39911  <p>I need to see if there are duplicates in an...   \n",
       "\n",
       "                                                    Tags        Id  Score  \\\n",
       "26053      <ios><cocoa-touch><ios7><uitextview><textkit>  19584908     20   \n",
       "7178                                       <c++><opencv>  18386891      5   \n",
       "11542                     <android><gallery><mediastore>  18624235     19   \n",
       "20769                                    <c#><.net><xml>   1489422      6   \n",
       "40661                    <sql><oracle><plsql><oracle11g>  20519192      7   \n",
       "609                                <c++><c><linux><unix>     71820      8   \n",
       "48997  <unit-testing><jsf><groovy><mocking><facescont...   4252353     20   \n",
       "15280  <.net><asp.net-mvc><asp.net-web-api><authoriza...  18854434     12   \n",
       "4765           <javascript><jquery><html><ajax><browser>    336348      8   \n",
       "37666                                 <regex><standards>  20257038     31   \n",
       "43499                     <google-maps><google-geocoder>  20803805     27   \n",
       "2365                                       <c++><base64>    180947     93   \n",
       "34929                    <asp.net-mvc><data-annotations>   2450922     17   \n",
       "10357          <ruby-on-rails><ruby><ms-word><documents>    697505     50   \n",
       "22327                    <reporting-services><ssrs-2008>   1597258      7   \n",
       "23641                     <c#><.net><parsing><scripting>   1706622      5   \n",
       "43414  <java><multithreading><memory-management><cach...   3355216     10   \n",
       "22288                                     <apache-kafka>  37960767     85   \n",
       "20851                                       <javascript>   1491074      4   \n",
       "39911                                     <arrays><perl>   3011888     23   \n",
       "\n",
       "       ViewCount  FavoriteCount  AnswerCount  \n",
       "26053      12748             14            8  \n",
       "7178       20186              1            6  \n",
       "11542      26211             11            8  \n",
       "20769       9349              1            4  \n",
       "40661       8100              1            5  \n",
       "609        15139              1           13  \n",
       "48997      26266              3            7  \n",
       "15280       6340              6            5  \n",
       "4765        3914              3            8  \n",
       "37666        953              4            5  \n",
       "43499      10777             14            6  \n",
       "2365      195825             43           13  \n",
       "34929      21356              3            4  \n",
       "10357      48183             37           13  \n",
       "22327      15420              1            5  \n",
       "23641        213              1            4  \n",
       "43414       6555              2            5  \n",
       "22288     100080             24           11  \n",
       "20851       4908              1            5  \n",
       "39911      27588              7            7  "
      ]
     },
     "execution_count": 6,
     "metadata": {},
     "output_type": "execute_result"
    }
   ],
   "source": [
    "data.sample(20)"
   ]
  },
  {
   "cell_type": "code",
   "execution_count": 7,
   "id": "7c312a22",
   "metadata": {},
   "outputs": [
    {
     "data": {
      "text/plain": [
       "(50000, 8)"
      ]
     },
     "execution_count": 7,
     "metadata": {},
     "output_type": "execute_result"
    }
   ],
   "source": [
    "data.shape"
   ]
  },
  {
   "cell_type": "raw",
   "id": "befef0c6",
   "metadata": {},
   "source": [
    "Je note que l'extraction via l'outils stack exchange est limité à 50000 lignes."
   ]
  },
  {
   "cell_type": "code",
   "execution_count": 8,
   "id": "31e62324",
   "metadata": {},
   "outputs": [
    {
     "name": "stdout",
     "output_type": "stream",
     "text": [
      "<class 'pandas.core.frame.DataFrame'>\n",
      "RangeIndex: 50000 entries, 0 to 49999\n",
      "Data columns (total 8 columns):\n",
      " #   Column         Non-Null Count  Dtype \n",
      "---  ------         --------------  ----- \n",
      " 0   Title          50000 non-null  object\n",
      " 1   Body           50000 non-null  object\n",
      " 2   Tags           50000 non-null  object\n",
      " 3   Id             50000 non-null  int64 \n",
      " 4   Score          50000 non-null  int64 \n",
      " 5   ViewCount      50000 non-null  int64 \n",
      " 6   FavoriteCount  50000 non-null  int64 \n",
      " 7   AnswerCount    50000 non-null  int64 \n",
      "dtypes: int64(5), object(3)\n",
      "memory usage: 3.1+ MB\n"
     ]
    }
   ],
   "source": [
    "data.info()"
   ]
  },
  {
   "cell_type": "code",
   "execution_count": 9,
   "id": "c5506622",
   "metadata": {},
   "outputs": [
    {
     "data": {
      "text/plain": [
       "Title            0.0\n",
       "Body             0.0\n",
       "Tags             0.0\n",
       "Id               0.0\n",
       "Score            0.0\n",
       "ViewCount        0.0\n",
       "FavoriteCount    0.0\n",
       "AnswerCount      0.0\n",
       "dtype: float64"
      ]
     },
     "execution_count": 9,
     "metadata": {},
     "output_type": "execute_result"
    }
   ],
   "source": [
    "data.isna().mean()"
   ]
  },
  {
   "cell_type": "raw",
   "id": "cf722f74",
   "metadata": {},
   "source": [
    "je transforme les données d'intérêt en string."
   ]
  },
  {
   "cell_type": "code",
   "execution_count": 10,
   "id": "316cc5dc",
   "metadata": {},
   "outputs": [],
   "source": [
    "data['Title'] = data['Title'].astype(str)"
   ]
  },
  {
   "cell_type": "code",
   "execution_count": 11,
   "id": "65650103",
   "metadata": {},
   "outputs": [],
   "source": [
    "data['Body'] = data['Body'].astype(str)"
   ]
  },
  {
   "cell_type": "code",
   "execution_count": 12,
   "id": "2c7c602e",
   "metadata": {},
   "outputs": [],
   "source": [
    "data['Tags'] = data['Tags'].astype(str)"
   ]
  },
  {
   "cell_type": "code",
   "execution_count": 16,
   "id": "4304ab70",
   "metadata": {},
   "outputs": [
    {
     "data": {
      "text/plain": [
       "int64     5\n",
       "object    3\n",
       "dtype: int64"
      ]
     },
     "execution_count": 16,
     "metadata": {},
     "output_type": "execute_result"
    }
   ],
   "source": [
    "data.dtypes.value_counts()"
   ]
  },
  {
   "cell_type": "code",
   "execution_count": 17,
   "id": "124c1cde",
   "metadata": {},
   "outputs": [
    {
     "data": {
      "text/plain": [
       "Title            49997\n",
       "Body             50000\n",
       "Tags             38327\n",
       "Id               50000\n",
       "Score             1048\n",
       "ViewCount        35226\n",
       "FavoriteCount      547\n",
       "AnswerCount         81\n",
       "dtype: int64"
      ]
     },
     "execution_count": 17,
     "metadata": {},
     "output_type": "execute_result"
    }
   ],
   "source": [
    "data.nunique()"
   ]
  },
  {
   "cell_type": "markdown",
   "id": "a5955fae",
   "metadata": {},
   "source": [
    "Il y a une répétition de 'Title' qui ne compte pas 50000 valeurs uniques. Par contre pas de duplicats pour 'Body'. Or 'Title' et 'Body' doivent être considérés ensemble dans le contexte de rédaction de posts. Par conséquent aucun post n'est dupliqué. "
   ]
  },
  {
   "cell_type": "raw",
   "id": "796b204f",
   "metadata": {},
   "source": [
    "Je visualise des extraits."
   ]
  },
  {
   "cell_type": "code",
   "execution_count": 18,
   "id": "b60d64de",
   "metadata": {},
   "outputs": [
    {
     "data": {
      "text/plain": [
       "0    What is the Reason large sites don't use MySQL...\n",
       "1                                     Using SVG in GWT\n",
       "2    StaleObjectstateException row was updated or d...\n",
       "3    What are the pros and cons of the assorted Jav...\n",
       "4    Why should you prevent a class from being subc...\n",
       "5    Abstraction VS Information Hiding VS Encapsula...\n",
       "6    What Are Some Examples of Design Pattern Imple...\n",
       "7    What's the best way to get to know linux or BS...\n",
       "8            Tactics for using PHP in a high-load site\n",
       "9                     JavaScript editor within Eclipse\n",
       "Name: Title, dtype: object"
      ]
     },
     "execution_count": 18,
     "metadata": {},
     "output_type": "execute_result"
    }
   ],
   "source": [
    "data['Title'][:10]"
   ]
  },
  {
   "cell_type": "code",
   "execution_count": 19,
   "id": "0fed7687",
   "metadata": {},
   "outputs": [
    {
     "data": {
      "text/plain": [
       "0    <p>I have read <a href=\"http://highscalability...\n",
       "1    <p>I was wondering if it is possible to includ...\n",
       "2    <p>I am getting this exception in a controller...\n",
       "3    <p>I am considering creating my own website us...\n",
       "4    <p>What can be reasons to prevent a class from...\n",
       "5    <p>Can you tell me what is the difference betw...\n",
       "6    <p>I'm a moderately skilled programmer using J...\n",
       "7    <p>I'd like to gain better knowledge of operat...\n",
       "8    <p>Before you answer this I have never develop...\n",
       "9    <p>I'm looking for the best JavaScript editor ...\n",
       "Name: Body, dtype: object"
      ]
     },
     "execution_count": 19,
     "metadata": {},
     "output_type": "execute_result"
    }
   ],
   "source": [
    "data['Body'][:10]"
   ]
  },
  {
   "cell_type": "code",
   "execution_count": 20,
   "id": "758c546d",
   "metadata": {},
   "outputs": [
    {
     "data": {
      "text/plain": [
       "0       <asp.net><sql><mysql><sql-server><scalability>\n",
       "1                         <javascript><html><gwt><svg>\n",
       "2    <java><hibernate><spring><exception><staleobje...\n",
       "3    <java><web-frameworks><rich-internet-application>\n",
       "4                                                <oop>\n",
       "5    <encapsulation><abstraction><glossary><ooad><i...\n",
       "6    <javascript><design-patterns><singleton><strat...\n",
       "7        <linux><operating-system><kernel><bsd><osdev>\n",
       "8                        <php><performance><high-load>\n",
       "9               <javascript><eclipse><plugins><editor>\n",
       "Name: Tags, dtype: object"
      ]
     },
     "execution_count": 20,
     "metadata": {},
     "output_type": "execute_result"
    }
   ],
   "source": [
    "data['Tags'][:10]"
   ]
  },
  {
   "cell_type": "markdown",
   "id": "e0f728bd",
   "metadata": {},
   "source": [
    "## Première phase de nettoyage des données"
   ]
  },
  {
   "cell_type": "raw",
   "id": "1f9a85fa",
   "metadata": {},
   "source": [
    "Les objectifs de ce projet necessitent d'ulitiser différentes approches pour la transformation des données textuelles en features exploitables. 2 types de méthodes seront donc utilisées :\n",
    "- La méthode classique par Bag of words, qui demande de multiples modifications en amont\n",
    "- La méthode par Embedding par Doc 2 vec et Sentense BERT qui nécessite peu de modification.\n",
    "Certaines étapes de nettoyages seront communes aux deux approches, et d'autres spécifiques au Bag of words;\n",
    "Il est nécessaire de préciser que les tags ne subiront aucune modification, si ce n'est la suppression des entrée et fin de balises."
   ]
  },
  {
   "cell_type": "raw",
   "id": "8a4cb31c",
   "metadata": {},
   "source": [
    "Cette première phase de nettoyage est commune et elle consiste à :\n",
    "- nettoyer les balises html pour 'Title' et 'Body'\n",
    "- nettoyer les tags\n",
    "Remarque : comme spécifié plus haut, ce jeux de données n'a ni valeur manquante ni duplicat."
   ]
  },
  {
   "cell_type": "markdown",
   "id": "a71d7688",
   "metadata": {},
   "source": [
    "### Suppression des balises html"
   ]
  },
  {
   "cell_type": "code",
   "execution_count": 26,
   "id": "1c7f5311",
   "metadata": {},
   "outputs": [],
   "source": [
    "def sup_balise(sentence) :\n",
    "    return BeautifulSoup(sentence).get_text()"
   ]
  },
  {
   "cell_type": "code",
   "execution_count": 27,
   "id": "ca13e931",
   "metadata": {},
   "outputs": [
    {
     "name": "stderr",
     "output_type": "stream",
     "text": [
      "C:\\Users\\n_a_e\\anaconda3\\envs\\IML-P5\\lib\\site-packages\\bs4\\__init__.py:435: MarkupResemblesLocatorWarning: The input looks more like a filename than markup. You may want to open this file and pass the filehandle into Beautiful Soup.\n",
      "  warnings.warn(\n"
     ]
    },
    {
     "data": {
      "text/plain": [
       "0    What is the Reason large sites don't use MySQL...\n",
       "1                                     Using SVG in GWT\n",
       "2    StaleObjectstateException row was updated or d...\n",
       "3    What are the pros and cons of the assorted Jav...\n",
       "4    Why should you prevent a class from being subc...\n",
       "Name: Title, dtype: object"
      ]
     },
     "execution_count": 27,
     "metadata": {},
     "output_type": "execute_result"
    }
   ],
   "source": [
    "data[\"Title\"] = data[\"Title\"].apply(sup_balise)\n",
    "data[\"Title\"].head()"
   ]
  },
  {
   "cell_type": "code",
   "execution_count": 28,
   "id": "473b8b6f",
   "metadata": {},
   "outputs": [
    {
     "data": {
      "text/plain": [
       "0    I have read this article from High Scalability...\n",
       "1    I was wondering if it is possible to include S...\n",
       "2    I am getting this exception in a controller of...\n",
       "3    I am considering creating my own website using...\n",
       "4    What can be reasons to prevent a class from be...\n",
       "Name: Body, dtype: object"
      ]
     },
     "execution_count": 28,
     "metadata": {},
     "output_type": "execute_result"
    }
   ],
   "source": [
    "data[\"Body\"] = data[\"Body\"].apply(sup_balise)\n",
    "data[\"Body\"].head()"
   ]
  },
  {
   "cell_type": "markdown",
   "id": "cd1b44bb",
   "metadata": {},
   "source": [
    "### Nettoyage des tags"
   ]
  },
  {
   "cell_type": "raw",
   "id": "83e06fd1",
   "metadata": {},
   "source": [
    "La seule modification des tags sera la suppression des > et < qui seront remplacés par des espaces."
   ]
  },
  {
   "cell_type": "code",
   "execution_count": 29,
   "id": "28980136",
   "metadata": {},
   "outputs": [],
   "source": [
    "data['Tags'] = data.apply(lambda r :r['Tags'].replace('<', ' ').replace('>', ' ') , axis=1)"
   ]
  },
  {
   "cell_type": "code",
   "execution_count": 30,
   "id": "25c42fb5",
   "metadata": {},
   "outputs": [
    {
     "data": {
      "text/plain": [
       "0        asp.net  sql  mysql  sql-server  scalability \n",
       "1                          javascript  html  gwt  svg \n",
       "2     java  hibernate  spring  exception  staleobje...\n",
       "3     java  web-frameworks  rich-internet-application \n",
       "4                                                 oop \n",
       "Name: Tags, dtype: object"
      ]
     },
     "execution_count": 30,
     "metadata": {},
     "output_type": "execute_result"
    }
   ],
   "source": [
    "data['Tags'].head()"
   ]
  },
  {
   "cell_type": "markdown",
   "id": "6a80acb0",
   "metadata": {},
   "source": [
    "### df_embedding"
   ]
  },
  {
   "cell_type": "raw",
   "id": "70b06292",
   "metadata": {},
   "source": [
    "J'isole les entrées et les targets dans un data frame qui sera utilisé pour les transformations de types embedding."
   ]
  },
  {
   "cell_type": "code",
   "execution_count": 31,
   "id": "2c4eb3a6",
   "metadata": {},
   "outputs": [
    {
     "name": "stdout",
     "output_type": "stream",
     "text": [
      "<class 'pandas.core.frame.DataFrame'>\n",
      "RangeIndex: 50000 entries, 0 to 49999\n",
      "Data columns (total 8 columns):\n",
      " #   Column         Non-Null Count  Dtype \n",
      "---  ------         --------------  ----- \n",
      " 0   Title          50000 non-null  object\n",
      " 1   Body           50000 non-null  object\n",
      " 2   Tags           50000 non-null  object\n",
      " 3   Id             50000 non-null  int64 \n",
      " 4   Score          50000 non-null  int64 \n",
      " 5   ViewCount      50000 non-null  int64 \n",
      " 6   FavoriteCount  50000 non-null  int64 \n",
      " 7   AnswerCount    50000 non-null  int64 \n",
      "dtypes: int64(5), object(3)\n",
      "memory usage: 3.1+ MB\n"
     ]
    }
   ],
   "source": [
    "data.info()"
   ]
  },
  {
   "cell_type": "code",
   "execution_count": 32,
   "id": "96fc200a",
   "metadata": {},
   "outputs": [
    {
     "name": "stdout",
     "output_type": "stream",
     "text": [
      "(50000, 8)\n",
      "(50000, 3)\n"
     ]
    }
   ],
   "source": [
    "print(data.shape)\n",
    "df_embedding = data.drop(['Id', 'Score', 'ViewCount', 'FavoriteCount', 'AnswerCount'], axis=1)\n",
    "print(data_c.shape)"
   ]
  },
  {
   "cell_type": "code",
   "execution_count": 33,
   "id": "f4b011aa",
   "metadata": {},
   "outputs": [
    {
     "data": {
      "text/html": [
       "<div>\n",
       "<style scoped>\n",
       "    .dataframe tbody tr th:only-of-type {\n",
       "        vertical-align: middle;\n",
       "    }\n",
       "\n",
       "    .dataframe tbody tr th {\n",
       "        vertical-align: top;\n",
       "    }\n",
       "\n",
       "    .dataframe thead th {\n",
       "        text-align: right;\n",
       "    }\n",
       "</style>\n",
       "<table border=\"1\" class=\"dataframe\">\n",
       "  <thead>\n",
       "    <tr style=\"text-align: right;\">\n",
       "      <th></th>\n",
       "      <th>Title</th>\n",
       "      <th>Body</th>\n",
       "      <th>Tags</th>\n",
       "    </tr>\n",
       "  </thead>\n",
       "  <tbody>\n",
       "    <tr>\n",
       "      <th>0</th>\n",
       "      <td>What is the Reason large sites don't use MySQL...</td>\n",
       "      <td>I have read this article from High Scalability...</td>\n",
       "      <td>asp.net  sql  mysql  sql-server  scalability</td>\n",
       "    </tr>\n",
       "    <tr>\n",
       "      <th>1</th>\n",
       "      <td>Using SVG in GWT</td>\n",
       "      <td>I was wondering if it is possible to include S...</td>\n",
       "      <td>javascript  html  gwt  svg</td>\n",
       "    </tr>\n",
       "    <tr>\n",
       "      <th>2</th>\n",
       "      <td>StaleObjectstateException row was updated or d...</td>\n",
       "      <td>I am getting this exception in a controller of...</td>\n",
       "      <td>java  hibernate  spring  exception  staleobje...</td>\n",
       "    </tr>\n",
       "    <tr>\n",
       "      <th>3</th>\n",
       "      <td>What are the pros and cons of the assorted Jav...</td>\n",
       "      <td>I am considering creating my own website using...</td>\n",
       "      <td>java  web-frameworks  rich-internet-application</td>\n",
       "    </tr>\n",
       "    <tr>\n",
       "      <th>4</th>\n",
       "      <td>Why should you prevent a class from being subc...</td>\n",
       "      <td>What can be reasons to prevent a class from be...</td>\n",
       "      <td>oop</td>\n",
       "    </tr>\n",
       "  </tbody>\n",
       "</table>\n",
       "</div>"
      ],
      "text/plain": [
       "                                               Title  \\\n",
       "0  What is the Reason large sites don't use MySQL...   \n",
       "1                                   Using SVG in GWT   \n",
       "2  StaleObjectstateException row was updated or d...   \n",
       "3  What are the pros and cons of the assorted Jav...   \n",
       "4  Why should you prevent a class from being subc...   \n",
       "\n",
       "                                                Body  \\\n",
       "0  I have read this article from High Scalability...   \n",
       "1  I was wondering if it is possible to include S...   \n",
       "2  I am getting this exception in a controller of...   \n",
       "3  I am considering creating my own website using...   \n",
       "4  What can be reasons to prevent a class from be...   \n",
       "\n",
       "                                                Tags  \n",
       "0      asp.net  sql  mysql  sql-server  scalability   \n",
       "1                        javascript  html  gwt  svg   \n",
       "2   java  hibernate  spring  exception  staleobje...  \n",
       "3   java  web-frameworks  rich-internet-application   \n",
       "4                                               oop   "
      ]
     },
     "execution_count": 33,
     "metadata": {},
     "output_type": "execute_result"
    }
   ],
   "source": [
    "df_embedding.head()"
   ]
  },
  {
   "cell_type": "markdown",
   "id": "5ce2658a",
   "metadata": {},
   "source": [
    "## Features engineering"
   ]
  },
  {
   "cell_type": "raw",
   "id": "556cef25",
   "metadata": {},
   "source": [
    "le but est ici de créer de nouvelles features qui nous permetront de mieux décrire les données textuelles"
   ]
  },
  {
   "cell_type": "code",
   "execution_count": 35,
   "id": "3ba0906f",
   "metadata": {},
   "outputs": [],
   "source": [
    "def len_fct(sentence) :\n",
    "    return len(sentence)"
   ]
  },
  {
   "cell_type": "code",
   "execution_count": 36,
   "id": "b75d6259",
   "metadata": {},
   "outputs": [
    {
     "data": {
      "text/plain": [
       "0    60\n",
       "1    16\n",
       "2    55\n",
       "3    63\n",
       "4    53\n",
       "Name: Title_len, dtype: int64"
      ]
     },
     "execution_count": 36,
     "metadata": {},
     "output_type": "execute_result"
    }
   ],
   "source": [
    "data[\"Title_len\"] = data[\"Title\"].apply(len_fct)\n",
    "data[\"Title_len\"].head()"
   ]
  },
  {
   "cell_type": "code",
   "execution_count": 37,
   "id": "c78a7a6e",
   "metadata": {},
   "outputs": [
    {
     "data": {
      "text/plain": [
       "0     585\n",
       "1    2473\n",
       "2    2419\n",
       "3     902\n",
       "4     127\n",
       "Name: Body_len, dtype: int64"
      ]
     },
     "execution_count": 37,
     "metadata": {},
     "output_type": "execute_result"
    }
   ],
   "source": [
    "data[\"Body_len\"] = data[\"Body\"].apply(len_fct)\n",
    "data[\"Body_len\"].head()"
   ]
  },
  {
   "cell_type": "code",
   "execution_count": 39,
   "id": "332a7305",
   "metadata": {},
   "outputs": [
    {
     "data": {
      "text/plain": [
       "0    46\n",
       "1    28\n",
       "2    54\n",
       "3    49\n",
       "4     5\n",
       "Name: Tags_len, dtype: int64"
      ]
     },
     "execution_count": 39,
     "metadata": {},
     "output_type": "execute_result"
    }
   ],
   "source": [
    "data[\"Tags_len\"] = data[\"Tags\"].apply(len_fct)\n",
    "data[\"Tags_len\"].head()"
   ]
  },
  {
   "cell_type": "raw",
   "id": "29b07ee3",
   "metadata": {},
   "source": [
    "Je souhaite à présent exprimer un ratio entre la longueur du post complet et la longueur des tags."
   ]
  },
  {
   "cell_type": "code",
   "execution_count": 43,
   "id": "1767c1a1",
   "metadata": {},
   "outputs": [
    {
     "data": {
      "text/plain": [
       "0    14.0\n",
       "1    89.0\n",
       "2    46.0\n",
       "3    20.0\n",
       "4    36.0\n",
       "Name: Tags_len_ratio, dtype: float64"
      ]
     },
     "execution_count": 43,
     "metadata": {},
     "output_type": "execute_result"
    }
   ],
   "source": [
    "data[\"Tags_len_ratio\"] = round(data.apply(\n",
    "    lambda r: (r[\"Title_len\"] + r[\"Body_len\"]) / r[\"Tags_len\"], axis=1\n",
    "))\n",
    "data[\"Tags_len_ratio\"].head()"
   ]
  },
  {
   "cell_type": "markdown",
   "id": "6f4dbe92",
   "metadata": {},
   "source": [
    "## Analyse exploratoire des données"
   ]
  },
  {
   "cell_type": "code",
   "execution_count": 44,
   "id": "59ee505c",
   "metadata": {},
   "outputs": [
    {
     "data": {
      "text/html": [
       "<div>\n",
       "<style scoped>\n",
       "    .dataframe tbody tr th:only-of-type {\n",
       "        vertical-align: middle;\n",
       "    }\n",
       "\n",
       "    .dataframe tbody tr th {\n",
       "        vertical-align: top;\n",
       "    }\n",
       "\n",
       "    .dataframe thead th {\n",
       "        text-align: right;\n",
       "    }\n",
       "</style>\n",
       "<table border=\"1\" class=\"dataframe\">\n",
       "  <thead>\n",
       "    <tr style=\"text-align: right;\">\n",
       "      <th></th>\n",
       "      <th>Id</th>\n",
       "      <th>Score</th>\n",
       "      <th>ViewCount</th>\n",
       "      <th>FavoriteCount</th>\n",
       "      <th>AnswerCount</th>\n",
       "      <th>Title_len</th>\n",
       "      <th>Body_len</th>\n",
       "      <th>Tags_len</th>\n",
       "      <th>Tags_len_ratio</th>\n",
       "    </tr>\n",
       "  </thead>\n",
       "  <tbody>\n",
       "    <tr>\n",
       "      <th>count</th>\n",
       "      <td>5.000000e+04</td>\n",
       "      <td>50000.000000</td>\n",
       "      <td>5.000000e+04</td>\n",
       "      <td>50000.000000</td>\n",
       "      <td>50000.000000</td>\n",
       "      <td>50000.000000</td>\n",
       "      <td>50000.000000</td>\n",
       "      <td>50000.000000</td>\n",
       "      <td>50000.000000</td>\n",
       "    </tr>\n",
       "    <tr>\n",
       "      <th>mean</th>\n",
       "      <td>8.626758e+06</td>\n",
       "      <td>57.531500</td>\n",
       "      <td>6.242044e+04</td>\n",
       "      <td>18.979500</td>\n",
       "      <td>7.237800</td>\n",
       "      <td>50.552060</td>\n",
       "      <td>831.372700</td>\n",
       "      <td>29.458800</td>\n",
       "      <td>37.702420</td>\n",
       "    </tr>\n",
       "    <tr>\n",
       "      <th>std</th>\n",
       "      <td>1.383202e+07</td>\n",
       "      <td>225.094938</td>\n",
       "      <td>1.748175e+05</td>\n",
       "      <td>100.782543</td>\n",
       "      <td>6.099114</td>\n",
       "      <td>18.989728</td>\n",
       "      <td>1178.699537</td>\n",
       "      <td>14.661866</td>\n",
       "      <td>57.425712</td>\n",
       "    </tr>\n",
       "    <tr>\n",
       "      <th>min</th>\n",
       "      <td>4.000000e+00</td>\n",
       "      <td>4.000000</td>\n",
       "      <td>6.800000e+01</td>\n",
       "      <td>1.000000</td>\n",
       "      <td>4.000000</td>\n",
       "      <td>0.000000</td>\n",
       "      <td>16.000000</td>\n",
       "      <td>3.000000</td>\n",
       "      <td>1.000000</td>\n",
       "    </tr>\n",
       "    <tr>\n",
       "      <th>25%</th>\n",
       "      <td>9.087608e+05</td>\n",
       "      <td>8.000000</td>\n",
       "      <td>6.273750e+03</td>\n",
       "      <td>2.000000</td>\n",
       "      <td>4.000000</td>\n",
       "      <td>37.000000</td>\n",
       "      <td>295.000000</td>\n",
       "      <td>19.000000</td>\n",
       "      <td>13.000000</td>\n",
       "    </tr>\n",
       "    <tr>\n",
       "      <th>50%</th>\n",
       "      <td>2.290623e+06</td>\n",
       "      <td>16.000000</td>\n",
       "      <td>1.815300e+04</td>\n",
       "      <td>5.000000</td>\n",
       "      <td>6.000000</td>\n",
       "      <td>48.000000</td>\n",
       "      <td>531.000000</td>\n",
       "      <td>28.000000</td>\n",
       "      <td>23.000000</td>\n",
       "    </tr>\n",
       "    <tr>\n",
       "      <th>75%</th>\n",
       "      <td>4.267905e+06</td>\n",
       "      <td>41.000000</td>\n",
       "      <td>5.276225e+04</td>\n",
       "      <td>13.000000</td>\n",
       "      <td>8.000000</td>\n",
       "      <td>61.000000</td>\n",
       "      <td>955.000000</td>\n",
       "      <td>39.000000</td>\n",
       "      <td>42.000000</td>\n",
       "    </tr>\n",
       "    <tr>\n",
       "      <th>max</th>\n",
       "      <td>7.091913e+07</td>\n",
       "      <td>13315.000000</td>\n",
       "      <td>5.421690e+06</td>\n",
       "      <td>7520.000000</td>\n",
       "      <td>518.000000</td>\n",
       "      <td>150.000000</td>\n",
       "      <td>28702.000000</td>\n",
       "      <td>107.000000</td>\n",
       "      <td>2161.000000</td>\n",
       "    </tr>\n",
       "  </tbody>\n",
       "</table>\n",
       "</div>"
      ],
      "text/plain": [
       "                 Id         Score     ViewCount  FavoriteCount   AnswerCount  \\\n",
       "count  5.000000e+04  50000.000000  5.000000e+04   50000.000000  50000.000000   \n",
       "mean   8.626758e+06     57.531500  6.242044e+04      18.979500      7.237800   \n",
       "std    1.383202e+07    225.094938  1.748175e+05     100.782543      6.099114   \n",
       "min    4.000000e+00      4.000000  6.800000e+01       1.000000      4.000000   \n",
       "25%    9.087608e+05      8.000000  6.273750e+03       2.000000      4.000000   \n",
       "50%    2.290623e+06     16.000000  1.815300e+04       5.000000      6.000000   \n",
       "75%    4.267905e+06     41.000000  5.276225e+04      13.000000      8.000000   \n",
       "max    7.091913e+07  13315.000000  5.421690e+06    7520.000000    518.000000   \n",
       "\n",
       "          Title_len      Body_len      Tags_len  Tags_len_ratio  \n",
       "count  50000.000000  50000.000000  50000.000000    50000.000000  \n",
       "mean      50.552060    831.372700     29.458800       37.702420  \n",
       "std       18.989728   1178.699537     14.661866       57.425712  \n",
       "min        0.000000     16.000000      3.000000        1.000000  \n",
       "25%       37.000000    295.000000     19.000000       13.000000  \n",
       "50%       48.000000    531.000000     28.000000       23.000000  \n",
       "75%       61.000000    955.000000     39.000000       42.000000  \n",
       "max      150.000000  28702.000000    107.000000     2161.000000  "
      ]
     },
     "execution_count": 44,
     "metadata": {},
     "output_type": "execute_result"
    }
   ],
   "source": [
    "data.describe(include = np.number)"
   ]
  },
  {
   "cell_type": "code",
   "execution_count": 45,
   "id": "8d96da83",
   "metadata": {},
   "outputs": [
    {
     "data": {
      "text/html": [
       "<div>\n",
       "<style scoped>\n",
       "    .dataframe tbody tr th:only-of-type {\n",
       "        vertical-align: middle;\n",
       "    }\n",
       "\n",
       "    .dataframe tbody tr th {\n",
       "        vertical-align: top;\n",
       "    }\n",
       "\n",
       "    .dataframe thead th {\n",
       "        text-align: right;\n",
       "    }\n",
       "</style>\n",
       "<table border=\"1\" class=\"dataframe\">\n",
       "  <thead>\n",
       "    <tr style=\"text-align: right;\">\n",
       "      <th></th>\n",
       "      <th>Title</th>\n",
       "      <th>Body</th>\n",
       "      <th>Tags</th>\n",
       "    </tr>\n",
       "  </thead>\n",
       "  <tbody>\n",
       "    <tr>\n",
       "      <th>count</th>\n",
       "      <td>50000</td>\n",
       "      <td>50000</td>\n",
       "      <td>50000</td>\n",
       "    </tr>\n",
       "    <tr>\n",
       "      <th>unique</th>\n",
       "      <td>49997</td>\n",
       "      <td>49999</td>\n",
       "      <td>38327</td>\n",
       "    </tr>\n",
       "    <tr>\n",
       "      <th>top</th>\n",
       "      <td>How to get all privileges back to the root use...</td>\n",
       "      <td>Has anyone used Mono, the open source .NET imp...</td>\n",
       "      <td>javascript</td>\n",
       "    </tr>\n",
       "    <tr>\n",
       "      <th>freq</th>\n",
       "      <td>2</td>\n",
       "      <td>2</td>\n",
       "      <td>268</td>\n",
       "    </tr>\n",
       "  </tbody>\n",
       "</table>\n",
       "</div>"
      ],
      "text/plain": [
       "                                                    Title  \\\n",
       "count                                               50000   \n",
       "unique                                              49997   \n",
       "top     How to get all privileges back to the root use...   \n",
       "freq                                                    2   \n",
       "\n",
       "                                                     Body          Tags  \n",
       "count                                               50000         50000  \n",
       "unique                                              49999         38327  \n",
       "top     Has anyone used Mono, the open source .NET imp...   javascript   \n",
       "freq                                                    2           268  "
      ]
     },
     "execution_count": 45,
     "metadata": {},
     "output_type": "execute_result"
    }
   ],
   "source": [
    "data.describe(include = object)"
   ]
  },
  {
   "cell_type": "markdown",
   "id": "dd706945",
   "metadata": {},
   "source": [
    "### Analyse des filtres utilisés pour la requête"
   ]
  },
  {
   "cell_type": "code",
   "execution_count": 53,
   "id": "14ff57b0",
   "metadata": {},
   "outputs": [
    {
     "data": {
      "text/plain": [
       "<AxesSubplot:>"
      ]
     },
     "execution_count": 53,
     "metadata": {},
     "output_type": "execute_result"
    },
    {
     "data": {
      "image/png": "[encoded data removed]",
      "text/plain": [
       "<Figure size 1080x360 with 2 Axes>"
      ]
     },
     "metadata": {},
     "output_type": "display_data"
    }
   ],
   "source": [
    "var = 'Score'\n",
    "\n",
    "sns.set(rc = {'figure.figsize':(15,5)})\n",
    "fig, (ax1, ax2) = plt.subplots(1,2)\n",
    "sns.histplot(data, x=var, bins=30, ax=ax1)\n",
    "sns.boxplot(data = data[var], ax=ax2)"
   ]
  },
  {
   "cell_type": "code",
   "execution_count": 58,
   "id": "c5860d5f",
   "metadata": {},
   "outputs": [],
   "source": [
    "#Transformation logarithmique\n",
    "data['Score_log'] = [log(score+1) for score in data['Score']]"
   ]
  },
  {
   "cell_type": "code",
   "execution_count": 59,
   "id": "424785c4",
   "metadata": {},
   "outputs": [
    {
     "data": {
      "text/plain": [
       "<AxesSubplot:>"
      ]
     },
     "execution_count": 59,
     "metadata": {},
     "output_type": "execute_result"
    },
    {
     "data": {
      "image/png": "[encoded data removed]",
      "text/plain": [
       "<Figure size 1080x360 with 2 Axes>"
      ]
     },
     "metadata": {},
     "output_type": "display_data"
    }
   ],
   "source": [
    "var = 'Score_log'\n",
    "\n",
    "sns.set(rc = {'figure.figsize':(15,5)})\n",
    "fig, (ax1, ax2) = plt.subplots(1,2)\n",
    "sns.histplot(data, x=var, bins=30, ax=ax1)\n",
    "sns.boxplot(data = data[var], ax=ax2)"
   ]
  },
  {
   "cell_type": "code",
   "execution_count": 51,
   "id": "0c4cac91",
   "metadata": {},
   "outputs": [
    {
     "data": {
      "text/plain": [
       "<AxesSubplot:>"
      ]
     },
     "execution_count": 51,
     "metadata": {},
     "output_type": "execute_result"
    },
    {
     "data": {
      "image/png": "[encoded data removed]",
      "text/plain": [
       "<Figure size 1080x360 with 2 Axes>"
      ]
     },
     "metadata": {},
     "output_type": "display_data"
    }
   ],
   "source": [
    "var = 'ViewCount'\n",
    "\n",
    "sns.set(rc = {'figure.figsize':(15,5)})\n",
    "fig, (ax1, ax2) = plt.subplots(1,2)\n",
    "sns.histplot(data, x=var, bins=30, ax=ax1)\n",
    "sns.boxplot(data = data[var], ax=ax2)"
   ]
  },
  {
   "cell_type": "code",
   "execution_count": 60,
   "id": "13e07524",
   "metadata": {},
   "outputs": [],
   "source": [
    "#Transformation logarithmique\n",
    "data['ViewCount_log'] = [log(count+1) for count in data['ViewCount']]"
   ]
  },
  {
   "cell_type": "code",
   "execution_count": 61,
   "id": "05a4cec2",
   "metadata": {},
   "outputs": [
    {
     "data": {
      "text/plain": [
       "<AxesSubplot:>"
      ]
     },
     "execution_count": 61,
     "metadata": {},
     "output_type": "execute_result"
    },
    {
     "data": {
      "image/png": "[encoded data removed]",
      "text/plain": [
       "<Figure size 1080x360 with 2 Axes>"
      ]
     },
     "metadata": {},
     "output_type": "display_data"
    }
   ],
   "source": [
    "var = 'ViewCount_log'\n",
    "\n",
    "sns.set(rc = {'figure.figsize':(15,5)})\n",
    "fig, (ax1, ax2) = plt.subplots(1,2)\n",
    "sns.histplot(data, x=var, bins=30, ax=ax1)\n",
    "sns.boxplot(data = data[var], ax=ax2)"
   ]
  },
  {
   "cell_type": "code",
   "execution_count": 54,
   "id": "87f81a0e",
   "metadata": {},
   "outputs": [
    {
     "data": {
      "text/plain": [
       "<AxesSubplot:>"
      ]
     },
     "execution_count": 54,
     "metadata": {},
     "output_type": "execute_result"
    },
    {
     "data": {
      "image/png": "[encoded data removed]",
      "text/plain": [
       "<Figure size 1080x360 with 2 Axes>"
      ]
     },
     "metadata": {},
     "output_type": "display_data"
    }
   ],
   "source": [
    "var = 'FavoriteCount'\n",
    "\n",
    "sns.set(rc = {'figure.figsize':(15,5)})\n",
    "fig, (ax1, ax2) = plt.subplots(1,2)\n",
    "sns.histplot(data, x=var, bins=30, ax=ax1)\n",
    "sns.boxplot(data = data[var], ax=ax2)"
   ]
  },
  {
   "cell_type": "code",
   "execution_count": 62,
   "id": "9493804a",
   "metadata": {},
   "outputs": [],
   "source": [
    "#Transformation logarithmique\n",
    "data['FavoriteCount_log'] = [log(count+1) for count in data['FavoriteCount']]"
   ]
  },
  {
   "cell_type": "code",
   "execution_count": 63,
   "id": "558a1587",
   "metadata": {},
   "outputs": [
    {
     "data": {
      "text/plain": [
       "<AxesSubplot:>"
      ]
     },
     "execution_count": 63,
     "metadata": {},
     "output_type": "execute_result"
    },
    {
     "data": {
      "image/png": "[encoded data removed]",
      "text/plain": [
       "<Figure size 1080x360 with 2 Axes>"
      ]
     },
     "metadata": {},
     "output_type": "display_data"
    }
   ],
   "source": [
    "var = 'FavoriteCount_log'\n",
    "\n",
    "sns.set(rc = {'figure.figsize':(15,5)})\n",
    "fig, (ax1, ax2) = plt.subplots(1,2)\n",
    "sns.histplot(data, x=var, bins=30, ax=ax1)\n",
    "sns.boxplot(data = data[var], ax=ax2)"
   ]
  },
  {
   "cell_type": "code",
   "execution_count": 55,
   "id": "513c65fc",
   "metadata": {},
   "outputs": [
    {
     "data": {
      "text/plain": [
       "<AxesSubplot:>"
      ]
     },
     "execution_count": 55,
     "metadata": {},
     "output_type": "execute_result"
    },
    {
     "data": {
      "image/png": "[encoded data removed]",
      "text/plain": [
       "<Figure size 1080x360 with 2 Axes>"
      ]
     },
     "metadata": {},
     "output_type": "display_data"
    }
   ],
   "source": [
    "var = 'AnswerCount'\n",
    "\n",
    "sns.set(rc = {'figure.figsize':(15,5)})\n",
    "fig, (ax1, ax2) = plt.subplots(1,2)\n",
    "sns.histplot(data, x=var, bins=30, ax=ax1)\n",
    "sns.boxplot(data = data[var], ax=ax2)"
   ]
  },
  {
   "cell_type": "code",
   "execution_count": 64,
   "id": "bc2b9ee6",
   "metadata": {},
   "outputs": [],
   "source": [
    "#Transformation logarithmique\n",
    "data['AnswerCount_log'] = [log(count+1) for count in data['AnswerCount']]"
   ]
  },
  {
   "cell_type": "code",
   "execution_count": 65,
   "id": "a5d6a39b",
   "metadata": {},
   "outputs": [
    {
     "data": {
      "text/plain": [
       "<AxesSubplot:>"
      ]
     },
     "execution_count": 65,
     "metadata": {},
     "output_type": "execute_result"
    },
    {
     "data": {
      "image/png": "[encoded data removed]",
      "text/plain": [
       "<Figure size 1080x360 with 2 Axes>"
      ]
     },
     "metadata": {},
     "output_type": "display_data"
    }
   ],
   "source": [
    "var = 'AnswerCount_log'\n",
    "\n",
    "sns.set(rc = {'figure.figsize':(15,5)})\n",
    "fig, (ax1, ax2) = plt.subplots(1,2)\n",
    "sns.histplot(data, x=var, bins=30, ax=ax1)\n",
    "sns.boxplot(data = data[var], ax=ax2)"
   ]
  },
  {
   "cell_type": "markdown",
   "id": "2be25217",
   "metadata": {},
   "source": [
    "### Analyse des nouvelles features"
   ]
  },
  {
   "cell_type": "code",
   "execution_count": 66,
   "id": "85705d0a",
   "metadata": {},
   "outputs": [
    {
     "name": "stdout",
     "output_type": "stream",
     "text": [
      "<class 'pandas.core.frame.DataFrame'>\n",
      "RangeIndex: 50000 entries, 0 to 49999\n",
      "Data columns (total 16 columns):\n",
      " #   Column             Non-Null Count  Dtype  \n",
      "---  ------             --------------  -----  \n",
      " 0   Title              50000 non-null  object \n",
      " 1   Body               50000 non-null  object \n",
      " 2   Tags               50000 non-null  object \n",
      " 3   Id                 50000 non-null  int64  \n",
      " 4   Score              50000 non-null  int64  \n",
      " 5   ViewCount          50000 non-null  int64  \n",
      " 6   FavoriteCount      50000 non-null  int64  \n",
      " 7   AnswerCount        50000 non-null  int64  \n",
      " 8   Title_len          50000 non-null  int64  \n",
      " 9   Body_len           50000 non-null  int64  \n",
      " 10  Tags_len           50000 non-null  int64  \n",
      " 11  Tags_len_ratio     50000 non-null  float64\n",
      " 12  Score_log          50000 non-null  float64\n",
      " 13  ViewCount_log      50000 non-null  float64\n",
      " 14  FavoriteCount_log  50000 non-null  float64\n",
      " 15  AnswerCount_log    50000 non-null  float64\n",
      "dtypes: float64(5), int64(8), object(3)\n",
      "memory usage: 6.1+ MB\n"
     ]
    }
   ],
   "source": [
    "data.info()"
   ]
  },
  {
   "cell_type": "code",
   "execution_count": 68,
   "id": "ed8d1841",
   "metadata": {},
   "outputs": [
    {
     "data": {
      "text/plain": [
       "<AxesSubplot:>"
      ]
     },
     "execution_count": 68,
     "metadata": {},
     "output_type": "execute_result"
    },
    {
     "data": {
      "image/png": "[encoded data removed]",
      "text/plain": [
       "<Figure size 1080x360 with 2 Axes>"
      ]
     },
     "metadata": {},
     "output_type": "display_data"
    }
   ],
   "source": [
    "var = 'Title_len'\n",
    "\n",
    "sns.set(rc = {'figure.figsize':(15,5)})\n",
    "fig, (ax1, ax2) = plt.subplots(1,2)\n",
    "sns.histplot(data, x=var, bins=30, ax=ax1)\n",
    "sns.boxplot(data = data[var], ax=ax2)"
   ]
  },
  {
   "cell_type": "code",
   "execution_count": 69,
   "id": "18a5bf11",
   "metadata": {},
   "outputs": [
    {
     "data": {
      "text/plain": [
       "<AxesSubplot:>"
      ]
     },
     "execution_count": 69,
     "metadata": {},
     "output_type": "execute_result"
    },
    {
     "data": {
      "image/png": "[encoded data removed]",
      "text/plain": [
       "<Figure size 1080x360 with 2 Axes>"
      ]
     },
     "metadata": {},
     "output_type": "display_data"
    }
   ],
   "source": [
    "var = 'Body_len'\n",
    "\n",
    "sns.set(rc = {'figure.figsize':(15,5)})\n",
    "fig, (ax1, ax2) = plt.subplots(1,2)\n",
    "sns.histplot(data, x=var, bins=30, ax=ax1)\n",
    "sns.boxplot(data = data[var], ax=ax2)"
   ]
  },
  {
   "cell_type": "code",
   "execution_count": 74,
   "id": "bc619d3c",
   "metadata": {},
   "outputs": [],
   "source": [
    "#Transformation logarithmique\n",
    "data['Body_len_log'] = [log(l+1) for l in data['Body_len']]"
   ]
  },
  {
   "cell_type": "code",
   "execution_count": 75,
   "id": "3bfe2424",
   "metadata": {},
   "outputs": [
    {
     "data": {
      "text/plain": [
       "<AxesSubplot:>"
      ]
     },
     "execution_count": 75,
     "metadata": {},
     "output_type": "execute_result"
    },
    {
     "data": {
      "image/png": "[encoded data removed]",
      "text/plain": [
       "<Figure size 1080x360 with 2 Axes>"
      ]
     },
     "metadata": {},
     "output_type": "display_data"
    }
   ],
   "source": [
    "var = 'Body_len_log'\n",
    "\n",
    "sns.set(rc = {'figure.figsize':(15,5)})\n",
    "fig, (ax1, ax2) = plt.subplots(1,2)\n",
    "sns.histplot(data, x=var, bins=30, ax=ax1)\n",
    "sns.boxplot(data = data[var], ax=ax2)"
   ]
  },
  {
   "cell_type": "code",
   "execution_count": 72,
   "id": "509b69e4",
   "metadata": {},
   "outputs": [
    {
     "data": {
      "text/plain": [
       "<AxesSubplot:>"
      ]
     },
     "execution_count": 72,
     "metadata": {},
     "output_type": "execute_result"
    },
    {
     "data": {
      "image/png": "[encoded data removed]",
      "text/plain": [
       "<Figure size 1080x360 with 2 Axes>"
      ]
     },
     "metadata": {},
     "output_type": "display_data"
    }
   ],
   "source": [
    "var = 'Tags_len'\n",
    "\n",
    "sns.set(rc = {'figure.figsize':(15,5)})\n",
    "fig, (ax1, ax2) = plt.subplots(1,2)\n",
    "sns.histplot(data, x=var, bins=30, ax=ax1)\n",
    "sns.boxplot(data = data[var], ax=ax2)"
   ]
  },
  {
   "cell_type": "code",
   "execution_count": 73,
   "id": "2807d9ae",
   "metadata": {},
   "outputs": [
    {
     "data": {
      "text/plain": [
       "<AxesSubplot:>"
      ]
     },
     "execution_count": 73,
     "metadata": {},
     "output_type": "execute_result"
    },
    {
     "data": {
      "image/png": "[encoded data removed]",
      "text/plain": [
       "<Figure size 1080x360 with 2 Axes>"
      ]
     },
     "metadata": {},
     "output_type": "display_data"
    }
   ],
   "source": [
    "var = 'Tags_len_ratio'\n",
    "\n",
    "sns.set(rc = {'figure.figsize':(15,5)})\n",
    "fig, (ax1, ax2) = plt.subplots(1,2)\n",
    "sns.histplot(data, x=var, bins=30, ax=ax1)\n",
    "sns.boxplot(data = data[var], ax=ax2)"
   ]
  },
  {
   "cell_type": "code",
   "execution_count": 78,
   "id": "95995c37",
   "metadata": {},
   "outputs": [],
   "source": [
    "#Transformation logarithmique\n",
    "data['Tags_len_ratio_log'] = [log(r+1) for r in data['Tags_len_ratio']]"
   ]
  },
  {
   "cell_type": "code",
   "execution_count": 80,
   "id": "52dc5b0a",
   "metadata": {},
   "outputs": [
    {
     "data": {
      "text/plain": [
       "<AxesSubplot:>"
      ]
     },
     "execution_count": 80,
     "metadata": {},
     "output_type": "execute_result"
    },
    {
     "data": {
      "image/png": "[encoded data removed]",
      "text/plain": [
       "<Figure size 1080x360 with 2 Axes>"
      ]
     },
     "metadata": {},
     "output_type": "display_data"
    }
   ],
   "source": [
    "var = 'Tags_len_ratio_log'\n",
    "\n",
    "sns.set(rc = {'figure.figsize':(15,5)})\n",
    "fig, (ax1, ax2) = plt.subplots(1,2)\n",
    "sns.histplot(data, x=var, bins=30, ax=ax1)\n",
    "sns.boxplot(data = data[var], ax=ax2)"
   ]
  },
  {
   "cell_type": "markdown",
   "id": "bae28f20",
   "metadata": {},
   "source": [
    "## Deuxième phase de Nettoyage des données"
   ]
  },
  {
   "cell_type": "markdown",
   "id": "3559424c",
   "metadata": {},
   "source": [
    "### Etapes communes"
   ]
  },
  {
   "cell_type": "markdown",
   "id": "db061e0f",
   "metadata": {},
   "source": [
    "### Etapes spécifiques au Bag of Words"
   ]
  },
  {
   "cell_type": "raw",
   "id": "63b12122",
   "metadata": {},
   "source": [
    "je travail sur une copie de data_c"
   ]
  },
  {
   "cell_type": "code",
   "execution_count": 153,
   "id": "955323d4",
   "metadata": {},
   "outputs": [
    {
     "name": "stdout",
     "output_type": "stream",
     "text": [
      "(49997, 8)\n"
     ]
    }
   ],
   "source": [
    "data_c2 = data_c.copy()\n",
    "print(data_c2.shape)"
   ]
  },
  {
   "cell_type": "markdown",
   "id": "5e184e54",
   "metadata": {},
   "source": [
    "#### Suppression des majuscules"
   ]
  },
  {
   "cell_type": "raw",
   "id": "e45cdc77",
   "metadata": {},
   "source": [
    "remarque : les tags étant des balises, ils n'ont pas de majuscule."
   ]
  },
  {
   "cell_type": "code",
   "execution_count": 154,
   "id": "40305b8e",
   "metadata": {},
   "outputs": [],
   "source": [
    "def sup_maj(sentence) :\n",
    "    return sentence.lower()"
   ]
  },
  {
   "cell_type": "code",
   "execution_count": 155,
   "id": "10c515d6",
   "metadata": {},
   "outputs": [
    {
     "data": {
      "text/plain": [
       "0    react-native: download image from firebase sto...\n",
       "1    how to set entity framework core migration tim...\n",
       "2               gtk.statusicon and gtk.menu on windows\n",
       "3    how to create shared package.json for multiple...\n",
       "4    how to add draggable scrollbar to scrollview/l...\n",
       "Name: Title, dtype: object"
      ]
     },
     "execution_count": 155,
     "metadata": {},
     "output_type": "execute_result"
    }
   ],
   "source": [
    "data_c2[\"Title\"] = data_c2[\"Title\"].apply(sup_maj)\n",
    "data_c2[\"Title\"].head()"
   ]
  },
  {
   "cell_type": "code",
   "execution_count": 156,
   "id": "ad285aca",
   "metadata": {},
   "outputs": [
    {
     "data": {
      "text/plain": [
       "0    pre-informations:\\ni still have a firebase pro...\n",
       "1    i'm using the latest (1.0.0) version of ef cor...\n",
       "2    i have a crossplatform app that has a gtk.stat...\n",
       "3    i am building my app using separated micro ser...\n",
       "4    i have a listview that uses a customlistadapte...\n",
       "Name: Body, dtype: object"
      ]
     },
     "execution_count": 156,
     "metadata": {},
     "output_type": "execute_result"
    }
   ],
   "source": [
    "data_c2[\"Body\"] = data_c2[\"Body\"].apply(sup_maj)\n",
    "data_c2[\"Body\"].head()"
   ]
  },
  {
   "cell_type": "markdown",
   "id": "b2953e27",
   "metadata": {},
   "source": [
    "#### Exploration des tags"
   ]
  },
  {
   "cell_type": "raw",
   "id": "60d19446",
   "metadata": {},
   "source": [
    "Afin de tokéniser efficacement les documents du corpus pour obtenir un découpage en tokens pertinents, il est nécessaire d'explorer les tags. Il est en effet essentiel que la tokénisation des documents n'entraîne pas la suppression d'éléments présents dans la liste des tags. Je décide donc de spliter les tags et de les lister afin d'adapter la tokénisation des documents."
   ]
  },
  {
   "cell_type": "code",
   "execution_count": 157,
   "id": "31163fc8",
   "metadata": {},
   "outputs": [],
   "source": [
    "data_c2['Tags_split'] = data_c2.apply(lambda r :r['Tags'].split(), axis=1)"
   ]
  },
  {
   "cell_type": "code",
   "execution_count": 158,
   "id": "e7aba652",
   "metadata": {},
   "outputs": [
    {
     "data": {
      "text/plain": [
       "0    [javascript, image, firebase, react-native, fi...\n",
       "1        [c#, entity-framework, entity-framework-core]\n",
       "2                                         [gtk, pygtk]\n",
       "3                                       [node.js, npm]\n",
       "4               [android, android-listview, scrollbar]\n",
       "Name: Tags_split, dtype: object"
      ]
     },
     "execution_count": 158,
     "metadata": {},
     "output_type": "execute_result"
    }
   ],
   "source": [
    "data_c2['Tags_split'].head()"
   ]
  },
  {
   "cell_type": "raw",
   "id": "b71129fa",
   "metadata": {},
   "source": [
    "Je créé à présent la liste des tags présents dans le jeux de données"
   ]
  },
  {
   "cell_type": "code",
   "execution_count": 62,
   "id": "7503c2bf",
   "metadata": {},
   "outputs": [],
   "source": [
    "def liste_tags(document) :\n",
    "    dico_tags = {}\n",
    "    for sentence in document :\n",
    "        for tag in sentence :\n",
    "            if tag in dico_tags :\n",
    "                dico_tags[tag] += 1\n",
    "            else :\n",
    "                dico_tags[tag] = 1\n",
    "    return dico_tags"
   ]
  },
  {
   "cell_type": "code",
   "execution_count": null,
   "id": "02f74b0d",
   "metadata": {},
   "outputs": [],
   "source": [
    "#autre solution :\n",
    "dico_tags = count(data_c2['Tags_split'].sum())"
   ]
  },
  {
   "cell_type": "code",
   "execution_count": 72,
   "id": "b22bd9e0",
   "metadata": {},
   "outputs": [],
   "source": [
    "dico_tags = liste_tags(data_c2['Tags_split'])"
   ]
  },
  {
   "cell_type": "code",
   "execution_count": 73,
   "id": "8fa49892",
   "metadata": {},
   "outputs": [
    {
     "data": {
      "text/plain": [
       "{'javascript': 3355,\n",
       " 'image': 257,\n",
       " 'firebase': 195,\n",
       " 'react-native': 138,\n",
       " 'firebase-storage': 8,\n",
       " 'c#': 5392,\n",
       " 'entity-framework': 181,\n",
       " 'entity-framework-core': 24,\n",
       " 'gtk': 19,\n",
       " 'pygtk': 11,\n",
       " 'node.js': 494,\n",
       " 'npm': 84,\n",
       " 'android': 1775,\n",
       " 'android-listview': 19,\n",
       " 'scrollbar': 12,\n",
       " 'java': 4268,\n",
       " 'ssl': 119,\n",
       " 'jetty': 13,\n",
       " 'sql-server': 944,\n",
       " 'eclipse': 436,\n",
       " 'jdbc': 90,\n",
       " 'three.js': 19,\n",
       " 'webgl': 11,\n",
       " 'iphone': 1025,\n",
       " 'ios': 1129,\n",
       " 'objective-c': 880,\n",
       " 'ios7': 251,\n",
       " 'powershell': 202,\n",
       " 'html': 1542,\n",
       " 'css': 1129,\n",
       " 'position': 16,\n",
       " 'windows': 802,\n",
       " 'git': 577,\n",
       " 'github': 99,\n",
       " 'version-control': 236,\n",
       " 'gitkraken': 2,\n",
       " 'jenkins': 90,\n",
       " 'haskell': 172,\n",
       " 'syntax': 122,\n",
       " 'syntactic-sugar': 5,\n",
       " 'guard': 2,\n",
       " 'jquery': 1470,\n",
       " 'google-chrome': 161,\n",
       " 'mobile': 51,\n",
       " 'sql': 1283,\n",
       " 'tsql': 276,\n",
       " 'sql-server-2008': 130,\n",
       " 'lisp': 61,\n",
       " 'let': 5,\n",
       " 'do-loops': 1,\n",
       " 'python': 3673,\n",
       " 'tkinter': 21,\n",
       " 'matplotlib': 114,\n",
       " 'svn': 343,\n",
       " 'apache2': 17,\n",
       " 'webdav': 7,\n",
       " 'java-8': 72,\n",
       " 'logback': 14,\n",
       " 'completable-future': 5,\n",
       " '.net': 2665,\n",
       " 'input': 53,\n",
       " 'android-edittext': 16,\n",
       " 'wpf': 773,\n",
       " 'keyboard': 44,\n",
       " 'caliburn.micro': 4,\n",
       " 'linux': 754,\n",
       " 'bash': 336,\n",
       " 'asp.net': 1267,\n",
       " 'google-visualization': 9,\n",
       " 'oracle': 281,\n",
       " 'stored-procedures': 103,\n",
       " 'plsql': 48,\n",
       " 'warnings': 35,\n",
       " 'json': 402,\n",
       " '.net-4.0': 22,\n",
       " 'json.net': 35,\n",
       " 'zsh': 18,\n",
       " 'nitrousio': 3,\n",
       " 'c++': 2672,\n",
       " 'gdb': 56,\n",
       " 'stdstring': 6,\n",
       " 'asp.net-mvc': 725,\n",
       " 'asp.net-mvc-3': 18,\n",
       " 'asp.net-mvc-helpers': 1,\n",
       " 'multithreading': 530,\n",
       " 'pandas': 252,\n",
       " 'dask': 4,\n",
       " 'fuzzywuzzy': 1,\n",
       " 'binding': 64,\n",
       " 'datacontext': 9,\n",
       " 'function': 182,\n",
       " 'ocaml': 28,\n",
       " 'infix-notation': 2,\n",
       " 'pydev': 17,\n",
       " 'pylint': 5,\n",
       " 'apache-kafka': 39,\n",
       " 'apache-kafka-streams': 6,\n",
       " 'typescript': 220,\n",
       " 'typescript-typings': 9,\n",
       " 'typescript2.0': 2,\n",
       " 'php': 1930,\n",
       " 'model-view-controller': 93,\n",
       " 'design-patterns': 227,\n",
       " 'zend-framework': 75,\n",
       " 'datamapper': 2,\n",
       " 'angularjs': 373,\n",
       " 'rest': 201,\n",
       " 'boost': 109,\n",
       " 'bjam': 1,\n",
       " 'c': 1149,\n",
       " 'gcc': 193,\n",
       " 'static-analysis': 16,\n",
       " 'color-scheme': 6,\n",
       " 'macos': 387,\n",
       " 'kernel-extension': 1,\n",
       " 'serialization': 154,\n",
       " 'xamarin.ios': 21,\n",
       " 'permissions': 56,\n",
       " 'android-manifest': 14,\n",
       " 'sql-server-2005': 206,\n",
       " 'breadcrumbs': 2,\n",
       " 'nested-sets': 4,\n",
       " 'mptt': 1,\n",
       " 'db2': 14,\n",
       " 'postback': 19,\n",
       " 'static': 86,\n",
       " 'non-static': 4,\n",
       " 'unit-testing': 447,\n",
       " 'testing': 188,\n",
       " 'automated-tests': 29,\n",
       " 'assertions': 7,\n",
       " 'language-agnostic': 286,\n",
       " 'math': 218,\n",
       " 'encryption': 103,\n",
       " 'oop': 326,\n",
       " 'orm': 111,\n",
       " 'scala': 303,\n",
       " 'jar': 64,\n",
       " 'algorithm': 569,\n",
       " 'string': 536,\n",
       " 'suffix-tree': 3,\n",
       " 'database-design': 173,\n",
       " 'wcf': 230,\n",
       " 'dependencies': 48,\n",
       " 'assemblies': 42,\n",
       " 'performance': 601,\n",
       " 'clr': 53,\n",
       " 'sqlclr': 5,\n",
       " 'cvs': 29,\n",
       " 'tortoisecvs': 2,\n",
       " 'emacs': 181,\n",
       " 'clojure': 80,\n",
       " 'slime': 9,\n",
       " 'alert': 10,\n",
       " 'linq': 325,\n",
       " 'csv': 105,\n",
       " 'split': 36,\n",
       " 'out-of-memory': 16,\n",
       " 'numpy': 179,\n",
       " 'save': 11,\n",
       " 'yaml': 21,\n",
       " '.net-framework-version': 3,\n",
       " 'sockets': 144,\n",
       " 'networking': 145,\n",
       " 'tcp': 53,\n",
       " 'iis': 151,\n",
       " 'upload': 38,\n",
       " 'visual-studio-code': 71,\n",
       " 'makefile': 85,\n",
       " 'epg': 1,\n",
       " 'scheduling': 14,\n",
       " 'timer': 34,\n",
       " 'task': 20,\n",
       " 'readdirectorychangesw': 3,\n",
       " 'reflection': 174,\n",
       " 'go': 144,\n",
       " 'cocoa': 294,\n",
       " 'cocoa-touch': 326,\n",
       " 'xcode': 345,\n",
       " 'initialization': 59,\n",
       " 'whitespace': 27,\n",
       " 'elasticsearch': 50,\n",
       " 'java-me': 35,\n",
       " 'cross-platform': 63,\n",
       " 'portability': 18,\n",
       " 'midp': 6,\n",
       " 'code-golf': 17,\n",
       " 'rosetta-stone': 7,\n",
       " 'icons': 39,\n",
       " 'font-awesome': 11,\n",
       " 'dependency-properties': 11,\n",
       " 'windows-mobile': 19,\n",
       " 'compact-framework': 29,\n",
       " 'r': 501,\n",
       " '64-bit': 69,\n",
       " '32bit-64bit': 12,\n",
       " 'database': 560,\n",
       " 'frameworks': 67,\n",
       " 'client-server': 17,\n",
       " 'point-of-sale': 4,\n",
       " 'generics': 254,\n",
       " 'events': 155,\n",
       " 'delegates': 79,\n",
       " 'constraints': 29,\n",
       " 'cil': 15,\n",
       " 'resharper': 43,\n",
       " 'uml': 29,\n",
       " 'use-case': 4,\n",
       " 'chromium': 8,\n",
       " 'puppeteer': 7,\n",
       " 'histogram': 10,\n",
       " 'montecarlo': 6,\n",
       " 'relational': 7,\n",
       " 'innovation': 3,\n",
       " 'data-binding': 127,\n",
       " 'repeater': 10,\n",
       " 'page-lifecycle': 3,\n",
       " 'red': 2,\n",
       " 'mysql': 938,\n",
       " 'random': 109,\n",
       " 'generator': 31,\n",
       " 'serial-number': 3,\n",
       " 'speech-recognition': 13,\n",
       " 'python-2.7': 125,\n",
       " 'pickle': 10,\n",
       " 'ggplot2': 81,\n",
       " 'drupal': 27,\n",
       " 'video': 79,\n",
       " 'webcam': 12,\n",
       " 'xml': 481,\n",
       " 'rss': 37,\n",
       " 'atom-feed': 8,\n",
       " 'recursion': 80,\n",
       " 'polymorphism': 38,\n",
       " 'binary-tree': 20,\n",
       " 'versioning': 25,\n",
       " 'automation': 44,\n",
       " 'error-handling': 97,\n",
       " 'nlog': 7,\n",
       " 'health-monitoring': 3,\n",
       " 'impersonation': 10,\n",
       " 'http': 273,\n",
       " 'forms': 188,\n",
       " 'post': 63,\n",
       " '.net-3.5': 104,\n",
       " 'content-management-system': 12,\n",
       " 'n2': 1,\n",
       " 'datepart': 1,\n",
       " 'localization': 72,\n",
       " 'internationalization': 63,\n",
       " 'timezone': 53,\n",
       " 'globalization': 16,\n",
       " 'spring': 371,\n",
       " 'charts': 37,\n",
       " 'timeline': 2,\n",
       " 'architecture': 132,\n",
       " 'system-integration': 2,\n",
       " 'ruby': 785,\n",
       " 'sorting': 177,\n",
       " 'installation': 135,\n",
       " 'debian': 19,\n",
       " 'samba': 5,\n",
       " 'windows-xp': 34,\n",
       " 'crash-dumps': 2,\n",
       " 'bsod': 2,\n",
       " 'visual-studio-2005': 62,\n",
       " 'ssas': 3,\n",
       " 'trace': 19,\n",
       " 'olap': 5,\n",
       " 'winapi': 248,\n",
       " 'porting': 9,\n",
       " 'fopen': 5,\n",
       " 'vbscript': 48,\n",
       " 'wmi': 21,\n",
       " 'inheritance': 148,\n",
       " 'constructor': 68,\n",
       " 'hive': 21,\n",
       " 'lxml': 10,\n",
       " 'program-entry-point': 8,\n",
       " 'obfuscation': 28,\n",
       " 'doctest': 3,\n",
       " 'apache': 181,\n",
       " 'tomcat': 106,\n",
       " 'tomcat7': 9,\n",
       " 'configure': 5,\n",
       " 'apr': 1,\n",
       " 'curl': 79,\n",
       " 'spring-mvc': 117,\n",
       " 'dependency-injection': 93,\n",
       " 'memory': 158,\n",
       " 'dispose': 21,\n",
       " 'msxml': 7,\n",
       " 'visual-studio-2008': 265,\n",
       " 'xslt': 91,\n",
       " 'visual-sourcesafe-plugin': 1,\n",
       " 'linq-to-sql': 139,\n",
       " 'perl': 323,\n",
       " 'map': 40,\n",
       " 'virtualpathprovider': 2,\n",
       " 'calendar': 25,\n",
       " 'process': 87,\n",
       " 'session': 121,\n",
       " 'cluster-computing': 13,\n",
       " 'failover': 4,\n",
       " 'session-replication': 1,\n",
       " 'null': 74,\n",
       " 'dbnull': 4,\n",
       " 'mercurial': 59,\n",
       " 'production': 5,\n",
       " 'ini': 4,\n",
       " 'fileparse': 1,\n",
       " 'schema': 38,\n",
       " 'ms-access': 91,\n",
       " 'triggers': 56,\n",
       " 'numbers': 29,\n",
       " 'mysqli': 17,\n",
       " 'indexing': 92,\n",
       " 'visual-studio-2008-sp1': 2,\n",
       " 'configuration-files': 19,\n",
       " 'gd': 17,\n",
       " 'jpeg': 29,\n",
       " 'jsp': 83,\n",
       " 'msbuild': 91,\n",
       " 'clickonce': 35,\n",
       " 'cruisecontrol.net': 18,\n",
       " 'publish': 6,\n",
       " 'web-services': 192,\n",
       " 'datatable': 47,\n",
       " 'file': 209,\n",
       " 'directory': 75,\n",
       " 'common-tasks': 2,\n",
       " 'editor': 64,\n",
       " 'denormalization': 5,\n",
       " 'com': 89,\n",
       " 'interop': 50,\n",
       " 'email': 141,\n",
       " 'laravel': 154,\n",
       " 'docker': 191,\n",
       " 'alpine': 8,\n",
       " 'ionic4': 10,\n",
       " 'encoding': 85,\n",
       " 'azure-cosmosdb': 8,\n",
       " 'azure-cosmosdb-sqlapi': 1,\n",
       " 'profiling': 59,\n",
       " 'caching': 143,\n",
       " 'zend-optimizer': 1,\n",
       " 'swift': 352,\n",
       " 'alamofire': 8,\n",
       " 'multipartform-data': 13,\n",
       " 'swift4.2': 1,\n",
       " 'replication': 7,\n",
       " 'android-6.0-marshmallow': 11,\n",
       " 'search': 112,\n",
       " 'eloquent': 20,\n",
       " 'pagination': 33,\n",
       " 'laravel-blade': 3,\n",
       " 'soap': 51,\n",
       " 'wsdl': 23,\n",
       " 'android-glide': 7,\n",
       " 'android-module': 1,\n",
       " 'jenkins-pipeline': 26,\n",
       " 'jenkins-plugins': 15,\n",
       " 'compiler-optimization': 13,\n",
       " 'python-3.x': 247,\n",
       " 'selenium': 101,\n",
       " 'selenium-webdriver': 47,\n",
       " 'iframe': 67,\n",
       " 'recaptcha': 6,\n",
       " 'webdriverwait': 2,\n",
       " 'seaborn': 12,\n",
       " 'asp.net-identity': 17,\n",
       " 'asp.net-roles': 1,\n",
       " 'navigation-drawer': 16,\n",
       " 'xamarin': 46,\n",
       " 'xamarin.android': 17,\n",
       " 'xamarin.forms': 25,\n",
       " 'pdf': 132,\n",
       " 'deployment': 115,\n",
       " 'location': 16,\n",
       " 'menuitem': 7,\n",
       " 'elasticsearch-bulk-api': 1,\n",
       " 'enums': 117,\n",
       " 'namespaces': 70,\n",
       " 'd3.js': 46,\n",
       " 'pie-chart': 2,\n",
       " 'c3.js': 2,\n",
       " 'donut-chart': 1,\n",
       " 'apache-spark': 108,\n",
       " 'dataframe': 101,\n",
       " 'apache-spark-sql': 31,\n",
       " 'rdd': 5,\n",
       " 'class': 161,\n",
       " 'struct': 60,\n",
       " 'value-type': 6,\n",
       " 'reference-type': 5,\n",
       " 'aws-lambda': 36,\n",
       " 'boxing': 6,\n",
       " 'glossary': 5,\n",
       " 'unboxing': 8,\n",
       " 'f#': 88,\n",
       " 'comparison': 68,\n",
       " 'icomparable': 2,\n",
       " 'vb.net': 263,\n",
       " 'android-keystore': 3,\n",
       " 'android-security': 6,\n",
       " 'android-fingerprint-api': 2,\n",
       " 'arrays': 515,\n",
       " 'coding-style': 124,\n",
       " 'import': 59,\n",
       " 'archive': 16,\n",
       " 'datetime': 225,\n",
       " 'timestamp': 35,\n",
       " 'unix-timestamp': 7,\n",
       " 'hibernate': 203,\n",
       " 'jpa': 107,\n",
       " 'twitter-bootstrap': 182,\n",
       " 'exception': 250,\n",
       " 'system.drawing': 7,\n",
       " 'cross-browser': 50,\n",
       " 'playframework': 25,\n",
       " 'sbt': 21,\n",
       " 'continuous-integration': 76,\n",
       " 'bug-tracking': 19,\n",
       " 'fogbugz': 5,\n",
       " 'cruisecontrol.rb': 1,\n",
       " 'unmount': 1,\n",
       " 'ruby-on-rails': 778,\n",
       " 'ubuntu': 129,\n",
       " 'cron': 36,\n",
       " 'estimation': 6,\n",
       " 'time-management': 5,\n",
       " 'firefox': 145,\n",
       " 'dom': 145,\n",
       " 'plugins': 80,\n",
       " 'mobile-website': 7,\n",
       " 'user-interface': 271,\n",
       " 'hardware': 21,\n",
       " 'monitor': 7,\n",
       " 'environment': 15,\n",
       " 'multi-tenant': 8,\n",
       " 'codeigniter': 53,\n",
       " 'benchmarking': 33,\n",
       " 'ajax': 334,\n",
       " 'scroll': 60,\n",
       " 'angular': 313,\n",
       " 'browser-sync': 2,\n",
       " 'lite-server': 1,\n",
       " 'api': 174,\n",
       " 'picasa': 2,\n",
       " 'photo-management': 1,\n",
       " '.net-client-profile': 2,\n",
       " 'callstack': 9,\n",
       " 'nodes': 4,\n",
       " 'audio': 117,\n",
       " 'terminal': 56,\n",
       " 'escaping': 57,\n",
       " 'webrtc': 17,\n",
       " 'sdp': 1,\n",
       " 'delphi': 314,\n",
       " 'components': 30,\n",
       " 'vcl': 8,\n",
       " 'mindmapping': 1,\n",
       " 'genetic-algorithm': 4,\n",
       " 'genetic-programming': 2,\n",
       " 'evolutionary-algorithm': 3,\n",
       " 'synchronization': 53,\n",
       " 'distributed': 17,\n",
       " 'erd': 3,\n",
       " 'int': 26,\n",
       " 'outlook': 36,\n",
       " 'reminders': 2,\n",
       " 'sqlite': 144,\n",
       " 'react-navigation': 5,\n",
       " 'expo': 8,\n",
       " 'capistrano': 19,\n",
       " 'fonts': 82,\n",
       " 'windows-10': 15,\n",
       " 'ansi': 3,\n",
       " 'awk': 38,\n",
       " 'ruby-on-rails-4': 62,\n",
       " 'strong-parameters': 3,\n",
       " 'flexbox': 28,\n",
       " 'quill': 1,\n",
       " 'ado.net': 69,\n",
       " 'hbm2ddl': 2,\n",
       " 'compiler-construction': 131,\n",
       " 'bootstrapping': 8,\n",
       " 'apache-flex': 95,\n",
       " 'actionscript-3': 91,\n",
       " 'mxml': 6,\n",
       " 'upsert': 4,\n",
       " 'ftp': 42,\n",
       " 'download': 38,\n",
       " 'pdo': 25,\n",
       " 'database-abstraction': 1,\n",
       " 'visual-studio': 558,\n",
       " 'visual-c++': 118,\n",
       " 'opengl': 84,\n",
       " 'glut': 9,\n",
       " 'openid': 42,\n",
       " 'add-in': 15,\n",
       " 'extensibility': 5,\n",
       " 'regex': 471,\n",
       " 'zip': 49,\n",
       " 'text-processing': 6,\n",
       " 'language-features': 38,\n",
       " 'interpreted-language': 7,\n",
       " 'opencv': 94,\n",
       " 'resolutions': 1,\n",
       " 'internet-explorer': 163,\n",
       " 'internet-explorer-6': 25,\n",
       " 'batch-file': 103,\n",
       " 'browser': 121,\n",
       " 'backreference': 1,\n",
       " 'human-readable': 4,\n",
       " 'file-management': 1,\n",
       " 'validation': 189,\n",
       " 'bitmap': 34,\n",
       " 'visual-studio-2015': 39,\n",
       " 'optimization': 207,\n",
       " 'colors': 77,\n",
       " 'rgb': 18,\n",
       " 'monochrome': 1,\n",
       " 'functional-programming': 124,\n",
       " 'closures': 47,\n",
       " 'cygwin': 36,\n",
       " 'mongodb': 140,\n",
       " 'mongodb-query': 11,\n",
       " 'database-cursor': 11,\n",
       " 'menu': 24,\n",
       " 'robotics': 8,\n",
       " 'labview': 2,\n",
       " 'graphical-language': 1,\n",
       " 'scrollwheel': 1,\n",
       " 'wordpress': 104,\n",
       " 'themes': 24,\n",
       " 'evaluation': 8,\n",
       " 'types': 116,\n",
       " 'deprecated': 22,\n",
       " 'stdin': 19,\n",
       " 'boost-graph': 5,\n",
       " 'tortoisesvn': 46,\n",
       " 'visualsvn': 7,\n",
       " 'ankhsvn': 4,\n",
       " 'angularjs-directive': 45,\n",
       " 'intellij-idea': 122,\n",
       " 'debugging': 309,\n",
       " 'exception-handling': 98,\n",
       " 'ember.js': 31,\n",
       " 'ember-data': 9,\n",
       " 'navigation': 24,\n",
       " 'toolbar': 11,\n",
       " 'back': 4,\n",
       " 'visual-studio-2012': 56,\n",
       " 'directx': 19,\n",
       " 'if-statement': 35,\n",
       " 'mouseover': 5,\n",
       " 'internet-explorer-10': 6,\n",
       " 'amazon-s3': 84,\n",
       " 'rspec': 36,\n",
       " 'allure': 1,\n",
       " 'image-processing': 98,\n",
       " 'java-11': 16,\n",
       " 'canvas': 55,\n",
       " 'logging': 180,\n",
       " 'fastify': 1,\n",
       " 'google-maps-api-3': 33,\n",
       " 'firefox-addon': 18,\n",
       " 'firefox-addon-sdk': 5,\n",
       " 'proguard': 7,\n",
       " 'dagger': 3,\n",
       " 'sqlalchemy': 56,\n",
       " 'null-coalescing-operator': 9,\n",
       " 'amd': 3,\n",
       " 'commonjs': 4,\n",
       " 'azure': 123,\n",
       " 'ssh': 79,\n",
       " 'bitbucket': 16,\n",
       " 'continuous-deployment': 6,\n",
       " 'unicode': 138,\n",
       " 'character-properties': 2,\n",
       " 'should.js': 1,\n",
       " 'osgi': 29,\n",
       " 'class-design': 21,\n",
       " 'class-designer': 1,\n",
       " 'vim': 229,\n",
       " 'vi': 28,\n",
       " 'glew': 1,\n",
       " 'build': 85,\n",
       " 'ngen': 4,\n",
       " 'pyobjc': 9,\n",
       " 'security': 279,\n",
       " 'proxy': 62,\n",
       " 'sass': 31,\n",
       " 'compass-sass': 3,\n",
       " 'npm-install': 10,\n",
       " 'jit': 14,\n",
       " 'url-rewriting': 22,\n",
       " 'urlrewriter': 1,\n",
       " 'delphi-2007': 12,\n",
       " 'bit-fields': 8,\n",
       " 'maven': 116,\n",
       " 'spring-boot': 107,\n",
       " 'aop': 25,\n",
       " 'heroku': 64,\n",
       " 'redis': 52,\n",
       " 'console': 70,\n",
       " 'mfc': 51,\n",
       " 'command-line': 164,\n",
       " 'matlab': 118,\n",
       " 'rust': 54,\n",
       " 'default': 19,\n",
       " 'attributes': 52,\n",
       " 'versions': 2,\n",
       " 'c++-cli': 20,\n",
       " 'text-editor': 23,\n",
       " 'textmate': 14,\n",
       " 'spring-security': 42,\n",
       " 'spring-aspects': 1,\n",
       " 'layout': 74,\n",
       " 'statistics': 43,\n",
       " 'puzzle': 19,\n",
       " 'combinations': 12,\n",
       " 'np-complete': 10,\n",
       " 'build-process': 69,\n",
       " 'build-automation': 47,\n",
       " 'multilingual': 11,\n",
       " 'pdf-generation': 19,\n",
       " 'login': 41,\n",
       " 'request': 29,\n",
       " 'scripting': 124,\n",
       " 'url': 111,\n",
       " 'routing': 36,\n",
       " 'sitemap': 9,\n",
       " 'clearcase': 14,\n",
       " 'windows-nt': 2,\n",
       " 'abstract-class': 35,\n",
       " 'static-methods': 12,\n",
       " 'interface-design': 2,\n",
       " 'icalendar': 3,\n",
       " 'sftp': 9,\n",
       " 'ribbon': 3,\n",
       " 'gps': 30,\n",
       " 'mobile-phones': 5,\n",
       " 'winforms': 398,\n",
       " 'tail-recursion': 8,\n",
       " 'standards': 39,\n",
       " 'procedure': 4,\n",
       " 'internet-explorer-7': 23,\n",
       " 'configuration': 106,\n",
       " 'migration': 41,\n",
       " 'nhibernate': 130,\n",
       " 'lucene': 47,\n",
       " 'solr': 24,\n",
       " 'nullpointerexception': 14,\n",
       " 'intellij-inspections': 1,\n",
       " 'ethernet': 6,\n",
       " 'throttling': 5,\n",
       " 'templates': 170,\n",
       " 'xcode4': 3,\n",
       " 'xcode4.5': 4,\n",
       " '.net-2.0': 50,\n",
       " 'profiler': 15,\n",
       " 'android-actionbar': 16,\n",
       " 'android-4.0-ice-cream-sandwich': 2,\n",
       " 'api-design': 5,\n",
       " 'memory-profiling': 1,\n",
       " 'azure-storage': 11,\n",
       " 'azure-table-storage': 4,\n",
       " 'emulation': 15,\n",
       " 'genymotion': 5,\n",
       " 'lamp': 11,\n",
       " 'mediawiki': 8,\n",
       " 'xsd': 63,\n",
       " 'karma-runner': 13,\n",
       " 'angularjs-e2e': 3,\n",
       " 'playframework-2.0': 16,\n",
       " 'ip': 17,\n",
       " 'hostname': 7,\n",
       " 'nslookup': 2,\n",
       " 'web-scraping': 24,\n",
       " 'screen-scraping': 14,\n",
       " 'flexbuilder': 7,\n",
       " 'compilation': 76,\n",
       " 'string-literals': 6,\n",
       " 'widestring': 4,\n",
       " 'django': 615,\n",
       " 'django-models': 87,\n",
       " 'django-views': 17,\n",
       " 'google-maps': 113,\n",
       " 'intentfilter': 5,\n",
       " 'url-scheme': 4,\n",
       " 'android-intent': 51,\n",
       " 'android-calendar': 1,\n",
       " 'annotation-processing': 4,\n",
       " 'date': 159,\n",
       " 'dateinterval': 1,\n",
       " 'encapsulation': 12,\n",
       " 'data-structures': 143,\n",
       " 'linked-list': 25,\n",
       " 'symfony': 80,\n",
       " 'doctrine-orm': 21,\n",
       " 'circular-reference': 4,\n",
       " 'registry': 40,\n",
       " 'contravariance': 1,\n",
       " 'phpunit': 28,\n",
       " 'simpletest': 3,\n",
       " 'asp.net-core': 119,\n",
       " 'asp.net-core-staticfile': 1,\n",
       " 'jakarta-ee': 83,\n",
       " 'weblogic': 18,\n",
       " 'parsing': 183,\n",
       " 'lex': 4,\n",
       " 'overlay': 4,\n",
       " 'osmdroid': 1,\n",
       " 'event-binding': 1,\n",
       " 'user-controls': 60,\n",
       " 'maven-2': 114,\n",
       " 'truncate': 14,\n",
       " 'boost-thread': 5,\n",
       " 'scheme': 21,\n",
       " 'smalltalk': 22,\n",
       " 'continuations': 6,\n",
       " 'elmah': 15,\n",
       " 'noclassdeffounderror': 3,\n",
       " 'microservices': 13,\n",
       " 'reporting': 17,\n",
       " 'ooad': 3,\n",
       " 'introspection': 16,\n",
       " 'iis-6': 24,\n",
       " 'cryptography': 70,\n",
       " 'key': 29,\n",
       " 'rsync': 11,\n",
       " 'tfs': 85,\n",
       " 'macros': 42,\n",
       " 'sharepoint': 83,\n",
       " 'scalability': 28,\n",
       " 'symbols': 13,\n",
       " 'name-mangling': 3,\n",
       " 'hash': 103,\n",
       " 'sha1': 7,\n",
       " 'microcontroller': 10,\n",
       " 'avr': 6,\n",
       " 'encoder': 1,\n",
       " 'atmega': 1,\n",
       " 'autolayout': 27,\n",
       " 'git-push': 13,\n",
       " 'git-for-windows': 1,\n",
       " 'hgignore': 5,\n",
       " 'domain-driven-design': 48,\n",
       " 'onion-architecture': 1,\n",
       " 'accessibility': 31,\n",
       " 'wai-aria': 3,\n",
       " 'virtual-functions': 13,\n",
       " 'wildfly-8': 1,\n",
       " 'hashtable': 24,\n",
       " '.net-1.1': 3,\n",
       " 'unix': 210,\n",
       " 'shared-libraries': 34,\n",
       " 'ldd': 1,\n",
       " 'natural-sort': 3,\n",
       " 'bigdata': 7,\n",
       " 'concurrency': 138,\n",
       " 'terminology': 43,\n",
       " 'race-condition': 13,\n",
       " 'locking': 48,\n",
       " 'deadlock': 19,\n",
       " 'comments': 51,\n",
       " 'semaphore': 7,\n",
       " 'xss': 19,\n",
       " 'sql-injection': 18,\n",
       " 'user-input': 8,\n",
       " 'sanitization': 11,\n",
       " 'mutex': 17,\n",
       " 'bit-manipulation': 43,\n",
       " 'pylons': 6,\n",
       " 'verilog': 4,\n",
       " 'junit': 89,\n",
       " 'tdd': 75,\n",
       " 'mysql-workbench': 6,\n",
       " 'mysql-error-1005': 3,\n",
       " 'nosuchmethoderror': 1,\n",
       " 'reporting-services': 58,\n",
       " 'expression-trees': 23,\n",
       " 'pygame': 15,\n",
       " 'libraries': 10,\n",
       " 'toolkit': 4,\n",
       " '2d-games': 1,\n",
       " 'combobox': 42,\n",
       " 'linker': 80,\n",
       " 'refactoring': 81,\n",
       " 'rewrite': 5,\n",
       " 'redirect': 60,\n",
       " 'openid2': 1,\n",
       " 'branch': 45,\n",
       " 'branching-strategy': 1,\n",
       " 'assembly': 119,\n",
       " 'agile': 30,\n",
       " 'scrum': 22,\n",
       " 'flash': 102,\n",
       " 'silverlight': 112,\n",
       " 'large-files': 12,\n",
       " 'collections': 114,\n",
       " 'dictionary': 141,\n",
       " 'nunit': 38,\n",
       " 'gac': 13,\n",
       " 'gacutil': 2,\n",
       " 'service': 55,\n",
       " 'operators': 45,\n",
       " 'named-instance': 1,\n",
       " 'common-table-expression': 8,\n",
       " 'servlets': 72,\n",
       " 'network-programming': 36,\n",
       " 'ruby-on-rails-3': 33,\n",
       " 'forms-authentication': 19,\n",
       " 'storage': 15,\n",
       " 'varchar': 14,\n",
       " 'nvarchar': 7,\n",
       " 'drupal-theming': 1,\n",
       " 'signing': 6,\n",
       " 'virtualbox': 17,\n",
       " 'swt': 20,\n",
       " 'rcp': 6,\n",
       " 'directive': 8,\n",
       " 'paypal': 20,\n",
       " 'slf4j': 6,\n",
       " 'docker-compose': 40,\n",
       " 'port': 23,\n",
       " 'webrick': 1,\n",
       " 'elixir': 23,\n",
       " 'c++17': 26,\n",
       " 'modelstate': 2,\n",
       " 'ssh-keys': 6,\n",
       " 'inversion-of-control': 46,\n",
       " 'owin': 16,\n",
       " 'messaging': 16,\n",
       " 'chat': 12,\n",
       " 'geometry': 64,\n",
       " '2dsphere': 1,\n",
       " 'reference': 74,\n",
       " 'theory': 25,\n",
       " 'knapsack-problem': 2,\n",
       " 'graphics': 92,\n",
       " 'photoshop': 7,\n",
       " 'signal-processing': 26,\n",
       " 'xhtml': 60,\n",
       " 'code-analysis': 19,\n",
       " 'fxcop': 8,\n",
       " 'suppression': 3,\n",
       " 'initializecomponent': 1,\n",
       " 'mongrel': 8,\n",
       " 'google-app-engine': 128,\n",
       " 'tr1': 10,\n",
       " 'unordered-map': 6,\n",
       " 'xmpp': 13,\n",
       " 'dart': 94,\n",
       " 'agent-based-modeling': 2,\n",
       " 'multi-agent': 2,\n",
       " 'subclipse': 15,\n",
       " 'subversive': 6,\n",
       " 'es6-modules': 5,\n",
       " 'es6-module-loader': 1,\n",
       " 'dynamic-import': 1,\n",
       " '32-bit': 14,\n",
       " 'codehighlighter': 3,\n",
       " 'geshi': 2,\n",
       " 'sql-update': 25,\n",
       " 'rx-java': 10,\n",
       " 'rx-android': 3,\n",
       " 'asp.net-ajax': 21,\n",
       " 'file-upload': 62,\n",
       " 'updatepanel': 17,\n",
       " 'antlr': 10,\n",
       " 'ide': 92,\n",
       " 'apache-poi': 19,\n",
       " 'selection': 9,\n",
       " 'richtextbox': 14,\n",
       " 'gnome': 8,\n",
       " 'kde-plasma': 4,\n",
       " 'voip': 6,\n",
       " 'ivr': 1,\n",
       " 'voicexml': 1,\n",
       " 'geolocation': 29,\n",
       " 'native': 18,\n",
       " 'ubuntu-server': 1,\n",
       " 'gmail': 28,\n",
       " 'pdb-files': 7,\n",
       " 'crashrpt': 1,\n",
       " 'flot': 5,\n",
       " 'shell': 245,\n",
       " 'dvcs': 18,\n",
       " 'add-on': 4,\n",
       " 'pid': 8,\n",
       " 'information-retrieval': 5,\n",
       " 'xul': 11,\n",
       " 'ubiquity': 1,\n",
       " 'client-applications': 1,\n",
       " 'pymongo': 6,\n",
       " 'mono': 53,\n",
       " 'pinvoke': 20,\n",
       " 'solaris': 15,\n",
       " 'quickfix': 1,\n",
       " 'fix-protocol': 1,\n",
       " 'malloc': 26,\n",
       " 'allocation': 10,\n",
       " 'base64': 31,\n",
       " 'opensearch': 1,\n",
       " 'programming-languages': 71,\n",
       " 'time': 83,\n",
       " 'maintainability': 6,\n",
       " 'year2038': 1,\n",
       " 'uninstallation': 11,\n",
       " 'dataset': 27,\n",
       " 'google-maps-api-2': 2,\n",
       " 'synthesizer': 3,\n",
       " 'nant': 9,\n",
       " 'lazy-loading': 13,\n",
       " 'activerecord': 90,\n",
       " 'definition': 17,\n",
       " 'currying': 8,\n",
       " 'computer-science': 29,\n",
       " 'phing': 5,\n",
       " 'svn-merge': 3,\n",
       " 'ascii': 28,\n",
       " 'app-config': 34,\n",
       " 'cpan': 11,\n",
       " 'sgml': 2,\n",
       " 'listview': 77,\n",
       " 'webview': 25,\n",
       " 'flutter': 148,\n",
       " 'urllib': 6,\n",
       " 'python-requests': 19,\n",
       " 'promise': 22,\n",
       " 'observable': 12,\n",
       " 'datagrid': 36,\n",
       " 'controls': 43,\n",
       " 'ipad': 38,\n",
       " 'reportviewer': 12,\n",
       " 'oggvorbis': 1,\n",
       " 'ckan': 2,\n",
       " 'yacc': 7,\n",
       " 'lalr': 1,\n",
       " 'ionic-framework': 28,\n",
       " 'angular-router': 1,\n",
       " 'grep': 48,\n",
       " 'nmea': 2,\n",
       " 'count': 37,\n",
       " 'angular7': 18,\n",
       " 'angular-reactive-forms': 5,\n",
       " 'mod-wsgi': 10,\n",
       " 'android-service': 11,\n",
       " 'iphelper': 1,\n",
       " 'time-series': 26,\n",
       " 'resources': 71,\n",
       " 'jasypt': 1,\n",
       " 'postgresql': 259,\n",
       " 'variables': 91,\n",
       " 'psql': 3,\n",
       " 'backup': 26,\n",
       " 'voice-recognition': 5,\n",
       " 'cookies': 95,\n",
       " 'httponly': 1,\n",
       " 'android-tabhost': 1,\n",
       " 'backwards-compatibility': 9,\n",
       " 'memcached': 26,\n",
       " 'controlpanel': 1,\n",
       " 'eaccelerator': 1,\n",
       " 'parameter-passing': 11,\n",
       " 'variadic-functions': 18,\n",
       " 'argument-unpacking': 1,\n",
       " 'elisp': 47,\n",
       " 'syntax-highlighting': 32,\n",
       " 'protected': 5,\n",
       " 'printing': 58,\n",
       " 'landscape': 4,\n",
       " 'portrait': 2,\n",
       " 'ip-address': 24,\n",
       " 'geography': 9,\n",
       " 'h.264': 4,\n",
       " 'x264': 3,\n",
       " 'libx264': 3,\n",
       " 'kubernetes': 65,\n",
       " 'google-kubernetes-engine': 8,\n",
       " 'asynchronous': 123,\n",
       " 'environment-variables': 35,\n",
       " 'parameters': 67,\n",
       " 'mutable': 10,\n",
       " 'c-preprocessor': 42,\n",
       " 'freebsd': 8,\n",
       " 'lucene.net': 19,\n",
       " 'persistence': 38,\n",
       " 'desktop': 22,\n",
       " 'mod-rewrite': 42,\n",
       " 'x86': 79,\n",
       " 'sse': 14,\n",
       " 'favicon': 8,\n",
       " 'autowired': 3,\n",
       " 'machine-learning': 104,\n",
       " 'p2p': 11,\n",
       " 'fault-tolerance': 4,\n",
       " ...}"
      ]
     },
     "execution_count": 73,
     "metadata": {},
     "output_type": "execute_result"
    }
   ],
   "source": [
    "dico_tags"
   ]
  },
  {
   "cell_type": "raw",
   "id": "a61613ca",
   "metadata": {},
   "source": [
    "Je stock ces informations dans un data frame afin d'explorer les tags les plus fréquents"
   ]
  },
  {
   "cell_type": "code",
   "execution_count": 96,
   "id": "a4b37cc0",
   "metadata": {},
   "outputs": [],
   "source": [
    "tags_df = pd.DataFrame(list(dico_tags.items()), columns = ['Tags', 'Quantity'])"
   ]
  },
  {
   "cell_type": "code",
   "execution_count": 97,
   "id": "57c1b782",
   "metadata": {},
   "outputs": [
    {
     "data": {
      "text/html": [
       "<div>\n",
       "<style scoped>\n",
       "    .dataframe tbody tr th:only-of-type {\n",
       "        vertical-align: middle;\n",
       "    }\n",
       "\n",
       "    .dataframe tbody tr th {\n",
       "        vertical-align: top;\n",
       "    }\n",
       "\n",
       "    .dataframe thead th {\n",
       "        text-align: right;\n",
       "    }\n",
       "</style>\n",
       "<table border=\"1\" class=\"dataframe\">\n",
       "  <thead>\n",
       "    <tr style=\"text-align: right;\">\n",
       "      <th></th>\n",
       "      <th>Tags</th>\n",
       "      <th>Quantity</th>\n",
       "    </tr>\n",
       "  </thead>\n",
       "  <tbody>\n",
       "    <tr>\n",
       "      <th>0</th>\n",
       "      <td>javascript</td>\n",
       "      <td>3355</td>\n",
       "    </tr>\n",
       "    <tr>\n",
       "      <th>1</th>\n",
       "      <td>image</td>\n",
       "      <td>257</td>\n",
       "    </tr>\n",
       "    <tr>\n",
       "      <th>2</th>\n",
       "      <td>firebase</td>\n",
       "      <td>195</td>\n",
       "    </tr>\n",
       "    <tr>\n",
       "      <th>3</th>\n",
       "      <td>react-native</td>\n",
       "      <td>138</td>\n",
       "    </tr>\n",
       "    <tr>\n",
       "      <th>4</th>\n",
       "      <td>firebase-storage</td>\n",
       "      <td>8</td>\n",
       "    </tr>\n",
       "  </tbody>\n",
       "</table>\n",
       "</div>"
      ],
      "text/plain": [
       "               Tags  Quantity\n",
       "0        javascript      3355\n",
       "1             image       257\n",
       "2          firebase       195\n",
       "3      react-native       138\n",
       "4  firebase-storage         8"
      ]
     },
     "execution_count": 97,
     "metadata": {},
     "output_type": "execute_result"
    }
   ],
   "source": [
    "tags_df.head()"
   ]
  },
  {
   "cell_type": "code",
   "execution_count": 98,
   "id": "6cf8612a",
   "metadata": {},
   "outputs": [
    {
     "data": {
      "text/html": [
       "<div>\n",
       "<style scoped>\n",
       "    .dataframe tbody tr th:only-of-type {\n",
       "        vertical-align: middle;\n",
       "    }\n",
       "\n",
       "    .dataframe tbody tr th {\n",
       "        vertical-align: top;\n",
       "    }\n",
       "\n",
       "    .dataframe thead th {\n",
       "        text-align: right;\n",
       "    }\n",
       "</style>\n",
       "<table border=\"1\" class=\"dataframe\">\n",
       "  <thead>\n",
       "    <tr style=\"text-align: right;\">\n",
       "      <th></th>\n",
       "      <th>Quantity</th>\n",
       "    </tr>\n",
       "  </thead>\n",
       "  <tbody>\n",
       "    <tr>\n",
       "      <th>count</th>\n",
       "      <td>13149.000000</td>\n",
       "    </tr>\n",
       "    <tr>\n",
       "      <th>mean</th>\n",
       "      <td>11.595102</td>\n",
       "    </tr>\n",
       "    <tr>\n",
       "      <th>std</th>\n",
       "      <td>96.747311</td>\n",
       "    </tr>\n",
       "    <tr>\n",
       "      <th>min</th>\n",
       "      <td>1.000000</td>\n",
       "    </tr>\n",
       "    <tr>\n",
       "      <th>25%</th>\n",
       "      <td>1.000000</td>\n",
       "    </tr>\n",
       "    <tr>\n",
       "      <th>50%</th>\n",
       "      <td>2.000000</td>\n",
       "    </tr>\n",
       "    <tr>\n",
       "      <th>75%</th>\n",
       "      <td>5.000000</td>\n",
       "    </tr>\n",
       "    <tr>\n",
       "      <th>max</th>\n",
       "      <td>5392.000000</td>\n",
       "    </tr>\n",
       "  </tbody>\n",
       "</table>\n",
       "</div>"
      ],
      "text/plain": [
       "           Quantity\n",
       "count  13149.000000\n",
       "mean      11.595102\n",
       "std       96.747311\n",
       "min        1.000000\n",
       "25%        1.000000\n",
       "50%        2.000000\n",
       "75%        5.000000\n",
       "max     5392.000000"
      ]
     },
     "execution_count": 98,
     "metadata": {},
     "output_type": "execute_result"
    }
   ],
   "source": [
    "tags_df.describe()"
   ]
  },
  {
   "cell_type": "code",
   "execution_count": 138,
   "id": "57863b3d",
   "metadata": {},
   "outputs": [],
   "source": [
    "freqt_tags = pd.DataFrame(tags_df[tags_df['Quantity']>200])"
   ]
  },
  {
   "cell_type": "code",
   "execution_count": 139,
   "id": "4cd55abd",
   "metadata": {},
   "outputs": [
    {
     "data": {
      "text/plain": [
       "(93, 2)"
      ]
     },
     "execution_count": 139,
     "metadata": {},
     "output_type": "execute_result"
    }
   ],
   "source": [
    "freqt_tags.shape"
   ]
  },
  {
   "cell_type": "code",
   "execution_count": 149,
   "id": "624d4fe2",
   "metadata": {},
   "outputs": [
    {
     "data": {
      "text/plain": [
       "['javascript',\n",
       " 'image',\n",
       " 'c#',\n",
       " 'node.js',\n",
       " 'android',\n",
       " 'java',\n",
       " 'sql-server',\n",
       " 'eclipse',\n",
       " 'iphone',\n",
       " 'ios',\n",
       " 'objective-c',\n",
       " 'ios7',\n",
       " 'powershell',\n",
       " 'html',\n",
       " 'css',\n",
       " 'windows',\n",
       " 'git',\n",
       " 'version-control',\n",
       " 'jquery',\n",
       " 'sql',\n",
       " 'tsql',\n",
       " 'python',\n",
       " 'svn',\n",
       " '.net',\n",
       " 'wpf',\n",
       " 'linux',\n",
       " 'bash',\n",
       " 'asp.net',\n",
       " 'oracle',\n",
       " 'json',\n",
       " 'c++',\n",
       " 'asp.net-mvc',\n",
       " 'multithreading',\n",
       " 'pandas',\n",
       " 'typescript',\n",
       " 'php',\n",
       " 'design-patterns',\n",
       " 'angularjs',\n",
       " 'rest',\n",
       " 'c',\n",
       " 'macos',\n",
       " 'sql-server-2005',\n",
       " 'unit-testing',\n",
       " 'language-agnostic',\n",
       " 'math',\n",
       " 'oop',\n",
       " 'scala',\n",
       " 'algorithm',\n",
       " 'string',\n",
       " 'wcf',\n",
       " 'performance',\n",
       " 'linq',\n",
       " 'cocoa',\n",
       " 'cocoa-touch',\n",
       " 'xcode',\n",
       " 'r',\n",
       " 'database',\n",
       " 'generics',\n",
       " 'mysql',\n",
       " 'xml',\n",
       " 'http',\n",
       " 'spring',\n",
       " 'ruby',\n",
       " 'winapi',\n",
       " 'visual-studio-2008',\n",
       " 'perl',\n",
       " 'file',\n",
       " 'swift',\n",
       " 'python-3.x',\n",
       " 'vb.net',\n",
       " 'arrays',\n",
       " 'datetime',\n",
       " 'hibernate',\n",
       " 'exception',\n",
       " 'ruby-on-rails',\n",
       " 'user-interface',\n",
       " 'ajax',\n",
       " 'angular',\n",
       " 'delphi',\n",
       " 'visual-studio',\n",
       " 'regex',\n",
       " 'optimization',\n",
       " 'debugging',\n",
       " 'vim',\n",
       " 'security',\n",
       " 'winforms',\n",
       " 'django',\n",
       " 'unix',\n",
       " 'shell',\n",
       " 'postgresql',\n",
       " 'list',\n",
       " 'reactjs',\n",
       " 'excel']"
      ]
     },
     "execution_count": 149,
     "metadata": {},
     "output_type": "execute_result"
    }
   ],
   "source": [
    "list(freqt_tags['Tags'])"
   ]
  },
  {
   "cell_type": "raw",
   "id": "dc4208a9",
   "metadata": {},
   "source": [
    "je remarque que les ponctuations suivantes font partie des tags les plus fréquents :\n",
    "#\n",
    ".\n",
    "-\n",
    "+\n",
    "Il ne faudra pas les cleaner."
   ]
  },
  {
   "cell_type": "code",
   "execution_count": 148,
   "id": "31f26d55",
   "metadata": {},
   "outputs": [
    {
     "data": {
      "text/plain": [
       "[Text(0.5, 1.0, 'Répartition des effectifs pour les Tags les plus fréquents'),\n",
       " Text(0.5, 0, 'Tags les plus fréquents')]"
      ]
     },
     "execution_count": 148,
     "metadata": {},
     "output_type": "execute_result"
    },
    {
     "data": {
      "image/png": "[encoded data removed]",
      "text/plain": [
       "<Figure size 1080x1440 with 1 Axes>"
      ]
     },
     "metadata": {},
     "output_type": "display_data"
    }
   ],
   "source": [
    "sns.set(rc = {'figure.figsize':(15,20)})\n",
    "fig = sns.barplot(y=freqt_tags['Tags'], x=freqt_tags['Quantity'], orient='h')\n",
    "fig.set(title =\"Répartition des effectifs pour les Tags les plus fréquents\", xlabel=\"Tags les plus fréquents\")"
   ]
  },
  {
   "cell_type": "raw",
   "id": "bbfe6c74",
   "metadata": {},
   "source": [
    "Je crée une liste des tags, qui mer servira pour les exclure du traitement de normalisation."
   ]
  },
  {
   "cell_type": "code",
   "execution_count": 120,
   "id": "536edbe5",
   "metadata": {},
   "outputs": [],
   "source": [
    "tags_liste = list(dico_tags.keys())"
   ]
  },
  {
   "cell_type": "code",
   "execution_count": 121,
   "id": "21af63a5",
   "metadata": {},
   "outputs": [
    {
     "data": {
      "text/plain": [
       "['javascript',\n",
       " 'image',\n",
       " 'firebase',\n",
       " 'react-native',\n",
       " 'firebase-storage',\n",
       " 'c#',\n",
       " 'entity-framework',\n",
       " 'entity-framework-core',\n",
       " 'gtk',\n",
       " 'pygtk',\n",
       " 'node.js',\n",
       " 'npm',\n",
       " 'android',\n",
       " 'android-listview',\n",
       " 'scrollbar',\n",
       " 'java',\n",
       " 'ssl',\n",
       " 'jetty',\n",
       " 'sql-server',\n",
       " 'eclipse',\n",
       " 'jdbc',\n",
       " 'three.js',\n",
       " 'webgl',\n",
       " 'iphone',\n",
       " 'ios',\n",
       " 'objective-c',\n",
       " 'ios7',\n",
       " 'powershell',\n",
       " 'html',\n",
       " 'css',\n",
       " 'position',\n",
       " 'windows',\n",
       " 'git',\n",
       " 'github',\n",
       " 'version-control',\n",
       " 'gitkraken',\n",
       " 'jenkins',\n",
       " 'haskell',\n",
       " 'syntax',\n",
       " 'syntactic-sugar',\n",
       " 'guard',\n",
       " 'jquery',\n",
       " 'google-chrome',\n",
       " 'mobile',\n",
       " 'sql',\n",
       " 'tsql',\n",
       " 'sql-server-2008',\n",
       " 'lisp',\n",
       " 'let',\n",
       " 'do-loops',\n",
       " 'python',\n",
       " 'tkinter',\n",
       " 'matplotlib',\n",
       " 'svn',\n",
       " 'apache2',\n",
       " 'webdav',\n",
       " 'java-8',\n",
       " 'logback',\n",
       " 'completable-future',\n",
       " '.net',\n",
       " 'input',\n",
       " 'android-edittext',\n",
       " 'wpf',\n",
       " 'keyboard',\n",
       " 'caliburn.micro',\n",
       " 'linux',\n",
       " 'bash',\n",
       " 'asp.net',\n",
       " 'google-visualization',\n",
       " 'oracle',\n",
       " 'stored-procedures',\n",
       " 'plsql',\n",
       " 'warnings',\n",
       " 'json',\n",
       " '.net-4.0',\n",
       " 'json.net',\n",
       " 'zsh',\n",
       " 'nitrousio',\n",
       " 'c++',\n",
       " 'gdb',\n",
       " 'stdstring',\n",
       " 'asp.net-mvc',\n",
       " 'asp.net-mvc-3',\n",
       " 'asp.net-mvc-helpers',\n",
       " 'multithreading',\n",
       " 'pandas',\n",
       " 'dask',\n",
       " 'fuzzywuzzy',\n",
       " 'binding',\n",
       " 'datacontext',\n",
       " 'function',\n",
       " 'ocaml',\n",
       " 'infix-notation',\n",
       " 'pydev',\n",
       " 'pylint',\n",
       " 'apache-kafka',\n",
       " 'apache-kafka-streams',\n",
       " 'typescript',\n",
       " 'typescript-typings',\n",
       " 'typescript2.0',\n",
       " 'php',\n",
       " 'model-view-controller',\n",
       " 'design-patterns',\n",
       " 'zend-framework',\n",
       " 'datamapper',\n",
       " 'angularjs',\n",
       " 'rest',\n",
       " 'boost',\n",
       " 'bjam',\n",
       " 'c',\n",
       " 'gcc',\n",
       " 'static-analysis',\n",
       " 'color-scheme',\n",
       " 'macos',\n",
       " 'kernel-extension',\n",
       " 'serialization',\n",
       " 'xamarin.ios',\n",
       " 'permissions',\n",
       " 'android-manifest',\n",
       " 'sql-server-2005',\n",
       " 'breadcrumbs',\n",
       " 'nested-sets',\n",
       " 'mptt',\n",
       " 'db2',\n",
       " 'postback',\n",
       " 'static',\n",
       " 'non-static',\n",
       " 'unit-testing',\n",
       " 'testing',\n",
       " 'automated-tests',\n",
       " 'assertions',\n",
       " 'language-agnostic',\n",
       " 'math',\n",
       " 'encryption',\n",
       " 'oop',\n",
       " 'orm',\n",
       " 'scala',\n",
       " 'jar',\n",
       " 'algorithm',\n",
       " 'string',\n",
       " 'suffix-tree',\n",
       " 'database-design',\n",
       " 'wcf',\n",
       " 'dependencies',\n",
       " 'assemblies',\n",
       " 'performance',\n",
       " 'clr',\n",
       " 'sqlclr',\n",
       " 'cvs',\n",
       " 'tortoisecvs',\n",
       " 'emacs',\n",
       " 'clojure',\n",
       " 'slime',\n",
       " 'alert',\n",
       " 'linq',\n",
       " 'csv',\n",
       " 'split',\n",
       " 'out-of-memory',\n",
       " 'numpy',\n",
       " 'save',\n",
       " 'yaml',\n",
       " '.net-framework-version',\n",
       " 'sockets',\n",
       " 'networking',\n",
       " 'tcp',\n",
       " 'iis',\n",
       " 'upload',\n",
       " 'visual-studio-code',\n",
       " 'makefile',\n",
       " 'epg',\n",
       " 'scheduling',\n",
       " 'timer',\n",
       " 'task',\n",
       " 'readdirectorychangesw',\n",
       " 'reflection',\n",
       " 'go',\n",
       " 'cocoa',\n",
       " 'cocoa-touch',\n",
       " 'xcode',\n",
       " 'initialization',\n",
       " 'whitespace',\n",
       " 'elasticsearch',\n",
       " 'java-me',\n",
       " 'cross-platform',\n",
       " 'portability',\n",
       " 'midp',\n",
       " 'code-golf',\n",
       " 'rosetta-stone',\n",
       " 'icons',\n",
       " 'font-awesome',\n",
       " 'dependency-properties',\n",
       " 'windows-mobile',\n",
       " 'compact-framework',\n",
       " 'r',\n",
       " '64-bit',\n",
       " '32bit-64bit',\n",
       " 'database',\n",
       " 'frameworks',\n",
       " 'client-server',\n",
       " 'point-of-sale',\n",
       " 'generics',\n",
       " 'events',\n",
       " 'delegates',\n",
       " 'constraints',\n",
       " 'cil',\n",
       " 'resharper',\n",
       " 'uml',\n",
       " 'use-case',\n",
       " 'chromium',\n",
       " 'puppeteer',\n",
       " 'histogram',\n",
       " 'montecarlo',\n",
       " 'relational',\n",
       " 'innovation',\n",
       " 'data-binding',\n",
       " 'repeater',\n",
       " 'page-lifecycle',\n",
       " 'red',\n",
       " 'mysql',\n",
       " 'random',\n",
       " 'generator',\n",
       " 'serial-number',\n",
       " 'speech-recognition',\n",
       " 'python-2.7',\n",
       " 'pickle',\n",
       " 'ggplot2',\n",
       " 'drupal',\n",
       " 'video',\n",
       " 'webcam',\n",
       " 'xml',\n",
       " 'rss',\n",
       " 'atom-feed',\n",
       " 'recursion',\n",
       " 'polymorphism',\n",
       " 'binary-tree',\n",
       " 'versioning',\n",
       " 'automation',\n",
       " 'error-handling',\n",
       " 'nlog',\n",
       " 'health-monitoring',\n",
       " 'impersonation',\n",
       " 'http',\n",
       " 'forms',\n",
       " 'post',\n",
       " '.net-3.5',\n",
       " 'content-management-system',\n",
       " 'n2',\n",
       " 'datepart',\n",
       " 'localization',\n",
       " 'internationalization',\n",
       " 'timezone',\n",
       " 'globalization',\n",
       " 'spring',\n",
       " 'charts',\n",
       " 'timeline',\n",
       " 'architecture',\n",
       " 'system-integration',\n",
       " 'ruby',\n",
       " 'sorting',\n",
       " 'installation',\n",
       " 'debian',\n",
       " 'samba',\n",
       " 'windows-xp',\n",
       " 'crash-dumps',\n",
       " 'bsod',\n",
       " 'visual-studio-2005',\n",
       " 'ssas',\n",
       " 'trace',\n",
       " 'olap',\n",
       " 'winapi',\n",
       " 'porting',\n",
       " 'fopen',\n",
       " 'vbscript',\n",
       " 'wmi',\n",
       " 'inheritance',\n",
       " 'constructor',\n",
       " 'hive',\n",
       " 'lxml',\n",
       " 'program-entry-point',\n",
       " 'obfuscation',\n",
       " 'doctest',\n",
       " 'apache',\n",
       " 'tomcat',\n",
       " 'tomcat7',\n",
       " 'configure',\n",
       " 'apr',\n",
       " 'curl',\n",
       " 'spring-mvc',\n",
       " 'dependency-injection',\n",
       " 'memory',\n",
       " 'dispose',\n",
       " 'msxml',\n",
       " 'visual-studio-2008',\n",
       " 'xslt',\n",
       " 'visual-sourcesafe-plugin',\n",
       " 'linq-to-sql',\n",
       " 'perl',\n",
       " 'map',\n",
       " 'virtualpathprovider',\n",
       " 'calendar',\n",
       " 'process',\n",
       " 'session',\n",
       " 'cluster-computing',\n",
       " 'failover',\n",
       " 'session-replication',\n",
       " 'null',\n",
       " 'dbnull',\n",
       " 'mercurial',\n",
       " 'production',\n",
       " 'ini',\n",
       " 'fileparse',\n",
       " 'schema',\n",
       " 'ms-access',\n",
       " 'triggers',\n",
       " 'numbers',\n",
       " 'mysqli',\n",
       " 'indexing',\n",
       " 'visual-studio-2008-sp1',\n",
       " 'configuration-files',\n",
       " 'gd',\n",
       " 'jpeg',\n",
       " 'jsp',\n",
       " 'msbuild',\n",
       " 'clickonce',\n",
       " 'cruisecontrol.net',\n",
       " 'publish',\n",
       " 'web-services',\n",
       " 'datatable',\n",
       " 'file',\n",
       " 'directory',\n",
       " 'common-tasks',\n",
       " 'editor',\n",
       " 'denormalization',\n",
       " 'com',\n",
       " 'interop',\n",
       " 'email',\n",
       " 'laravel',\n",
       " 'docker',\n",
       " 'alpine',\n",
       " 'ionic4',\n",
       " 'encoding',\n",
       " 'azure-cosmosdb',\n",
       " 'azure-cosmosdb-sqlapi',\n",
       " 'profiling',\n",
       " 'caching',\n",
       " 'zend-optimizer',\n",
       " 'swift',\n",
       " 'alamofire',\n",
       " 'multipartform-data',\n",
       " 'swift4.2',\n",
       " 'replication',\n",
       " 'android-6.0-marshmallow',\n",
       " 'search',\n",
       " 'eloquent',\n",
       " 'pagination',\n",
       " 'laravel-blade',\n",
       " 'soap',\n",
       " 'wsdl',\n",
       " 'android-glide',\n",
       " 'android-module',\n",
       " 'jenkins-pipeline',\n",
       " 'jenkins-plugins',\n",
       " 'compiler-optimization',\n",
       " 'python-3.x',\n",
       " 'selenium',\n",
       " 'selenium-webdriver',\n",
       " 'iframe',\n",
       " 'recaptcha',\n",
       " 'webdriverwait',\n",
       " 'seaborn',\n",
       " 'asp.net-identity',\n",
       " 'asp.net-roles',\n",
       " 'navigation-drawer',\n",
       " 'xamarin',\n",
       " 'xamarin.android',\n",
       " 'xamarin.forms',\n",
       " 'pdf',\n",
       " 'deployment',\n",
       " 'location',\n",
       " 'menuitem',\n",
       " 'elasticsearch-bulk-api',\n",
       " 'enums',\n",
       " 'namespaces',\n",
       " 'd3.js',\n",
       " 'pie-chart',\n",
       " 'c3.js',\n",
       " 'donut-chart',\n",
       " 'apache-spark',\n",
       " 'dataframe',\n",
       " 'apache-spark-sql',\n",
       " 'rdd',\n",
       " 'class',\n",
       " 'struct',\n",
       " 'value-type',\n",
       " 'reference-type',\n",
       " 'aws-lambda',\n",
       " 'boxing',\n",
       " 'glossary',\n",
       " 'unboxing',\n",
       " 'f#',\n",
       " 'comparison',\n",
       " 'icomparable',\n",
       " 'vb.net',\n",
       " 'android-keystore',\n",
       " 'android-security',\n",
       " 'android-fingerprint-api',\n",
       " 'arrays',\n",
       " 'coding-style',\n",
       " 'import',\n",
       " 'archive',\n",
       " 'datetime',\n",
       " 'timestamp',\n",
       " 'unix-timestamp',\n",
       " 'hibernate',\n",
       " 'jpa',\n",
       " 'twitter-bootstrap',\n",
       " 'exception',\n",
       " 'system.drawing',\n",
       " 'cross-browser',\n",
       " 'playframework',\n",
       " 'sbt',\n",
       " 'continuous-integration',\n",
       " 'bug-tracking',\n",
       " 'fogbugz',\n",
       " 'cruisecontrol.rb',\n",
       " 'unmount',\n",
       " 'ruby-on-rails',\n",
       " 'ubuntu',\n",
       " 'cron',\n",
       " 'estimation',\n",
       " 'time-management',\n",
       " 'firefox',\n",
       " 'dom',\n",
       " 'plugins',\n",
       " 'mobile-website',\n",
       " 'user-interface',\n",
       " 'hardware',\n",
       " 'monitor',\n",
       " 'environment',\n",
       " 'multi-tenant',\n",
       " 'codeigniter',\n",
       " 'benchmarking',\n",
       " 'ajax',\n",
       " 'scroll',\n",
       " 'angular',\n",
       " 'browser-sync',\n",
       " 'lite-server',\n",
       " 'api',\n",
       " 'picasa',\n",
       " 'photo-management',\n",
       " '.net-client-profile',\n",
       " 'callstack',\n",
       " 'nodes',\n",
       " 'audio',\n",
       " 'terminal',\n",
       " 'escaping',\n",
       " 'webrtc',\n",
       " 'sdp',\n",
       " 'delphi',\n",
       " 'components',\n",
       " 'vcl',\n",
       " 'mindmapping',\n",
       " 'genetic-algorithm',\n",
       " 'genetic-programming',\n",
       " 'evolutionary-algorithm',\n",
       " 'synchronization',\n",
       " 'distributed',\n",
       " 'erd',\n",
       " 'int',\n",
       " 'outlook',\n",
       " 'reminders',\n",
       " 'sqlite',\n",
       " 'react-navigation',\n",
       " 'expo',\n",
       " 'capistrano',\n",
       " 'fonts',\n",
       " 'windows-10',\n",
       " 'ansi',\n",
       " 'awk',\n",
       " 'ruby-on-rails-4',\n",
       " 'strong-parameters',\n",
       " 'flexbox',\n",
       " 'quill',\n",
       " 'ado.net',\n",
       " 'hbm2ddl',\n",
       " 'compiler-construction',\n",
       " 'bootstrapping',\n",
       " 'apache-flex',\n",
       " 'actionscript-3',\n",
       " 'mxml',\n",
       " 'upsert',\n",
       " 'ftp',\n",
       " 'download',\n",
       " 'pdo',\n",
       " 'database-abstraction',\n",
       " 'visual-studio',\n",
       " 'visual-c++',\n",
       " 'opengl',\n",
       " 'glut',\n",
       " 'openid',\n",
       " 'add-in',\n",
       " 'extensibility',\n",
       " 'regex',\n",
       " 'zip',\n",
       " 'text-processing',\n",
       " 'language-features',\n",
       " 'interpreted-language',\n",
       " 'opencv',\n",
       " 'resolutions',\n",
       " 'internet-explorer',\n",
       " 'internet-explorer-6',\n",
       " 'batch-file',\n",
       " 'browser',\n",
       " 'backreference',\n",
       " 'human-readable',\n",
       " 'file-management',\n",
       " 'validation',\n",
       " 'bitmap',\n",
       " 'visual-studio-2015',\n",
       " 'optimization',\n",
       " 'colors',\n",
       " 'rgb',\n",
       " 'monochrome',\n",
       " 'functional-programming',\n",
       " 'closures',\n",
       " 'cygwin',\n",
       " 'mongodb',\n",
       " 'mongodb-query',\n",
       " 'database-cursor',\n",
       " 'menu',\n",
       " 'robotics',\n",
       " 'labview',\n",
       " 'graphical-language',\n",
       " 'scrollwheel',\n",
       " 'wordpress',\n",
       " 'themes',\n",
       " 'evaluation',\n",
       " 'types',\n",
       " 'deprecated',\n",
       " 'stdin',\n",
       " 'boost-graph',\n",
       " 'tortoisesvn',\n",
       " 'visualsvn',\n",
       " 'ankhsvn',\n",
       " 'angularjs-directive',\n",
       " 'intellij-idea',\n",
       " 'debugging',\n",
       " 'exception-handling',\n",
       " 'ember.js',\n",
       " 'ember-data',\n",
       " 'navigation',\n",
       " 'toolbar',\n",
       " 'back',\n",
       " 'visual-studio-2012',\n",
       " 'directx',\n",
       " 'if-statement',\n",
       " 'mouseover',\n",
       " 'internet-explorer-10',\n",
       " 'amazon-s3',\n",
       " 'rspec',\n",
       " 'allure',\n",
       " 'image-processing',\n",
       " 'java-11',\n",
       " 'canvas',\n",
       " 'logging',\n",
       " 'fastify',\n",
       " 'google-maps-api-3',\n",
       " 'firefox-addon',\n",
       " 'firefox-addon-sdk',\n",
       " 'proguard',\n",
       " 'dagger',\n",
       " 'sqlalchemy',\n",
       " 'null-coalescing-operator',\n",
       " 'amd',\n",
       " 'commonjs',\n",
       " 'azure',\n",
       " 'ssh',\n",
       " 'bitbucket',\n",
       " 'continuous-deployment',\n",
       " 'unicode',\n",
       " 'character-properties',\n",
       " 'should.js',\n",
       " 'osgi',\n",
       " 'class-design',\n",
       " 'class-designer',\n",
       " 'vim',\n",
       " 'vi',\n",
       " 'glew',\n",
       " 'build',\n",
       " 'ngen',\n",
       " 'pyobjc',\n",
       " 'security',\n",
       " 'proxy',\n",
       " 'sass',\n",
       " 'compass-sass',\n",
       " 'npm-install',\n",
       " 'jit',\n",
       " 'url-rewriting',\n",
       " 'urlrewriter',\n",
       " 'delphi-2007',\n",
       " 'bit-fields',\n",
       " 'maven',\n",
       " 'spring-boot',\n",
       " 'aop',\n",
       " 'heroku',\n",
       " 'redis',\n",
       " 'console',\n",
       " 'mfc',\n",
       " 'command-line',\n",
       " 'matlab',\n",
       " 'rust',\n",
       " 'default',\n",
       " 'attributes',\n",
       " 'versions',\n",
       " 'c++-cli',\n",
       " 'text-editor',\n",
       " 'textmate',\n",
       " 'spring-security',\n",
       " 'spring-aspects',\n",
       " 'layout',\n",
       " 'statistics',\n",
       " 'puzzle',\n",
       " 'combinations',\n",
       " 'np-complete',\n",
       " 'build-process',\n",
       " 'build-automation',\n",
       " 'multilingual',\n",
       " 'pdf-generation',\n",
       " 'login',\n",
       " 'request',\n",
       " 'scripting',\n",
       " 'url',\n",
       " 'routing',\n",
       " 'sitemap',\n",
       " 'clearcase',\n",
       " 'windows-nt',\n",
       " 'abstract-class',\n",
       " 'static-methods',\n",
       " 'interface-design',\n",
       " 'icalendar',\n",
       " 'sftp',\n",
       " 'ribbon',\n",
       " 'gps',\n",
       " 'mobile-phones',\n",
       " 'winforms',\n",
       " 'tail-recursion',\n",
       " 'standards',\n",
       " 'procedure',\n",
       " 'internet-explorer-7',\n",
       " 'configuration',\n",
       " 'migration',\n",
       " 'nhibernate',\n",
       " 'lucene',\n",
       " 'solr',\n",
       " 'nullpointerexception',\n",
       " 'intellij-inspections',\n",
       " 'ethernet',\n",
       " 'throttling',\n",
       " 'templates',\n",
       " 'xcode4',\n",
       " 'xcode4.5',\n",
       " '.net-2.0',\n",
       " 'profiler',\n",
       " 'android-actionbar',\n",
       " 'android-4.0-ice-cream-sandwich',\n",
       " 'api-design',\n",
       " 'memory-profiling',\n",
       " 'azure-storage',\n",
       " 'azure-table-storage',\n",
       " 'emulation',\n",
       " 'genymotion',\n",
       " 'lamp',\n",
       " 'mediawiki',\n",
       " 'xsd',\n",
       " 'karma-runner',\n",
       " 'angularjs-e2e',\n",
       " 'playframework-2.0',\n",
       " 'ip',\n",
       " 'hostname',\n",
       " 'nslookup',\n",
       " 'web-scraping',\n",
       " 'screen-scraping',\n",
       " 'flexbuilder',\n",
       " 'compilation',\n",
       " 'string-literals',\n",
       " 'widestring',\n",
       " 'django',\n",
       " 'django-models',\n",
       " 'django-views',\n",
       " 'google-maps',\n",
       " 'intentfilter',\n",
       " 'url-scheme',\n",
       " 'android-intent',\n",
       " 'android-calendar',\n",
       " 'annotation-processing',\n",
       " 'date',\n",
       " 'dateinterval',\n",
       " 'encapsulation',\n",
       " 'data-structures',\n",
       " 'linked-list',\n",
       " 'symfony',\n",
       " 'doctrine-orm',\n",
       " 'circular-reference',\n",
       " 'registry',\n",
       " 'contravariance',\n",
       " 'phpunit',\n",
       " 'simpletest',\n",
       " 'asp.net-core',\n",
       " 'asp.net-core-staticfile',\n",
       " 'jakarta-ee',\n",
       " 'weblogic',\n",
       " 'parsing',\n",
       " 'lex',\n",
       " 'overlay',\n",
       " 'osmdroid',\n",
       " 'event-binding',\n",
       " 'user-controls',\n",
       " 'maven-2',\n",
       " 'truncate',\n",
       " 'boost-thread',\n",
       " 'scheme',\n",
       " 'smalltalk',\n",
       " 'continuations',\n",
       " 'elmah',\n",
       " 'noclassdeffounderror',\n",
       " 'microservices',\n",
       " 'reporting',\n",
       " 'ooad',\n",
       " 'introspection',\n",
       " 'iis-6',\n",
       " 'cryptography',\n",
       " 'key',\n",
       " 'rsync',\n",
       " 'tfs',\n",
       " 'macros',\n",
       " 'sharepoint',\n",
       " 'scalability',\n",
       " 'symbols',\n",
       " 'name-mangling',\n",
       " 'hash',\n",
       " 'sha1',\n",
       " 'microcontroller',\n",
       " 'avr',\n",
       " 'encoder',\n",
       " 'atmega',\n",
       " 'autolayout',\n",
       " 'git-push',\n",
       " 'git-for-windows',\n",
       " 'hgignore',\n",
       " 'domain-driven-design',\n",
       " 'onion-architecture',\n",
       " 'accessibility',\n",
       " 'wai-aria',\n",
       " 'virtual-functions',\n",
       " 'wildfly-8',\n",
       " 'hashtable',\n",
       " '.net-1.1',\n",
       " 'unix',\n",
       " 'shared-libraries',\n",
       " 'ldd',\n",
       " 'natural-sort',\n",
       " 'bigdata',\n",
       " 'concurrency',\n",
       " 'terminology',\n",
       " 'race-condition',\n",
       " 'locking',\n",
       " 'deadlock',\n",
       " 'comments',\n",
       " 'semaphore',\n",
       " 'xss',\n",
       " 'sql-injection',\n",
       " 'user-input',\n",
       " 'sanitization',\n",
       " 'mutex',\n",
       " 'bit-manipulation',\n",
       " 'pylons',\n",
       " 'verilog',\n",
       " 'junit',\n",
       " 'tdd',\n",
       " 'mysql-workbench',\n",
       " 'mysql-error-1005',\n",
       " 'nosuchmethoderror',\n",
       " 'reporting-services',\n",
       " 'expression-trees',\n",
       " 'pygame',\n",
       " 'libraries',\n",
       " 'toolkit',\n",
       " '2d-games',\n",
       " 'combobox',\n",
       " 'linker',\n",
       " 'refactoring',\n",
       " 'rewrite',\n",
       " 'redirect',\n",
       " 'openid2',\n",
       " 'branch',\n",
       " 'branching-strategy',\n",
       " 'assembly',\n",
       " 'agile',\n",
       " 'scrum',\n",
       " 'flash',\n",
       " 'silverlight',\n",
       " 'large-files',\n",
       " 'collections',\n",
       " 'dictionary',\n",
       " 'nunit',\n",
       " 'gac',\n",
       " 'gacutil',\n",
       " 'service',\n",
       " 'operators',\n",
       " 'named-instance',\n",
       " 'common-table-expression',\n",
       " 'servlets',\n",
       " 'network-programming',\n",
       " 'ruby-on-rails-3',\n",
       " 'forms-authentication',\n",
       " 'storage',\n",
       " 'varchar',\n",
       " 'nvarchar',\n",
       " 'drupal-theming',\n",
       " 'signing',\n",
       " 'virtualbox',\n",
       " 'swt',\n",
       " 'rcp',\n",
       " 'directive',\n",
       " 'paypal',\n",
       " 'slf4j',\n",
       " 'docker-compose',\n",
       " 'port',\n",
       " 'webrick',\n",
       " 'elixir',\n",
       " 'c++17',\n",
       " 'modelstate',\n",
       " 'ssh-keys',\n",
       " 'inversion-of-control',\n",
       " 'owin',\n",
       " 'messaging',\n",
       " 'chat',\n",
       " 'geometry',\n",
       " '2dsphere',\n",
       " 'reference',\n",
       " 'theory',\n",
       " 'knapsack-problem',\n",
       " 'graphics',\n",
       " 'photoshop',\n",
       " 'signal-processing',\n",
       " 'xhtml',\n",
       " 'code-analysis',\n",
       " 'fxcop',\n",
       " 'suppression',\n",
       " 'initializecomponent',\n",
       " 'mongrel',\n",
       " 'google-app-engine',\n",
       " 'tr1',\n",
       " 'unordered-map',\n",
       " 'xmpp',\n",
       " 'dart',\n",
       " 'agent-based-modeling',\n",
       " 'multi-agent',\n",
       " 'subclipse',\n",
       " 'subversive',\n",
       " 'es6-modules',\n",
       " 'es6-module-loader',\n",
       " 'dynamic-import',\n",
       " '32-bit',\n",
       " 'codehighlighter',\n",
       " 'geshi',\n",
       " 'sql-update',\n",
       " 'rx-java',\n",
       " 'rx-android',\n",
       " 'asp.net-ajax',\n",
       " 'file-upload',\n",
       " 'updatepanel',\n",
       " 'antlr',\n",
       " 'ide',\n",
       " 'apache-poi',\n",
       " 'selection',\n",
       " 'richtextbox',\n",
       " 'gnome',\n",
       " 'kde-plasma',\n",
       " 'voip',\n",
       " 'ivr',\n",
       " 'voicexml',\n",
       " 'geolocation',\n",
       " 'native',\n",
       " 'ubuntu-server',\n",
       " 'gmail',\n",
       " 'pdb-files',\n",
       " 'crashrpt',\n",
       " 'flot',\n",
       " 'shell',\n",
       " 'dvcs',\n",
       " 'add-on',\n",
       " 'pid',\n",
       " 'information-retrieval',\n",
       " 'xul',\n",
       " 'ubiquity',\n",
       " 'client-applications',\n",
       " 'pymongo',\n",
       " 'mono',\n",
       " 'pinvoke',\n",
       " 'solaris',\n",
       " 'quickfix',\n",
       " 'fix-protocol',\n",
       " 'malloc',\n",
       " 'allocation',\n",
       " 'base64',\n",
       " 'opensearch',\n",
       " 'programming-languages',\n",
       " 'time',\n",
       " 'maintainability',\n",
       " 'year2038',\n",
       " 'uninstallation',\n",
       " 'dataset',\n",
       " 'google-maps-api-2',\n",
       " 'synthesizer',\n",
       " 'nant',\n",
       " 'lazy-loading',\n",
       " 'activerecord',\n",
       " 'definition',\n",
       " 'currying',\n",
       " 'computer-science',\n",
       " 'phing',\n",
       " 'svn-merge',\n",
       " 'ascii',\n",
       " 'app-config',\n",
       " 'cpan',\n",
       " 'sgml',\n",
       " 'listview',\n",
       " 'webview',\n",
       " 'flutter',\n",
       " 'urllib',\n",
       " 'python-requests',\n",
       " 'promise',\n",
       " 'observable',\n",
       " 'datagrid',\n",
       " 'controls',\n",
       " 'ipad',\n",
       " 'reportviewer',\n",
       " 'oggvorbis',\n",
       " 'ckan',\n",
       " 'yacc',\n",
       " 'lalr',\n",
       " 'ionic-framework',\n",
       " 'angular-router',\n",
       " 'grep',\n",
       " 'nmea',\n",
       " 'count',\n",
       " 'angular7',\n",
       " 'angular-reactive-forms',\n",
       " 'mod-wsgi',\n",
       " 'android-service',\n",
       " 'iphelper',\n",
       " 'time-series',\n",
       " 'resources',\n",
       " 'jasypt',\n",
       " 'postgresql',\n",
       " 'variables',\n",
       " 'psql',\n",
       " 'backup',\n",
       " 'voice-recognition',\n",
       " 'cookies',\n",
       " 'httponly',\n",
       " 'android-tabhost',\n",
       " 'backwards-compatibility',\n",
       " 'memcached',\n",
       " 'controlpanel',\n",
       " 'eaccelerator',\n",
       " 'parameter-passing',\n",
       " 'variadic-functions',\n",
       " 'argument-unpacking',\n",
       " 'elisp',\n",
       " 'syntax-highlighting',\n",
       " 'protected',\n",
       " 'printing',\n",
       " 'landscape',\n",
       " 'portrait',\n",
       " 'ip-address',\n",
       " 'geography',\n",
       " 'h.264',\n",
       " 'x264',\n",
       " 'libx264',\n",
       " 'kubernetes',\n",
       " 'google-kubernetes-engine',\n",
       " 'asynchronous',\n",
       " 'environment-variables',\n",
       " 'parameters',\n",
       " 'mutable',\n",
       " 'c-preprocessor',\n",
       " 'freebsd',\n",
       " 'lucene.net',\n",
       " 'persistence',\n",
       " 'desktop',\n",
       " 'mod-rewrite',\n",
       " 'x86',\n",
       " 'sse',\n",
       " 'favicon',\n",
       " 'autowired',\n",
       " 'machine-learning',\n",
       " 'p2p',\n",
       " 'fault-tolerance',\n",
       " ...]"
      ]
     },
     "execution_count": 121,
     "metadata": {},
     "output_type": "execute_result"
    }
   ],
   "source": [
    "tags_liste"
   ]
  },
  {
   "cell_type": "code",
   "execution_count": 123,
   "id": "a89e00be",
   "metadata": {},
   "outputs": [
    {
     "data": {
      "text/plain": [
       "13149"
      ]
     },
     "execution_count": 123,
     "metadata": {},
     "output_type": "execute_result"
    }
   ],
   "source": [
    "len(tags_liste)"
   ]
  },
  {
   "cell_type": "markdown",
   "id": "167c9135",
   "metadata": {},
   "source": [
    "#### Tokénisation"
   ]
  },
  {
   "cell_type": "raw",
   "id": "dc9cdd90",
   "metadata": {},
   "source": [
    "la tokénisation se fera seulement après que les tags éventuellement présent aient été extraits afin de ne pas être modifiés."
   ]
  },
  {
   "cell_type": "code",
   "execution_count": 163,
   "id": "5422ff4c",
   "metadata": {},
   "outputs": [],
   "source": [
    "#Fonction de tokénisation qui créé des tokens en conservant les ponctuations de stags fréquents\n",
    "def tokenizer_fct(sentence) :\n",
    "    sentence_clean = sentence.replace('<', ' ').replace('>', ' ').replace('/', ' ').replace('_', ' ').replace(\n",
    "        '\"\"', ' ').replace('(', ' ').replace(')', ' ').replace('[', ' ').replace(']', ' ').replace('*', ' ').replace(\n",
    "        '%', ' ').replace('$', ' ').replace('=', ' ').replace('€', ' ').replace('?', ' ').replace('!', ' ').replace(\n",
    "        ';', ' ').replace('{', ' ').replace('}', ' ').replace('~', ' ').replace('1', ' ').replace('4', ' ').replace(\n",
    "        '6', ' ').replace('9', ' ').replace(':', ' ')\n",
    "    tokens = word_tokenize(sentence_clean)\n",
    "    return tokens"
   ]
  },
  {
   "cell_type": "code",
   "execution_count": 164,
   "id": "d9d12426",
   "metadata": {},
   "outputs": [
    {
     "data": {
      "text/plain": [
       "0    [react-native, download, image, from, firebase...\n",
       "1    [how, to, set, entity, framework, core, migrat...\n",
       "2         [gtk.statusicon, and, gtk.menu, on, windows]\n",
       "3    [how, to, create, shared, package.json, for, m...\n",
       "4    [how, to, add, draggable, scrollbar, to, scrol...\n",
       "Name: Title_t, dtype: object"
      ]
     },
     "execution_count": 164,
     "metadata": {},
     "output_type": "execute_result"
    }
   ],
   "source": [
    "data_c2[\"Title_t\"] = data_c2[\"Title\"].apply(tokenizer_fct)\n",
    "data_c2[\"Title_t\"].head()"
   ]
  },
  {
   "cell_type": "code",
   "execution_count": 165,
   "id": "3cce0ac9",
   "metadata": {
    "scrolled": true
   },
   "outputs": [
    {
     "data": {
      "text/plain": [
       "0    [pre-informations, i, still, have, a, firebase...\n",
       "1    [i, 'm, using, the, latest, .0.0, version, of,...\n",
       "2    [i, have, a, crossplatform, app, that, has, a,...\n",
       "3    [i, am, building, my, app, using, separated, m...\n",
       "4    [i, have, a, listview, that, uses, a, customli...\n",
       "Name: Body_t, dtype: object"
      ]
     },
     "execution_count": 165,
     "metadata": {},
     "output_type": "execute_result"
    }
   ],
   "source": [
    "data_c2[\"Body_t\"] = data_c2[\"Body\"].apply(tokenizer_fct)\n",
    "data_c2[\"Body_t\"].head()"
   ]
  },
  {
   "cell_type": "markdown",
   "id": "989e83be",
   "metadata": {},
   "source": [
    "#### Normalisation"
   ]
  },
  {
   "cell_type": "markdown",
   "id": "109a0201",
   "metadata": {},
   "source": [
    "##### Suppression des mots vides"
   ]
  },
  {
   "cell_type": "raw",
   "id": "633d1b16",
   "metadata": {},
   "source": [
    "Je supprime à présent les mots vides spécifiques de la langue anglaise, ainsi que les mots de petite taille qui ne sont pas de stags. Je vérifie avant qu'aucun stop words ne soient un tag"
   ]
  },
  {
   "cell_type": "code",
   "execution_count": 170,
   "id": "12dabec1",
   "metadata": {},
   "outputs": [],
   "source": [
    "stop_w = list(set(stopwords.words('english')))"
   ]
  },
  {
   "cell_type": "code",
   "execution_count": 234,
   "id": "1d7cccc0",
   "metadata": {},
   "outputs": [
    {
     "data": {
      "text/plain": [
       "['for',\n",
       " 'weren',\n",
       " 'have',\n",
       " 'now',\n",
       " 'were',\n",
       " 'is',\n",
       " 'himself',\n",
       " 'when',\n",
       " \"she's\",\n",
       " \"doesn't\",\n",
       " 'doing',\n",
       " 'so',\n",
       " \"you're\",\n",
       " 'then',\n",
       " 'too',\n",
       " 'wasn',\n",
       " \"weren't\",\n",
       " \"it's\",\n",
       " 'a',\n",
       " \"you'd\",\n",
       " 'most',\n",
       " \"isn't\",\n",
       " 'myself',\n",
       " 'his',\n",
       " 'into',\n",
       " 'y',\n",
       " \"couldn't\",\n",
       " \"don't\",\n",
       " 'mightn',\n",
       " 'from',\n",
       " 'other',\n",
       " 'am',\n",
       " \"haven't\",\n",
       " 'themselves',\n",
       " \"shouldn't\",\n",
       " 'her',\n",
       " \"mightn't\",\n",
       " 'me',\n",
       " 'all',\n",
       " 'by',\n",
       " 'she',\n",
       " 'haven',\n",
       " 'further',\n",
       " \"won't\",\n",
       " 'has',\n",
       " 'your',\n",
       " 'its',\n",
       " 'up',\n",
       " 'why',\n",
       " 'here',\n",
       " 'shouldn',\n",
       " 'll',\n",
       " 'than',\n",
       " 'do',\n",
       " \"didn't\",\n",
       " 'the',\n",
       " \"should've\",\n",
       " 'our',\n",
       " 'out',\n",
       " 'will',\n",
       " 'at',\n",
       " 'we',\n",
       " 'as',\n",
       " \"that'll\",\n",
       " \"you'll\",\n",
       " 'yours',\n",
       " 'those',\n",
       " 'over',\n",
       " 'had',\n",
       " 'with',\n",
       " 'didn',\n",
       " 'mustn',\n",
       " 'to',\n",
       " 'yourself',\n",
       " 'on',\n",
       " 'not',\n",
       " 'aren',\n",
       " 'he',\n",
       " \"hasn't\",\n",
       " 'itself',\n",
       " 'should',\n",
       " 's',\n",
       " 'you',\n",
       " \"you've\",\n",
       " 'o',\n",
       " 'isn',\n",
       " 'hasn',\n",
       " 'what',\n",
       " 'they',\n",
       " 'can',\n",
       " 'nor',\n",
       " 'only',\n",
       " \"aren't\",\n",
       " 'don',\n",
       " 'needn',\n",
       " \"wasn't\",\n",
       " 'down',\n",
       " 'doesn',\n",
       " 'ain',\n",
       " 'while',\n",
       " \"hadn't\",\n",
       " 'did',\n",
       " 'above',\n",
       " 'during',\n",
       " 'won',\n",
       " 'does',\n",
       " 'until',\n",
       " 'shan',\n",
       " 'been',\n",
       " 'no',\n",
       " \"wouldn't\",\n",
       " 'such',\n",
       " 't',\n",
       " 'an',\n",
       " 'through',\n",
       " 'below',\n",
       " 'hadn',\n",
       " 'are',\n",
       " 'again',\n",
       " 'both',\n",
       " 'there',\n",
       " 'more',\n",
       " 'herself',\n",
       " 'own',\n",
       " 'whom',\n",
       " 'about',\n",
       " 'or',\n",
       " 'my',\n",
       " 'under',\n",
       " 'of',\n",
       " 'if',\n",
       " 'it',\n",
       " 'off',\n",
       " 'them',\n",
       " 'which',\n",
       " 're',\n",
       " 'same',\n",
       " 'be',\n",
       " 'very',\n",
       " 'ourselves',\n",
       " 'once',\n",
       " 'ours',\n",
       " 'who',\n",
       " \"needn't\",\n",
       " 'theirs',\n",
       " 'being',\n",
       " 'and',\n",
       " 'before',\n",
       " 'hers',\n",
       " 'but',\n",
       " 'ma',\n",
       " 'him',\n",
       " 'their',\n",
       " \"shan't\",\n",
       " 'i',\n",
       " 'because',\n",
       " 'how',\n",
       " 'few',\n",
       " 'some',\n",
       " 'that',\n",
       " 've',\n",
       " 'couldn',\n",
       " 'just',\n",
       " 'after',\n",
       " \"mustn't\",\n",
       " 'wouldn',\n",
       " 'yourselves',\n",
       " 'these',\n",
       " 'in']"
      ]
     },
     "execution_count": 234,
     "metadata": {},
     "output_type": "execute_result"
    }
   ],
   "source": [
    "stop_w"
   ]
  },
  {
   "cell_type": "code",
   "execution_count": 174,
   "id": "05c949ab",
   "metadata": {},
   "outputs": [
    {
     "name": "stdout",
     "output_type": "stream",
     "text": [
      "['was', 'having', 'each', 'this', 'm', 'd', 'where', 'against', 'any', 'between']\n",
      "10\n"
     ]
    }
   ],
   "source": [
    "stop_w_tags = []\n",
    "for w in stop_w :\n",
    "    if w in tags_liste :\n",
    "        stop_w_tags.append(w)\n",
    "print(stop_w_tags)\n",
    "print(len(stop_w_tags))"
   ]
  },
  {
   "cell_type": "code",
   "execution_count": 192,
   "id": "f60c28a1",
   "metadata": {},
   "outputs": [
    {
     "data": {
      "text/html": [
       "<div>\n",
       "<style scoped>\n",
       "    .dataframe tbody tr th:only-of-type {\n",
       "        vertical-align: middle;\n",
       "    }\n",
       "\n",
       "    .dataframe tbody tr th {\n",
       "        vertical-align: top;\n",
       "    }\n",
       "\n",
       "    .dataframe thead th {\n",
       "        text-align: right;\n",
       "    }\n",
       "</style>\n",
       "<table border=\"1\" class=\"dataframe\">\n",
       "  <thead>\n",
       "    <tr style=\"text-align: right;\">\n",
       "      <th></th>\n",
       "      <th>Tags</th>\n",
       "      <th>Quantity</th>\n",
       "    </tr>\n",
       "  </thead>\n",
       "  <tbody>\n",
       "    <tr>\n",
       "      <th>4881</th>\n",
       "      <td>m</td>\n",
       "      <td>3</td>\n",
       "    </tr>\n",
       "  </tbody>\n",
       "</table>\n",
       "</div>"
      ],
      "text/plain": [
       "     Tags  Quantity\n",
       "4881    m         3"
      ]
     },
     "execution_count": 192,
     "metadata": {},
     "output_type": "execute_result"
    }
   ],
   "source": [
    "tags_df[tags_df['Tags'] == 'm']"
   ]
  },
  {
   "cell_type": "raw",
   "id": "42825db0",
   "metadata": {},
   "source": [
    "je supprime les stop word qui correspondent à des tags. A vérifier si pertinent car ce sont des tags mineurs (<10)"
   ]
  },
  {
   "cell_type": "code",
   "execution_count": 189,
   "id": "33b9c9ba",
   "metadata": {},
   "outputs": [
    {
     "name": "stdout",
     "output_type": "stream",
     "text": [
      "179\n",
      "169\n"
     ]
    }
   ],
   "source": [
    "print(len(stop_w))\n",
    "stop_w = [w for w in stop_w if stop_w_tags.count(w)==0]\n",
    "print(len(stop_w))"
   ]
  },
  {
   "cell_type": "raw",
   "id": "571b504c",
   "metadata": {},
   "source": [
    "J'applique le filtre des mots vides pour Title et Body"
   ]
  },
  {
   "cell_type": "code",
   "execution_count": 193,
   "id": "481d00ef",
   "metadata": {},
   "outputs": [],
   "source": [
    "def stop_word_filter(list_words) :\n",
    "    filtered_w = [w for w in list_words if w not in stop_w]\n",
    "    return filtered_w"
   ]
  },
  {
   "cell_type": "code",
   "execution_count": 203,
   "id": "14042c16",
   "metadata": {},
   "outputs": [
    {
     "data": {
      "text/plain": [
       "0    [react-native, download, image, firebase, stor...\n",
       "1    [set, entity, framework, core, migration, time...\n",
       "2                  [gtk.statusicon, gtk.menu, windows]\n",
       "3    [create, shared, package.json, multiple, npm, ...\n",
       "4    [add, draggable, scrollbar, scrollview, listvi...\n",
       "Name: Title_fw, dtype: object"
      ]
     },
     "execution_count": 203,
     "metadata": {},
     "output_type": "execute_result"
    }
   ],
   "source": [
    "data_c2[\"Title_fw\"] = data_c2[\"Title_t\"].apply(stop_word_filter)\n",
    "data_c2[\"Title_fw\"].head()"
   ]
  },
  {
   "cell_type": "code",
   "execution_count": 204,
   "id": "9fb62e87",
   "metadata": {},
   "outputs": [
    {
     "data": {
      "text/plain": [
       "0    [pre-informations, still, firebase, project, o...\n",
       "1    ['m, using, latest, .0.0, version, ef, core, ....\n",
       "2    [crossplatform, app, gtk.statusicon, sitting, ...\n",
       "3    [building, app, using, separated, micro, servi...\n",
       "4    [listview, uses, customlistadapter, created, ....\n",
       "Name: Body_fw, dtype: object"
      ]
     },
     "execution_count": 204,
     "metadata": {},
     "output_type": "execute_result"
    }
   ],
   "source": [
    "data_c2[\"Body_fw\"] = data_c2[\"Body_t\"].apply(stop_word_filter)\n",
    "data_c2[\"Body_fw\"].head()"
   ]
  },
  {
   "cell_type": "markdown",
   "id": "5767faab",
   "metadata": {},
   "source": [
    "##### Suppression des mots courts"
   ]
  },
  {
   "cell_type": "raw",
   "id": "2af9eaf6",
   "metadata": {},
   "source": [
    "je liste les tags dont la taille est infèrieure ou égale à 2, pour les exclures du filtre"
   ]
  },
  {
   "cell_type": "code",
   "execution_count": 198,
   "id": "cabbb380",
   "metadata": {},
   "outputs": [
    {
     "name": "stdout",
     "output_type": "stream",
     "text": [
      "['c#', 'c', 'go', 'r', 'n2', 'gd', 'f#', 'vi', 'ip', 'io', 'qt', 'na', '2d', '3d', 'z3', 'el', 'dt', 'sp', 'ld', 'k2', 's4', 'tk', 'cp', 'h2', 'ln', 'zk', 'v8', 'sf', 't4', 'q', 'p2', 'm', 'il', 'jq', 'dd', 'e4', 'nm', 'sh', 'tr', 'd', 'ca', 'gm', 'ls', 'tm', 'mq', 'rm', 'np', 'c5', 'mv', 'du', 'fs', 'xs', 'lm', 'oz', 'yo', 'cd', 'ps', 'cg', 'mt', 'ri', 'nt', 'pi', 'ml']\n",
      "63\n"
     ]
    }
   ],
   "source": [
    "tags_liste_2 = [w for w in tags_liste if len(w) <= 2]\n",
    "print(tags_liste_2)\n",
    "print(len(tags_liste_2))"
   ]
  },
  {
   "cell_type": "code",
   "execution_count": 208,
   "id": "76cd3f3d",
   "metadata": {},
   "outputs": [],
   "source": [
    "def short_word_filter(list_words) :\n",
    "    for w in list_words :\n",
    "        if len(w) <= 2 :\n",
    "            if w not in tags_liste :\n",
    "                list_words.remove(w)\n",
    "    return list_words"
   ]
  },
  {
   "cell_type": "code",
   "execution_count": 209,
   "id": "f7096b65",
   "metadata": {},
   "outputs": [
    {
     "data": {
      "text/plain": [
       "0    [react-native, download, image, firebase, stor...\n",
       "1    [set, entity, framework, core, migration, time...\n",
       "2                  [gtk.statusicon, gtk.menu, windows]\n",
       "3    [create, shared, package.json, multiple, npm, ...\n",
       "4    [add, draggable, scrollbar, scrollview, listvi...\n",
       "Name: Title_fw2, dtype: object"
      ]
     },
     "execution_count": 209,
     "metadata": {},
     "output_type": "execute_result"
    }
   ],
   "source": [
    "data_c2[\"Title_fw2\"] = data_c2[\"Title_fw\"].apply(short_word_filter)\n",
    "data_c2[\"Title_fw2\"].head()"
   ]
  },
  {
   "cell_type": "code",
   "execution_count": 210,
   "id": "b31e4296",
   "metadata": {},
   "outputs": [
    {
     "data": {
      "text/plain": [
       "0    [pre-informations, still, firebase, project, o...\n",
       "1    [using, latest, .0.0, version, core, migration...\n",
       "2    [crossplatform, app, gtk.statusicon, sitting, ...\n",
       "3    [building, app, using, separated, micro, servi...\n",
       "4    [listview, uses, customlistadapter, created, u...\n",
       "Name: Body_fw2, dtype: object"
      ]
     },
     "execution_count": 210,
     "metadata": {},
     "output_type": "execute_result"
    }
   ],
   "source": [
    "data_c2[\"Body_fw2\"] = data_c2[\"Body_fw\"].apply(short_word_filter)\n",
    "data_c2[\"Body_fw2\"].head()"
   ]
  },
  {
   "cell_type": "markdown",
   "id": "d340089e",
   "metadata": {},
   "source": [
    "##### Lemmatization"
   ]
  },
  {
   "cell_type": "raw",
   "id": "92eb7406",
   "metadata": {},
   "source": [
    "Cette étape permet de simplifier les champs lexicaux en remplaçant les mots par leur mot racine."
   ]
  },
  {
   "cell_type": "code",
   "execution_count": 213,
   "id": "b1cb3ba9",
   "metadata": {},
   "outputs": [],
   "source": [
    "lemmatizer = WordNetLemmatizer()\n",
    "\n",
    "def lemma_fct(list_words) :\n",
    "    lemma_w = []\n",
    "    for w in list_words :\n",
    "        lemma_w.append(lemmatizer.lemmatize(w))\n",
    "    return lemma_w"
   ]
  },
  {
   "cell_type": "code",
   "execution_count": 220,
   "id": "9f967844",
   "metadata": {},
   "outputs": [
    {
     "data": {
      "text/plain": [
       "0    [react-native, download, image, firebase, stor...\n",
       "1    [set, entity, framework, core, migration, time...\n",
       "2                   [gtk.statusicon, gtk.menu, window]\n",
       "3    [create, shared, package.json, multiple, npm, ...\n",
       "4    [add, draggable, scrollbar, scrollview, listvi...\n",
       "Name: Title_fw3, dtype: object"
      ]
     },
     "execution_count": 220,
     "metadata": {},
     "output_type": "execute_result"
    }
   ],
   "source": [
    "data_c2[\"Title_fw3\"] = data_c2[\"Title_fw2\"].apply(lemma_fct)\n",
    "data_c2[\"Title_fw3\"].head()"
   ]
  },
  {
   "cell_type": "code",
   "execution_count": 221,
   "id": "7235e638",
   "metadata": {},
   "outputs": [
    {
     "data": {
      "text/plain": [
       "0    [pre-informations, still, firebase, project, o...\n",
       "1    [using, latest, .0.0, version, core, migration...\n",
       "2    [crossplatform, app, gtk.statusicon, sitting, ...\n",
       "3    [building, app, using, separated, micro, servi...\n",
       "4    [listview, us, customlistadapter, created, use...\n",
       "Name: Body_fw3, dtype: object"
      ]
     },
     "execution_count": 221,
     "metadata": {},
     "output_type": "execute_result"
    }
   ],
   "source": [
    "data_c2[\"Body_fw3\"] = data_c2[\"Body_fw2\"].apply(lemma_fct)\n",
    "data_c2[\"Body_fw3\"].head()"
   ]
  },
  {
   "cell_type": "code",
   "execution_count": 249,
   "id": "4fd35b77",
   "metadata": {},
   "outputs": [
    {
     "data": {
      "text/plain": [
       "0     [pre-informations, still, firebase, project, o...\n",
       "1     [using, latest, .0.0, version, core, migration...\n",
       "2     [crossplatform, app, gtk.statusicon, sitting, ...\n",
       "3     [building, app, using, separated, micro, servi...\n",
       "4     [listview, us, customlistadapter, created, use...\n",
       "5     [serving, application, use, apache, embedded, ...\n",
       "6     [getting, this, error, repeatedly, trying, con...\n",
       "7     [trying, draw, rotating, 3d, coordinate, syste...\n",
       "8     [updating, app, ios7, appearing, inside, statu...\n",
       "9     [run, this, command, p, c, gwmi, win32, proces...\n",
       "10    [stressed, header, top, page, hope, someone, h...\n",
       "11    [using, gitkraken, git, managing, tool, want, ...\n",
       "12    [trying, use, node.js, programmatically, build...\n",
       "13    [often, hear, phrase, guard, syntactic, sugar,...\n",
       "14    [would, certain, this, question, asked, could,...\n",
       "15    [need, select, return, month, year, within, sp...\n",
       "16    [peter, seibel, practical, common, lisp, give,...\n",
       "17    [snippet, axes3d, self.fig, np.linspace, np.pi...\n",
       "18    ['ve, never, used, any, kind, source, control,...\n",
       "19    [olden, day, threadlocal, program, carry, data...\n",
       "20    [working, service, need, detect, user, state, ...\n",
       "21    [possible, add, something, list, item, show, u...\n",
       "22    [get, caliburn.micro, map, key, gesture, actio...\n",
       "23    [trying, find, way, count, total, number, line...\n",
       "24    [book, javascript, good, part, opening, page, ...\n",
       "25    [trying, get, python, print, content, file, lo...\n",
       "26    [want, create, chart, using, google, chart, in...\n",
       "27    [trying, build, oracle, stored, procedure, acc...\n",
       "28    [trying, clean, warning, old, java, code, ecli...\n",
       "29    [get, error, system.invalidcastexception, unab...\n",
       "Name: Body_fw3, dtype: object"
      ]
     },
     "execution_count": 249,
     "metadata": {},
     "output_type": "execute_result"
    }
   ],
   "source": [
    "data_c2[\"Body_fw3\"][:30]"
   ]
  },
  {
   "cell_type": "code",
   "execution_count": 250,
   "id": "16d61cc4",
   "metadata": {},
   "outputs": [
    {
     "data": {
      "text/plain": [
       "0     [pre-informations, still, firebase, project, o...\n",
       "1     [using, latest, .0.0, version, core, migration...\n",
       "2     [crossplatform, app, gtk.statusicon, sitting, ...\n",
       "3     [building, app, using, separated, micro, servi...\n",
       "4     [listview, uses, customlistadapter, created, u...\n",
       "5     [serving, application, use, apache, embedded, ...\n",
       "6     [getting, this, errors, repeatedly, trying, co...\n",
       "7     [trying, draw, rotating, 3d, coordinate, syste...\n",
       "8     [updating, app, ios7, appearing, inside, statu...\n",
       "9     [run, this, command, ps, c, gwmi, win32, proce...\n",
       "10    [stressed, header, top, page, hope, someone, h...\n",
       "11    [using, gitkraken, git, managing, tool, want, ...\n",
       "12    [trying, use, node.js, programmatically, build...\n",
       "13    [often, hear, phrase, guards, syntactic, sugar...\n",
       "14    [would, certain, this, question, asked, could,...\n",
       "15    [need, select, return, month, year, within, sp...\n",
       "16    [peter, seibel, practical, common, lisp, gives...\n",
       "17    [snippet, axes3d, self.fig, np.linspace, np.pi...\n",
       "18    ['ve, never, used, any, kind, source, control,...\n",
       "19    [olden, days, threadlocal, programs, carry, da...\n",
       "20    [working, service, needs, detect, user, states...\n",
       "21    [possible, add, something, list, items, shows,...\n",
       "22    [get, caliburn.micro, map, key, gesture, actio...\n",
       "23    [trying, find, way, count, total, number, line...\n",
       "24    [book, javascript, good, parts, opening, page,...\n",
       "25    [trying, get, python, print, contents, file, l...\n",
       "26    [want, create, chart, using, google, chart, in...\n",
       "27    [trying, build, oracle, stored, procedure, acc...\n",
       "28    [trying, clean, warnings, old, java, code, ecl...\n",
       "29    [get, error, system.invalidcastexception, unab...\n",
       "Name: Body_fw2, dtype: object"
      ]
     },
     "execution_count": 250,
     "metadata": {},
     "output_type": "execute_result"
    }
   ],
   "source": [
    "data_c2[\"Body_fw2\"][:30]"
   ]
  },
  {
   "cell_type": "markdown",
   "id": "aec4c046",
   "metadata": {},
   "source": [
    "#### Extraction des bi-grams"
   ]
  },
  {
   "cell_type": "raw",
   "id": "de8e1f54",
   "metadata": {},
   "source": [
    "L'objectif est d'explorer les associations de mots, ce qui apporte de la robustesse dans l'analyse du sens du corpus."
   ]
  },
  {
   "cell_type": "code",
   "execution_count": 237,
   "id": "fda7602f",
   "metadata": {},
   "outputs": [],
   "source": [
    "def bi_gram_fct(sentense) :\n",
    "    return list(nltk.bigrams(sentense))"
   ]
  },
  {
   "cell_type": "code",
   "execution_count": 238,
   "id": "8f4b6554",
   "metadata": {},
   "outputs": [
    {
     "data": {
      "text/plain": [
       "0    [(react-native, download), (download, image), ...\n",
       "1    [(set, entity), (entity, framework), (framewor...\n",
       "2     [(gtk.statusicon, gtk.menu), (gtk.menu, window)]\n",
       "3    [(create, shared), (shared, package.json), (pa...\n",
       "4    [(add, draggable), (draggable, scrollbar), (sc...\n",
       "Name: Title_bigram, dtype: object"
      ]
     },
     "execution_count": 238,
     "metadata": {},
     "output_type": "execute_result"
    }
   ],
   "source": [
    "data_c2[\"Title_bigram\"] = data_c2[\"Title_fw3\"].apply(bi_gram_fct)\n",
    "data_c2[\"Title_bigram\"].head()"
   ]
  },
  {
   "cell_type": "code",
   "execution_count": 239,
   "id": "76d27c65",
   "metadata": {},
   "outputs": [
    {
     "data": {
      "text/plain": [
       "0    [(pre-informations, still), (still, firebase),...\n",
       "1    [(using, latest), (latest, .0.0), (.0.0, versi...\n",
       "2    [(crossplatform, app), (app, gtk.statusicon), ...\n",
       "3    [(building, app), (app, using), (using, separa...\n",
       "4    [(listview, us), (us, customlistadapter), (cus...\n",
       "Name: Body_bigram, dtype: object"
      ]
     },
     "execution_count": 239,
     "metadata": {},
     "output_type": "execute_result"
    }
   ],
   "source": [
    "data_c2[\"Body_bigram\"] = data_c2[\"Body_fw3\"].apply(bi_gram_fct)\n",
    "data_c2[\"Body_bigram\"].head()"
   ]
  },
  {
   "cell_type": "markdown",
   "id": "4aac225d",
   "metadata": {},
   "source": [
    "#### Reconstitution des phrases"
   ]
  },
  {
   "cell_type": "code",
   "execution_count": 222,
   "id": "6ba8a41c",
   "metadata": {},
   "outputs": [],
   "source": [
    "def join_fct(sentence) :\n",
    "    return ' '.join(sentence)"
   ]
  },
  {
   "cell_type": "code",
   "execution_count": 223,
   "id": "869be61f",
   "metadata": {},
   "outputs": [
    {
     "data": {
      "text/plain": [
       "0         react-native download image firebase storage\n",
       "1          set entity framework core migration timeout\n",
       "2                       gtk.statusicon gtk.menu window\n",
       "3    create shared package.json multiple npm reposi...\n",
       "4    add draggable scrollbar scrollview listview an...\n",
       "Name: Title_j, dtype: object"
      ]
     },
     "execution_count": 223,
     "metadata": {},
     "output_type": "execute_result"
    }
   ],
   "source": [
    "data_c2[\"Title_j\"] = data_c2[\"Title_fw3\"].apply(join_fct)\n",
    "data_c2[\"Title_j\"].head()"
   ]
  },
  {
   "cell_type": "code",
   "execution_count": 224,
   "id": "1daf45aa",
   "metadata": {},
   "outputs": [
    {
     "data": {
      "text/plain": [
       "0    pre-informations still firebase project opened...\n",
       "1    using latest .0.0 version core migration run q...\n",
       "2    crossplatform app gtk.statusicon sitting tray ...\n",
       "3    building app using separated micro service eac...\n",
       "4    listview us customlistadapter created user scr...\n",
       "Name: Body_j, dtype: object"
      ]
     },
     "execution_count": 224,
     "metadata": {},
     "output_type": "execute_result"
    }
   ],
   "source": [
    "data_c2[\"Body_j\"] = data_c2[\"Body_fw3\"].apply(join_fct)\n",
    "data_c2[\"Body_j\"].head()"
   ]
  },
  {
   "cell_type": "markdown",
   "id": "a5235627",
   "metadata": {},
   "source": [
    "### tf-idf"
   ]
  },
  {
   "cell_type": "markdown",
   "id": "edb6521c",
   "metadata": {},
   "source": [
    "### LDA model"
   ]
  },
  {
   "cell_type": "markdown",
   "id": "a1cb4042",
   "metadata": {},
   "source": [
    "#### création des dictionnaires"
   ]
  },
  {
   "cell_type": "code",
   "execution_count": 243,
   "id": "5c845e1e",
   "metadata": {},
   "outputs": [],
   "source": [
    "def LDA_dict_fct(corpus) :\n",
    "    return corpora.Dictionary(corpus)"
   ]
  },
  {
   "cell_type": "code",
   "execution_count": 245,
   "id": "4d0a8921",
   "metadata": {},
   "outputs": [
    {
     "ename": "TypeError",
     "evalue": "'DataFrame' object is not callable",
     "output_type": "error",
     "traceback": [
      "\u001b[1;31m---------------------------------------------------------------------------\u001b[0m",
      "\u001b[1;31mTypeError\u001b[0m                                 Traceback (most recent call last)",
      "Input \u001b[1;32mIn [245]\u001b[0m, in \u001b[0;36m<cell line: 1>\u001b[1;34m()\u001b[0m\n\u001b[1;32m----> 1\u001b[0m LDA_dict_title \u001b[38;5;241m=\u001b[39m LDA_dict_fct(\u001b[38;5;28mlist\u001b[39m(\u001b[43mdata_c2\u001b[49m\u001b[43m(\u001b[49m\u001b[43m[\u001b[49m\u001b[38;5;124;43m'\u001b[39;49m\u001b[38;5;124;43mTitle_fw3\u001b[39;49m\u001b[38;5;124;43m'\u001b[39;49m\u001b[43m]\u001b[49m\u001b[43m)\u001b[49m))\n",
      "\u001b[1;31mTypeError\u001b[0m: 'DataFrame' object is not callable"
     ]
    }
   ],
   "source": [
    "LDA_dict_title = LDA_dict_fct(list(data_c2(['Title_fw3'])))"
   ]
  },
  {
   "cell_type": "code",
   "execution_count": null,
   "id": "0d7b6ee9",
   "metadata": {},
   "outputs": [],
   "source": []
  }
 ],
 "metadata": {
  "kernelspec": {
   "display_name": "Python 3 (ipykernel)",
   "language": "python",
   "name": "python3"
  },
  "language_info": {
   "codemirror_mode": {
    "name": "ipython",
    "version": 3
   },
   "file_extension": ".py",
   "mimetype": "text/x-python",
   "name": "python",
   "nbconvert_exporter": "python",
   "pygments_lexer": "ipython3",
   "version": "3.10.4"
  }
 },
 "nbformat": 4,
 "nbformat_minor": 5
}
